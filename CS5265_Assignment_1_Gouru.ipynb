{
  "nbformat": 4,
  "nbformat_minor": 0,
  "metadata": {
    "colab": {
      "name": " CS5265-Assignment-1-Gouru.ipynb",
      "provenance": [],
      "collapsed_sections": [],
      "include_colab_link": true
    },
    "kernelspec": {
      "name": "python3",
      "display_name": "Python 3"
    },
    "language_info": {
      "name": "python"
    }
  },
  "cells": [
    {
      "cell_type": "markdown",
      "metadata": {
        "id": "view-in-github",
        "colab_type": "text"
      },
      "source": [
        "<a href=\"https://colab.research.google.com/github/MaheshGouru/CS5265-Assignment-1/blob/main/CS5265_Assignment_1_Gouru.ipynb\" target=\"_parent\"><img src=\"https://colab.research.google.com/assets/colab-badge.svg\" alt=\"Open In Colab\"/></a>"
      ]
    },
    {
      "cell_type": "markdown",
      "source": [
        "# Background\n",
        "With the rise of GPUs accelerating workloads for notably Apple's Neural Engine, Electric Vehicles autonomous functionalities, and data-mining for medicine, generating a benchmark for which configurations would be sufficiently suited for a developer would enable affordability, accessibility, and scalability amongst heterogenous architectures. Hosted on the UCI Machine Learning Repository as released from Enrique G. Paredes and Rafael Ballester-Ripoll of University of Zurich, the SGEMM GPU kernel performance Data Set publishes \"running times for multiplying two 2048 x 2048 matrices using a GPU OpenCL SGEMM kernel with varying parameters (using the library 'CLTune')\". SGEMM is short for \"Single precision GEneral Matrix Multiply\" which addresses matrix-matrix products of float 32 bits.\n",
        "\n",
        "The dataset has 14 parameters with 10 are ordinal and 4 are categorical (binary).\n",
        "\n",
        "The experiment used a workstation running Ubuntu 16.04 Linux with an Intel Core i5 (3.5GHz), 16GB RAM, and a NVidia Geforce GTX 680 4GB GF580 GTX-1.5GB GPU. This configuration can be replicated and reproduced for the sake of the exercise. The'gemm_fast' kernel from the automatic OpenCL kernel tuning library \"CLTune\" was used to interface the scripts with the GPU drivers.\n",
        "\n",
        "# Project Description\n",
        "Extracted from the dataset, the attribute information is as provided:\n",
        "\n",
        "## Independent variables:\n",
        "1-2. MWG, NWG: per-matrix 2D tiling at workgroup level: {16, 32, 64, 128} (integer)\n",
        "\n",
        "3.&nbsp; KWG: inner dimension of 2D tiling at workgroup level: {16, 32} (integer)\n",
        "\n",
        "4-5. MDIMC, NDIMC: local workgroup size: {8, 16, 32} (integer)\n",
        "\n",
        "6-7. MDIMA, NDIMB: local memory shape: {8, 16, 32} (integer)\n",
        "\n",
        "8.&nbsp; KWI: kernel loop unrolling factor: {2, 8} (integer)\n",
        "\n",
        "9-10. VWM, VWN: per-matrix vector widths for loading and storing: {1, 2, 4, 8} (integer)\n",
        "\n",
        "11-12. STRM, STRN: enable stride for accessing off-chip memory within a single thread: {0, 1} (categorical)\n",
        "\n",
        "13-14. SA, SB: per-matrix manual caching of the 2D workgroup tile: {0, 1} (categorical)\n",
        "\n",
        "The purpose would be interact with a wizard to recommend the most cost-effective configuration, such as those used on various cloud platforms like AWS, GCP, and Azure.\n",
        "\n",
        "# Performance Metric(s)\n",
        "The output are logged in columns 15-18. These columns log the performance times in milliseconds for 4 independent runs using the same parameters. As noted, the range is between 13.25 and 3397.08.\n",
        "\n",
        "As cited, a proportion of this data set was used to compute a tensor train based predictive model and estimate the Sobol sensitivity indices of all the parameters which could then be replicated as well to go through the exercise of benchmarking architectures for industry applications such as provided by TrTransaction Processing Performance Council (TPC) for decision support.\n",
        "\n",
        "#References\n",
        "https://archive.ics.uci.edu/ml/datasets/SGEMM+GPU+kernel+performance\n",
        "https://docs.nvidia.com/deeplearning/performance/dl-performance-matrix-multiplication/index.html\n",
        "\n",
        "---"
      ],
      "metadata": {
        "id": "YQe7Mqbf0f2C"
      }
    },
    {
      "cell_type": "markdown",
      "source": [
        "## Clarification on Datasets needed for the Project Assignments\n",
        "Just to recap some important highlights of the datasets needed for the upcoming project assignments:\n",
        "\n",
        "- Size: at least 5000 datapoints (samples/rows/records), less than 100,000 datapoints are recommended\n",
        "\n",
        "- #&nbsp;of columns: at least 7 attributes/features/variables (columns) are needed \n",
        "\n",
        "- Types of columns: a good dataset will contain not only numerical columns but also categorical columns (e.g., gender, dates, or anything else that has a finite number of categories) \n",
        "\n",
        "Some resources for acquiring data: \n",
        "\n",
        "- https://www.kaggle.com/datasets\n",
        "\n",
        "- https://datasetsearch.research.google.com/ \n",
        "\n",
        "- https://archive.ics.uci.edu/ml/datasets.php \n",
        "---"
      ],
      "metadata": {
        "collapsed": false,
        "id": "F9DdQYF1wNRR"
      }
    },
    {
      "cell_type": "markdown",
      "source": [
        "**III. Tasks**\n",
        "> [Task 2] Basic EDA: Describe 3-5 questions you would like to answer by examining the data in the issue description/detail section in a separate TEXT cell in your Jupyter Notebook\n",
        "1. What is the relationship between per-matrix 2D tiling at workgroup level and \n",
        "the fastest initial test run?\n",
        "2. What is the most used inner dimension of 2D tiling at workgroup level?\n",
        "3. What is the fastest run after initial compiling by each of the available kernel loop unrolling factors?"
      ],
      "metadata": {
        "id": "tCYJBYtO5cWE"
      }
    },
    {
      "cell_type": "code",
      "execution_count": 2,
      "metadata": {
        "id": "Yr8tRuljz3uL"
      },
      "outputs": [],
      "source": [
        "# tables and visualizations\n",
        "import pandas as pd\n",
        "import numpy as np\n",
        "import seaborn as sns\n",
        "import matplotlib.pyplot as plt\n",
        "\n",
        "#machine learning\n",
        "from sklearn.model_selection import train_test_split, GridSearchCV\n",
        "from sklearn.linear_model import LogisticRegression\n",
        "from sklearn.ensemble import RandomForestClassifier, GradientBoostingClassifier\n",
        "from sklearn.pipeline import Pipeline \n",
        "from sklearn.compose import ColumnTransformer, make_column_selector\n",
        "from sklearn.impute import SimpleImputer\n",
        "from sklearn.preprocessing import OneHotEncoder, LabelBinarizer, StandardScaler\n",
        "from sklearn import config_context\n",
        "from sklearn.metrics import classification_report, confusion_matrix, ConfusionMatrixDisplay, roc_curve, roc_auc_score, precision_recall_curve, PrecisionRecallDisplay\n"
      ]
    },
    {
      "cell_type": "code",
      "source": [
        "gpus = pd.read_csv('https://raw.githubusercontent.com/MaheshGouru/CS5265-Assignment-1/main/sgemm_product.csv')\n",
        "# gpus = sns.load_data('gpus')\n",
        "\n",
        "display(gpus.sample(1))\n",
        "gpus.info()"
      ],
      "metadata": {
        "colab": {
          "base_uri": "https://localhost:8080/",
          "height": 596
        },
        "id": "pLDkLHmvyztD",
        "outputId": "a40424cb-5252-4329-bdae-9e3cd74c694a"
      },
      "execution_count": 3,
      "outputs": [
        {
          "output_type": "display_data",
          "data": {
            "text/plain": [
              "        MWG  NWG  KWG  MDIMC  NDIMC  MDIMA  NDIMB  KWI  VWM  VWN  STRM  STRN  \\\n",
              "169218  128   64   16      8      8      8      8    2    2    4     0     0   \n",
              "\n",
              "        SA  SB  Run1 (ms)  Run2 (ms)  Run3 (ms)  Run4 (ms)  \n",
              "169218   1   0     546.22      545.6     543.61     546.37  "
            ],
            "text/html": [
              "\n",
              "  <div id=\"df-4b15a940-3870-43ea-bc3d-55629333c02f\">\n",
              "    <div class=\"colab-df-container\">\n",
              "      <div>\n",
              "<style scoped>\n",
              "    .dataframe tbody tr th:only-of-type {\n",
              "        vertical-align: middle;\n",
              "    }\n",
              "\n",
              "    .dataframe tbody tr th {\n",
              "        vertical-align: top;\n",
              "    }\n",
              "\n",
              "    .dataframe thead th {\n",
              "        text-align: right;\n",
              "    }\n",
              "</style>\n",
              "<table border=\"1\" class=\"dataframe\">\n",
              "  <thead>\n",
              "    <tr style=\"text-align: right;\">\n",
              "      <th></th>\n",
              "      <th>MWG</th>\n",
              "      <th>NWG</th>\n",
              "      <th>KWG</th>\n",
              "      <th>MDIMC</th>\n",
              "      <th>NDIMC</th>\n",
              "      <th>MDIMA</th>\n",
              "      <th>NDIMB</th>\n",
              "      <th>KWI</th>\n",
              "      <th>VWM</th>\n",
              "      <th>VWN</th>\n",
              "      <th>STRM</th>\n",
              "      <th>STRN</th>\n",
              "      <th>SA</th>\n",
              "      <th>SB</th>\n",
              "      <th>Run1 (ms)</th>\n",
              "      <th>Run2 (ms)</th>\n",
              "      <th>Run3 (ms)</th>\n",
              "      <th>Run4 (ms)</th>\n",
              "    </tr>\n",
              "  </thead>\n",
              "  <tbody>\n",
              "    <tr>\n",
              "      <th>169218</th>\n",
              "      <td>128</td>\n",
              "      <td>64</td>\n",
              "      <td>16</td>\n",
              "      <td>8</td>\n",
              "      <td>8</td>\n",
              "      <td>8</td>\n",
              "      <td>8</td>\n",
              "      <td>2</td>\n",
              "      <td>2</td>\n",
              "      <td>4</td>\n",
              "      <td>0</td>\n",
              "      <td>0</td>\n",
              "      <td>1</td>\n",
              "      <td>0</td>\n",
              "      <td>546.22</td>\n",
              "      <td>545.6</td>\n",
              "      <td>543.61</td>\n",
              "      <td>546.37</td>\n",
              "    </tr>\n",
              "  </tbody>\n",
              "</table>\n",
              "</div>\n",
              "      <button class=\"colab-df-convert\" onclick=\"convertToInteractive('df-4b15a940-3870-43ea-bc3d-55629333c02f')\"\n",
              "              title=\"Convert this dataframe to an interactive table.\"\n",
              "              style=\"display:none;\">\n",
              "        \n",
              "  <svg xmlns=\"http://www.w3.org/2000/svg\" height=\"24px\"viewBox=\"0 0 24 24\"\n",
              "       width=\"24px\">\n",
              "    <path d=\"M0 0h24v24H0V0z\" fill=\"none\"/>\n",
              "    <path d=\"M18.56 5.44l.94 2.06.94-2.06 2.06-.94-2.06-.94-.94-2.06-.94 2.06-2.06.94zm-11 1L8.5 8.5l.94-2.06 2.06-.94-2.06-.94L8.5 2.5l-.94 2.06-2.06.94zm10 10l.94 2.06.94-2.06 2.06-.94-2.06-.94-.94-2.06-.94 2.06-2.06.94z\"/><path d=\"M17.41 7.96l-1.37-1.37c-.4-.4-.92-.59-1.43-.59-.52 0-1.04.2-1.43.59L10.3 9.45l-7.72 7.72c-.78.78-.78 2.05 0 2.83L4 21.41c.39.39.9.59 1.41.59.51 0 1.02-.2 1.41-.59l7.78-7.78 2.81-2.81c.8-.78.8-2.07 0-2.86zM5.41 20L4 18.59l7.72-7.72 1.47 1.35L5.41 20z\"/>\n",
              "  </svg>\n",
              "      </button>\n",
              "      \n",
              "  <style>\n",
              "    .colab-df-container {\n",
              "      display:flex;\n",
              "      flex-wrap:wrap;\n",
              "      gap: 12px;\n",
              "    }\n",
              "\n",
              "    .colab-df-convert {\n",
              "      background-color: #E8F0FE;\n",
              "      border: none;\n",
              "      border-radius: 50%;\n",
              "      cursor: pointer;\n",
              "      display: none;\n",
              "      fill: #1967D2;\n",
              "      height: 32px;\n",
              "      padding: 0 0 0 0;\n",
              "      width: 32px;\n",
              "    }\n",
              "\n",
              "    .colab-df-convert:hover {\n",
              "      background-color: #E2EBFA;\n",
              "      box-shadow: 0px 1px 2px rgba(60, 64, 67, 0.3), 0px 1px 3px 1px rgba(60, 64, 67, 0.15);\n",
              "      fill: #174EA6;\n",
              "    }\n",
              "\n",
              "    [theme=dark] .colab-df-convert {\n",
              "      background-color: #3B4455;\n",
              "      fill: #D2E3FC;\n",
              "    }\n",
              "\n",
              "    [theme=dark] .colab-df-convert:hover {\n",
              "      background-color: #434B5C;\n",
              "      box-shadow: 0px 1px 3px 1px rgba(0, 0, 0, 0.15);\n",
              "      filter: drop-shadow(0px 1px 2px rgba(0, 0, 0, 0.3));\n",
              "      fill: #FFFFFF;\n",
              "    }\n",
              "  </style>\n",
              "\n",
              "      <script>\n",
              "        const buttonEl =\n",
              "          document.querySelector('#df-4b15a940-3870-43ea-bc3d-55629333c02f button.colab-df-convert');\n",
              "        buttonEl.style.display =\n",
              "          google.colab.kernel.accessAllowed ? 'block' : 'none';\n",
              "\n",
              "        async function convertToInteractive(key) {\n",
              "          const element = document.querySelector('#df-4b15a940-3870-43ea-bc3d-55629333c02f');\n",
              "          const dataTable =\n",
              "            await google.colab.kernel.invokeFunction('convertToInteractive',\n",
              "                                                     [key], {});\n",
              "          if (!dataTable) return;\n",
              "\n",
              "          const docLinkHtml = 'Like what you see? Visit the ' +\n",
              "            '<a target=\"_blank\" href=https://colab.research.google.com/notebooks/data_table.ipynb>data table notebook</a>'\n",
              "            + ' to learn more about interactive tables.';\n",
              "          element.innerHTML = '';\n",
              "          dataTable['output_type'] = 'display_data';\n",
              "          await google.colab.output.renderOutput(dataTable, element);\n",
              "          const docLink = document.createElement('div');\n",
              "          docLink.innerHTML = docLinkHtml;\n",
              "          element.appendChild(docLink);\n",
              "        }\n",
              "      </script>\n",
              "    </div>\n",
              "  </div>\n",
              "  "
            ]
          },
          "metadata": {}
        },
        {
          "output_type": "stream",
          "name": "stdout",
          "text": [
            "<class 'pandas.core.frame.DataFrame'>\n",
            "RangeIndex: 241600 entries, 0 to 241599\n",
            "Data columns (total 18 columns):\n",
            " #   Column     Non-Null Count   Dtype  \n",
            "---  ------     --------------   -----  \n",
            " 0   MWG        241600 non-null  int64  \n",
            " 1   NWG        241600 non-null  int64  \n",
            " 2   KWG        241600 non-null  int64  \n",
            " 3   MDIMC      241600 non-null  int64  \n",
            " 4   NDIMC      241600 non-null  int64  \n",
            " 5   MDIMA      241600 non-null  int64  \n",
            " 6   NDIMB      241600 non-null  int64  \n",
            " 7   KWI        241600 non-null  int64  \n",
            " 8   VWM        241600 non-null  int64  \n",
            " 9   VWN        241600 non-null  int64  \n",
            " 10  STRM       241600 non-null  int64  \n",
            " 11  STRN       241600 non-null  int64  \n",
            " 12  SA         241600 non-null  int64  \n",
            " 13  SB         241600 non-null  int64  \n",
            " 14  Run1 (ms)  241600 non-null  float64\n",
            " 15  Run2 (ms)  241600 non-null  float64\n",
            " 16  Run3 (ms)  241600 non-null  float64\n",
            " 17  Run4 (ms)  241600 non-null  float64\n",
            "dtypes: float64(4), int64(14)\n",
            "memory usage: 33.2 MB\n"
          ]
        }
      ]
    },
    {
      "cell_type": "markdown",
      "source": [
        "**Exploratory Data Analysis**"
      ],
      "metadata": {
        "id": "w5tke1-_0A_B"
      }
    },
    {
      "cell_type": "code",
      "source": [
        "gpus['MWG'].value_counts()"
      ],
      "metadata": {
        "colab": {
          "base_uri": "https://localhost:8080/"
        },
        "id": "JT09fa1LzUUa",
        "outputId": "97b5aef5-f468-4624-ca4b-41761af9bf71"
      },
      "execution_count": 4,
      "outputs": [
        {
          "output_type": "execute_result",
          "data": {
            "text/plain": [
              "128    99808\n",
              "64     75584\n",
              "32     47264\n",
              "16     18944\n",
              "Name: MWG, dtype: int64"
            ]
          },
          "metadata": {},
          "execution_count": 4
        }
      ]
    },
    {
      "cell_type": "code",
      "source": [
        "gpus.isna().sum()"
      ],
      "metadata": {
        "colab": {
          "base_uri": "https://localhost:8080/"
        },
        "id": "pSC2-5kp0aEc",
        "outputId": "1759729e-d3d8-4762-9415-9408efef42d0"
      },
      "execution_count": 5,
      "outputs": [
        {
          "output_type": "execute_result",
          "data": {
            "text/plain": [
              "MWG          0\n",
              "NWG          0\n",
              "KWG          0\n",
              "MDIMC        0\n",
              "NDIMC        0\n",
              "MDIMA        0\n",
              "NDIMB        0\n",
              "KWI          0\n",
              "VWM          0\n",
              "VWN          0\n",
              "STRM         0\n",
              "STRN         0\n",
              "SA           0\n",
              "SB           0\n",
              "Run1 (ms)    0\n",
              "Run2 (ms)    0\n",
              "Run3 (ms)    0\n",
              "Run4 (ms)    0\n",
              "dtype: int64"
            ]
          },
          "metadata": {},
          "execution_count": 5
        }
      ]
    },
    {
      "cell_type": "markdown",
      "source": [
        "1. What is the relationship between per-matrix 2D tiling at workgroup level and the fastest initial test run?"
      ],
      "metadata": {
        "id": "JEAq_bo-JLq0"
      }
    },
    {
      "cell_type": "code",
      "source": [
        "sns.scatterplot(x=gpus['MWG'], y=gpus['Run1 (ms)'])"
      ],
      "metadata": {
        "colab": {
          "base_uri": "https://localhost:8080/",
          "height": 300
        },
        "id": "Qy4RYsDKJMYV",
        "outputId": "43fb277b-526d-41e3-8471-7ce928481313"
      },
      "execution_count": 6,
      "outputs": [
        {
          "output_type": "execute_result",
          "data": {
            "text/plain": [
              "<matplotlib.axes._subplots.AxesSubplot at 0x7f01cdfa75d0>"
            ]
          },
          "metadata": {},
          "execution_count": 6
        },
        {
          "output_type": "display_data",
          "data": {
            "text/plain": [
              "<Figure size 432x288 with 1 Axes>"
            ],
            "image/png": "[encoded data removed]"
          },
          "metadata": {
            "needs_background": "light"
          }
        }
      ]
    },
    {
      "cell_type": "markdown",
      "source": [
        "The relationship between per-matrix 2D tilling at the workgroup level and fastest initial test run is those with 16 MWGs ran the fastest based on the short range."
      ],
      "metadata": {
        "id": "i5NfKumiLXFn"
      }
    },
    {
      "cell_type": "markdown",
      "source": [
        "2. What is the most used inner dimension of 2D tiling at workgroup level?"
      ],
      "metadata": {
        "id": "W1norBVsIabG"
      }
    },
    {
      "cell_type": "code",
      "source": [
        "# Creating a pie chart to visualize porportions of the inner dimension of 2D \n",
        "# tiling at workgroup level in this data\n",
        "methods_counts = gpus['KWG'].value_counts()\n",
        "display(methods_counts)\n",
        "\n",
        "plt.pie(methods_counts, labels=methods_counts.index, shadow = True)"
      ],
      "metadata": {
        "colab": {
          "base_uri": "https://localhost:8080/",
          "height": 370
        },
        "id": "ky3MhhKo0gLY",
        "outputId": "45c2e726-b671-49f3-9059-2bfc4ff5c6de"
      },
      "execution_count": 7,
      "outputs": [
        {
          "output_type": "display_data",
          "data": {
            "text/plain": [
              "32    143648\n",
              "16     97952\n",
              "Name: KWG, dtype: int64"
            ]
          },
          "metadata": {}
        },
        {
          "output_type": "execute_result",
          "data": {
            "text/plain": [
              "([<matplotlib.patches.Wedge at 0x7f01cda68f10>,\n",
              "  <matplotlib.patches.Wedge at 0x7f01cda75350>],\n",
              " [Text(-0.32202233899583776, 1.0518087341278592, '32'),\n",
              "  Text(0.3220224374732771, -1.0518087039779476, '16')])"
            ]
          },
          "metadata": {},
          "execution_count": 7
        },
        {
          "output_type": "display_data",
          "data": {
            "text/plain": [
              "<Figure size 432x288 with 1 Axes>"
            ],
            "image/png": "[encoded data removed]"
          },
          "metadata": {}
        }
      ]
    },
    {
      "cell_type": "markdown",
      "source": [
        "The majority (appears to be 2/3s) is of the 32 inner dimension of 2D tiling at workgroup level"
      ],
      "metadata": {
        "id": "0R1zNoYLK-Qb"
      }
    },
    {
      "cell_type": "markdown",
      "source": [
        "3. What is the fastest run after initial compiling by each of the available kernel loop unrolling factors?"
      ],
      "metadata": {
        "id": "q2bzhs3JJ__7"
      }
    },
    {
      "cell_type": "code",
      "source": [
        "gpus.groupby('KWI')['Run1 (ms)'].min()"
      ],
      "metadata": {
        "colab": {
          "base_uri": "https://localhost:8080/"
        },
        "id": "W0LkymdjKB5j",
        "outputId": "c7933d82-4428-42c8-e088-4382723c899f"
      },
      "execution_count": 8,
      "outputs": [
        {
          "output_type": "execute_result",
          "data": {
            "text/plain": [
              "KWI\n",
              "2    13.78\n",
              "8    13.29\n",
              "Name: Run1 (ms), dtype: float64"
            ]
          },
          "metadata": {},
          "execution_count": 8
        }
      ]
    },
    {
      "cell_type": "markdown",
      "source": [
        "The fastest run after initially compiling each of the available kernel loop \n",
        "unrolling factors had similar run times."
      ],
      "metadata": {
        "id": "CjEELLX8MajF"
      }
    },
    {
      "cell_type": "markdown",
      "source": [
        "**Feature Engineering**\n",
        "Based on my findings from Basic EDA, my plan for feature engineering would focus on extraploting correlations amongst instrinitically hierarhical data such as comparing the per-matrix 2D tiling at workgroup level. "
      ],
      "metadata": {
        "id": "Ygkrmwo3L0GC"
      }
    },
    {
      "cell_type": "code",
      "source": [
        "# Use groupby to get an idea of the average distance each detection method is sensitive to.\n",
        "gpus.groupby('MWG')['Run1 (ms)'].mean()"
      ],
      "metadata": {
        "colab": {
          "base_uri": "https://localhost:8080/"
        },
        "id": "qxS_EyYqLzq0",
        "outputId": "8cb966bf-bbcb-44d8-9a56-7cc293a04787"
      },
      "execution_count": 9,
      "outputs": [
        {
          "output_type": "execute_result",
          "data": {
            "text/plain": [
              "MWG\n",
              "16      67.559227\n",
              "32      64.661752\n",
              "64     151.848924\n",
              "128    368.410918\n",
              "Name: Run1 (ms), dtype: float64"
            ]
          },
          "metadata": {},
          "execution_count": 9
        }
      ]
    },
    {
      "cell_type": "markdown",
      "source": [
        "**Train test split**\n",
        "Based on teh metadata of my dataset, my train/test percent split would be 80/10/10 with training of 80% of the data, with initial testing on 10% for accuracy and then the final 10% for true sensitivity analysis."
      ],
      "metadata": {
        "id": "ynbJfogDMepG"
      }
    },
    {
      "cell_type": "markdown",
      "source": [
        "**Establish an initial pipeline: **\n",
        "The pipes I may need include creating an ad-hoc analysis for each of the features of the data set and whether there is a correlation amongst factors along with adjusting for the scaling integers."
      ],
      "metadata": {
        "id": "lZvZxdjDNWl0"
      }
    },
    {
      "cell_type": "markdown",
      "source": [
        "**Model fitting and evaluation:** 1 assumption I have about feature importance or how I anticipate my model’s performance will be is there will be a hierarhical relationship"
      ],
      "metadata": {
        "id": "HweHf4GLNn3w"
      }
    },
    {
      "cell_type": "markdown",
      "source": [
        "# Feature Engineering"
      ],
      "metadata": {
        "id": "5zPLLzpOIb4p"
      }
    },
    {
      "cell_type": "markdown",
      "source": [
        "* ➔\t[35 points] Part 2: Complete the following tasks for your personal project, building on last week’s progress\n",
        "    * ◆\t[20 points] Feature engineering: create a heading in your notebook named Feature Engineering and curate a final list of features from your dataset"
      ],
      "metadata": {
        "id": "1SXVgdBwIl27"
      }
    },
    {
      "cell_type": "markdown",
      "source": [
        "| Feature                                                                                                                                  | Type          | Description                                                         |     |     |           |   |\n",
        "|------------------------------------------------------------------------------------------------------------------------------------------|---------------|---------------------------------------------------------------------|-----|-----|-----------|---|\n",
        "| stereo                                                                                                                                   |               | Time as logged by configuration for performing stereo analysis      |     |     |           |   |\n",
        "| convolution                                                                                                                              |               | Time as logged by configuration for performing convolution analysis |     |     |           |   |\n",
        "| raycasting                                                                                                                               |               | Time as logged by configuration for performing raycasting           |     |     |           |   |\n",
        "| accuracy, evaluated by comparing the predictions against replicated execution times for verified parameter configurations                |               |                                                                     |     |     |           |   |\n",
        "| MWG, per-matrix 2D tiling at workgroup level:                                                                                            | (integer)     | {16                                                                 | 32  | 64  | 128}      | | |\n",
        "| NWG, per-matrix 2D tiling at workgroup level:                                                                                            | (integer)     | {16                                                                 | 32  | 64  | 128}      | | |\n",
        "| KWG, inner dimension of 2D tiling at workgroup level:                                                                                    | (integer)     | {16                                                                 | 32} | |   |           |   |\n",
        "| MDIMC, local workgroup size:                                                                                                             | (integer)     | {8                                                                  | 16  | 32} | |         |   |\n",
        "| NDIMC, local workgroup size:                                                                                                             | (integer)     | {8                                                                  | 16  | 32} | |         |   |\n",
        "| MDIMA, local memory shape:                                                                                                               | (integer)     | {8                                                                  | 16  | 32} | (integer) |   |\n",
        "| NDIMB, local memory shape:                                                                                                               | (integer)     | {8                                                                  | 16  | 32} | |         |   |\n",
        "| KWI, kernel loop unrolling factor:                                                                                                       | (integer)     | {2                                                                  | 8}  | |   |           |   |\n",
        "| VWM, per-matrix vector widths for loading and storing:                                                                                   | (integer)     | {1                                                                  | 2   | 4   | 8}        | | |\n",
        "| VWN, per-matrix vector widths for loading and storing:                                                                                   | (integer)     | {1                                                                  | 2   | 4   | 8}        | | |\n",
        "| STRM, enable stride for accessing off-chip memory within a single thread:                                                                | (categorical) | {0                                                                  | 1}  |     |           |   |\n",
        "| STRN, enable stride for accessing off-chip memory within a single thread:                                                                | (categorical) | {0                                                                  | 1}  | |   |           |   |\n",
        "| SA, per-matrix manual caching of the 2D workgroup tile:                                                                                  | (categorical) | {0                                                                  | 1}  | |   |           |   |\n",
        "| SB, per-matrix manual caching of the 2D workgroup tile:                                                                                  | (categorical) | {0                                                                  | 1}  |     |           |   |\n",
        "| Run1, performance times in milliseconds (ms) for first independent run using the same parameters. They range between 13.25 and 3397.08.  |               |                                                                     |     |     |           |   |\n",
        "| Run2, performance times in milliseconds (ms) for second independent run using the same parameters. They range between 13.25 and 3397.08. |               |                                                                     |     |     |           |   |\n",
        "| Run3, performance times in milliseconds (ms) for third independent run using the same parameters. They range between 13.25 and 3397.08.  |               |                                                                     |     |     |           |   |\n",
        "| Run4, performance times in milliseconds (ms) for fourth independent run using the same parameters. They range between 13.25 and 3397.08. |               |                                                                     |     |     |           |   |\n"
      ],
      "metadata": {
        "id": "23TWGrHDN1st"
      }
    },
    {
      "cell_type": "markdown",
      "source": [
        "# Machine Learning (ML) Pipeline"
      ],
      "metadata": {
        "id": "iwitoFrLQdzm"
      }
    },
    {
      "cell_type": "markdown",
      "source": [
        "[15 points] Establish an initial pipeline: create a new heading in your notebook named ML Pipeline, split your dataset and complete the initial pipeline with at least one model of your choice"
      ],
      "metadata": {
        "id": "iRiHrJn0Qxze"
      }
    },
    {
      "cell_type": "code",
      "source": [
        "gpus.isna().sum()"
      ],
      "metadata": {
        "id": "GEao9eeVIlOj",
        "outputId": "37dfd8ee-2ecd-429c-c732-0d5ff1fd2605",
        "colab": {
          "base_uri": "https://localhost:8080/"
        }
      },
      "execution_count": 10,
      "outputs": [
        {
          "output_type": "execute_result",
          "data": {
            "text/plain": [
              "MWG          0\n",
              "NWG          0\n",
              "KWG          0\n",
              "MDIMC        0\n",
              "NDIMC        0\n",
              "MDIMA        0\n",
              "NDIMB        0\n",
              "KWI          0\n",
              "VWM          0\n",
              "VWN          0\n",
              "STRM         0\n",
              "STRN         0\n",
              "SA           0\n",
              "SB           0\n",
              "Run1 (ms)    0\n",
              "Run2 (ms)    0\n",
              "Run3 (ms)    0\n",
              "Run4 (ms)    0\n",
              "dtype: int64"
            ]
          },
          "metadata": {},
          "execution_count": 10
        }
      ]
    },
    {
      "cell_type": "code",
      "source": [
        "gpus = gpus.dropna()\n",
        "gpus.shape"
      ],
      "metadata": {
        "id": "3vg50c2wQAY5",
        "outputId": "5bead084-e356-4fac-ecb0-54443d47bd26",
        "colab": {
          "base_uri": "https://localhost:8080/"
        }
      },
      "execution_count": 11,
      "outputs": [
        {
          "output_type": "execute_result",
          "data": {
            "text/plain": [
              "(241600, 18)"
            ]
          },
          "metadata": {},
          "execution_count": 11
        }
      ]
    },
    {
      "cell_type": "code",
      "source": [
        "class_column = 'MWG'\n",
        "random_seed = 2435\n",
        "\n",
        "X_train, X_test, y_train, y_test = train_test_split(gpus.drop(columns=class_column), gpus[class_column],\n",
        "                                                   test_size=0.25, random_state=random_seed, stratify=gpus[class_column])"
      ],
      "metadata": {
        "id": "AwCgbY3lQaSc"
      },
      "execution_count": 12,
      "outputs": []
    },
    {
      "cell_type": "code",
      "source": [
        "# X Train\n",
        "print('On X train: ')\n",
        "print('X train dimensions: ', X_train.shape)\n",
        "display(X_train.head())\n",
        "\n",
        "# X test\n",
        "print('\\nOn X test: ')\n",
        "print('X test dimensions: ', X_test.shape)\n",
        "display(X_test.head())"
      ],
      "metadata": {
        "id": "Yj_RcaOkRl3O",
        "outputId": "3f5ad73f-c06a-434b-b24f-2fc191cae564",
        "colab": {
          "base_uri": "https://localhost:8080/",
          "height": 581
        }
      },
      "execution_count": 13,
      "outputs": [
        {
          "output_type": "stream",
          "name": "stdout",
          "text": [
            "On X train: \n",
            "X train dimensions:  (181200, 17)\n"
          ]
        },
        {
          "output_type": "display_data",
          "data": {
            "text/plain": [
              "        NWG  KWG  MDIMC  NDIMC  MDIMA  NDIMB  KWI  VWM  VWN  STRM  STRN  SA  \\\n",
              "182322   64   32      8      8      8     16    2    8    4     0     0   1   \n",
              "190506   64   32     16      8      8     16    8    2    2     1     0   1   \n",
              "5364     64   16      8      8      8      8    8    1    2     0     1   0   \n",
              "233319  128   32     16     16     16      8    8    2    1     0     1   1   \n",
              "2563     32   16      8     32     16     16    2    1    1     0     0   1   \n",
              "\n",
              "        SB  Run1 (ms)  Run2 (ms)  Run3 (ms)  Run4 (ms)  \n",
              "182322   0     776.01     765.80     762.76     772.74  \n",
              "190506   0     214.21     216.77     216.08     216.65  \n",
              "5364     0      44.67      42.54      42.51      44.71  \n",
              "233319   1     169.22     169.30     169.21     169.26  \n",
              "2563     1      76.88      76.71      77.20      77.41  "
            ],
            "text/html": [
              "\n",
              "  <div id=\"df-2be4fead-7c5b-4997-8e03-8e8acbb19943\">\n",
              "    <div class=\"colab-df-container\">\n",
              "      <div>\n",
              "<style scoped>\n",
              "    .dataframe tbody tr th:only-of-type {\n",
              "        vertical-align: middle;\n",
              "    }\n",
              "\n",
              "    .dataframe tbody tr th {\n",
              "        vertical-align: top;\n",
              "    }\n",
              "\n",
              "    .dataframe thead th {\n",
              "        text-align: right;\n",
              "    }\n",
              "</style>\n",
              "<table border=\"1\" class=\"dataframe\">\n",
              "  <thead>\n",
              "    <tr style=\"text-align: right;\">\n",
              "      <th></th>\n",
              "      <th>NWG</th>\n",
              "      <th>KWG</th>\n",
              "      <th>MDIMC</th>\n",
              "      <th>NDIMC</th>\n",
              "      <th>MDIMA</th>\n",
              "      <th>NDIMB</th>\n",
              "      <th>KWI</th>\n",
              "      <th>VWM</th>\n",
              "      <th>VWN</th>\n",
              "      <th>STRM</th>\n",
              "      <th>STRN</th>\n",
              "      <th>SA</th>\n",
              "      <th>SB</th>\n",
              "      <th>Run1 (ms)</th>\n",
              "      <th>Run2 (ms)</th>\n",
              "      <th>Run3 (ms)</th>\n",
              "      <th>Run4 (ms)</th>\n",
              "    </tr>\n",
              "  </thead>\n",
              "  <tbody>\n",
              "    <tr>\n",
              "      <th>182322</th>\n",
              "      <td>64</td>\n",
              "      <td>32</td>\n",
              "      <td>8</td>\n",
              "      <td>8</td>\n",
              "      <td>8</td>\n",
              "      <td>16</td>\n",
              "      <td>2</td>\n",
              "      <td>8</td>\n",
              "      <td>4</td>\n",
              "      <td>0</td>\n",
              "      <td>0</td>\n",
              "      <td>1</td>\n",
              "      <td>0</td>\n",
              "      <td>776.01</td>\n",
              "      <td>765.80</td>\n",
              "      <td>762.76</td>\n",
              "      <td>772.74</td>\n",
              "    </tr>\n",
              "    <tr>\n",
              "      <th>190506</th>\n",
              "      <td>64</td>\n",
              "      <td>32</td>\n",
              "      <td>16</td>\n",
              "      <td>8</td>\n",
              "      <td>8</td>\n",
              "      <td>16</td>\n",
              "      <td>8</td>\n",
              "      <td>2</td>\n",
              "      <td>2</td>\n",
              "      <td>1</td>\n",
              "      <td>0</td>\n",
              "      <td>1</td>\n",
              "      <td>0</td>\n",
              "      <td>214.21</td>\n",
              "      <td>216.77</td>\n",
              "      <td>216.08</td>\n",
              "      <td>216.65</td>\n",
              "    </tr>\n",
              "    <tr>\n",
              "      <th>5364</th>\n",
              "      <td>64</td>\n",
              "      <td>16</td>\n",
              "      <td>8</td>\n",
              "      <td>8</td>\n",
              "      <td>8</td>\n",
              "      <td>8</td>\n",
              "      <td>8</td>\n",
              "      <td>1</td>\n",
              "      <td>2</td>\n",
              "      <td>0</td>\n",
              "      <td>1</td>\n",
              "      <td>0</td>\n",
              "      <td>0</td>\n",
              "      <td>44.67</td>\n",
              "      <td>42.54</td>\n",
              "      <td>42.51</td>\n",
              "      <td>44.71</td>\n",
              "    </tr>\n",
              "    <tr>\n",
              "      <th>233319</th>\n",
              "      <td>128</td>\n",
              "      <td>32</td>\n",
              "      <td>16</td>\n",
              "      <td>16</td>\n",
              "      <td>16</td>\n",
              "      <td>8</td>\n",
              "      <td>8</td>\n",
              "      <td>2</td>\n",
              "      <td>1</td>\n",
              "      <td>0</td>\n",
              "      <td>1</td>\n",
              "      <td>1</td>\n",
              "      <td>1</td>\n",
              "      <td>169.22</td>\n",
              "      <td>169.30</td>\n",
              "      <td>169.21</td>\n",
              "      <td>169.26</td>\n",
              "    </tr>\n",
              "    <tr>\n",
              "      <th>2563</th>\n",
              "      <td>32</td>\n",
              "      <td>16</td>\n",
              "      <td>8</td>\n",
              "      <td>32</td>\n",
              "      <td>16</td>\n",
              "      <td>16</td>\n",
              "      <td>2</td>\n",
              "      <td>1</td>\n",
              "      <td>1</td>\n",
              "      <td>0</td>\n",
              "      <td>0</td>\n",
              "      <td>1</td>\n",
              "      <td>1</td>\n",
              "      <td>76.88</td>\n",
              "      <td>76.71</td>\n",
              "      <td>77.20</td>\n",
              "      <td>77.41</td>\n",
              "    </tr>\n",
              "  </tbody>\n",
              "</table>\n",
              "</div>\n",
              "      <button class=\"colab-df-convert\" onclick=\"convertToInteractive('df-2be4fead-7c5b-4997-8e03-8e8acbb19943')\"\n",
              "              title=\"Convert this dataframe to an interactive table.\"\n",
              "              style=\"display:none;\">\n",
              "        \n",
              "  <svg xmlns=\"http://www.w3.org/2000/svg\" height=\"24px\"viewBox=\"0 0 24 24\"\n",
              "       width=\"24px\">\n",
              "    <path d=\"M0 0h24v24H0V0z\" fill=\"none\"/>\n",
              "    <path d=\"M18.56 5.44l.94 2.06.94-2.06 2.06-.94-2.06-.94-.94-2.06-.94 2.06-2.06.94zm-11 1L8.5 8.5l.94-2.06 2.06-.94-2.06-.94L8.5 2.5l-.94 2.06-2.06.94zm10 10l.94 2.06.94-2.06 2.06-.94-2.06-.94-.94-2.06-.94 2.06-2.06.94z\"/><path d=\"M17.41 7.96l-1.37-1.37c-.4-.4-.92-.59-1.43-.59-.52 0-1.04.2-1.43.59L10.3 9.45l-7.72 7.72c-.78.78-.78 2.05 0 2.83L4 21.41c.39.39.9.59 1.41.59.51 0 1.02-.2 1.41-.59l7.78-7.78 2.81-2.81c.8-.78.8-2.07 0-2.86zM5.41 20L4 18.59l7.72-7.72 1.47 1.35L5.41 20z\"/>\n",
              "  </svg>\n",
              "      </button>\n",
              "      \n",
              "  <style>\n",
              "    .colab-df-container {\n",
              "      display:flex;\n",
              "      flex-wrap:wrap;\n",
              "      gap: 12px;\n",
              "    }\n",
              "\n",
              "    .colab-df-convert {\n",
              "      background-color: #E8F0FE;\n",
              "      border: none;\n",
              "      border-radius: 50%;\n",
              "      cursor: pointer;\n",
              "      display: none;\n",
              "      fill: #1967D2;\n",
              "      height: 32px;\n",
              "      padding: 0 0 0 0;\n",
              "      width: 32px;\n",
              "    }\n",
              "\n",
              "    .colab-df-convert:hover {\n",
              "      background-color: #E2EBFA;\n",
              "      box-shadow: 0px 1px 2px rgba(60, 64, 67, 0.3), 0px 1px 3px 1px rgba(60, 64, 67, 0.15);\n",
              "      fill: #174EA6;\n",
              "    }\n",
              "\n",
              "    [theme=dark] .colab-df-convert {\n",
              "      background-color: #3B4455;\n",
              "      fill: #D2E3FC;\n",
              "    }\n",
              "\n",
              "    [theme=dark] .colab-df-convert:hover {\n",
              "      background-color: #434B5C;\n",
              "      box-shadow: 0px 1px 3px 1px rgba(0, 0, 0, 0.15);\n",
              "      filter: drop-shadow(0px 1px 2px rgba(0, 0, 0, 0.3));\n",
              "      fill: #FFFFFF;\n",
              "    }\n",
              "  </style>\n",
              "\n",
              "      <script>\n",
              "        const buttonEl =\n",
              "          document.querySelector('#df-2be4fead-7c5b-4997-8e03-8e8acbb19943 button.colab-df-convert');\n",
              "        buttonEl.style.display =\n",
              "          google.colab.kernel.accessAllowed ? 'block' : 'none';\n",
              "\n",
              "        async function convertToInteractive(key) {\n",
              "          const element = document.querySelector('#df-2be4fead-7c5b-4997-8e03-8e8acbb19943');\n",
              "          const dataTable =\n",
              "            await google.colab.kernel.invokeFunction('convertToInteractive',\n",
              "                                                     [key], {});\n",
              "          if (!dataTable) return;\n",
              "\n",
              "          const docLinkHtml = 'Like what you see? Visit the ' +\n",
              "            '<a target=\"_blank\" href=https://colab.research.google.com/notebooks/data_table.ipynb>data table notebook</a>'\n",
              "            + ' to learn more about interactive tables.';\n",
              "          element.innerHTML = '';\n",
              "          dataTable['output_type'] = 'display_data';\n",
              "          await google.colab.output.renderOutput(dataTable, element);\n",
              "          const docLink = document.createElement('div');\n",
              "          docLink.innerHTML = docLinkHtml;\n",
              "          element.appendChild(docLink);\n",
              "        }\n",
              "      </script>\n",
              "    </div>\n",
              "  </div>\n",
              "  "
            ]
          },
          "metadata": {}
        },
        {
          "output_type": "stream",
          "name": "stdout",
          "text": [
            "\n",
            "On X test: \n",
            "X test dimensions:  (60400, 17)\n"
          ]
        },
        {
          "output_type": "display_data",
          "data": {
            "text/plain": [
              "        NWG  KWG  MDIMC  NDIMC  MDIMA  NDIMB  KWI  VWM  VWN  STRM  STRN  SA  \\\n",
              "79585    32   32      8      8     32      8    8    1    1     0     0   0   \n",
              "190448   64   32     16      8      8     16    8    1    2     0     0   0   \n",
              "188041   64   32      8     32      8     16    8    2    1     1     0   0   \n",
              "53802   128   16     16     16     32     16    8    1    4     1     0   1   \n",
              "106224   64   32     16     16     16      8    2    2    4     0     0   0   \n",
              "\n",
              "        SB  Run1 (ms)  Run2 (ms)  Run3 (ms)  Run4 (ms)  \n",
              "79585    1      82.52      82.52      82.68      82.92  \n",
              "190448   0     271.95     271.25     271.37     271.53  \n",
              "188041   1      46.99      46.35      46.82      47.04  \n",
              "53802    0      36.67      36.77      36.75      36.68  \n",
              "106224   0      38.99      39.05      39.01      39.02  "
            ],
            "text/html": [
              "\n",
              "  <div id=\"df-884386d4-64a4-47b0-aedb-7f1d9d8b6ebb\">\n",
              "    <div class=\"colab-df-container\">\n",
              "      <div>\n",
              "<style scoped>\n",
              "    .dataframe tbody tr th:only-of-type {\n",
              "        vertical-align: middle;\n",
              "    }\n",
              "\n",
              "    .dataframe tbody tr th {\n",
              "        vertical-align: top;\n",
              "    }\n",
              "\n",
              "    .dataframe thead th {\n",
              "        text-align: right;\n",
              "    }\n",
              "</style>\n",
              "<table border=\"1\" class=\"dataframe\">\n",
              "  <thead>\n",
              "    <tr style=\"text-align: right;\">\n",
              "      <th></th>\n",
              "      <th>NWG</th>\n",
              "      <th>KWG</th>\n",
              "      <th>MDIMC</th>\n",
              "      <th>NDIMC</th>\n",
              "      <th>MDIMA</th>\n",
              "      <th>NDIMB</th>\n",
              "      <th>KWI</th>\n",
              "      <th>VWM</th>\n",
              "      <th>VWN</th>\n",
              "      <th>STRM</th>\n",
              "      <th>STRN</th>\n",
              "      <th>SA</th>\n",
              "      <th>SB</th>\n",
              "      <th>Run1 (ms)</th>\n",
              "      <th>Run2 (ms)</th>\n",
              "      <th>Run3 (ms)</th>\n",
              "      <th>Run4 (ms)</th>\n",
              "    </tr>\n",
              "  </thead>\n",
              "  <tbody>\n",
              "    <tr>\n",
              "      <th>79585</th>\n",
              "      <td>32</td>\n",
              "      <td>32</td>\n",
              "      <td>8</td>\n",
              "      <td>8</td>\n",
              "      <td>32</td>\n",
              "      <td>8</td>\n",
              "      <td>8</td>\n",
              "      <td>1</td>\n",
              "      <td>1</td>\n",
              "      <td>0</td>\n",
              "      <td>0</td>\n",
              "      <td>0</td>\n",
              "      <td>1</td>\n",
              "      <td>82.52</td>\n",
              "      <td>82.52</td>\n",
              "      <td>82.68</td>\n",
              "      <td>82.92</td>\n",
              "    </tr>\n",
              "    <tr>\n",
              "      <th>190448</th>\n",
              "      <td>64</td>\n",
              "      <td>32</td>\n",
              "      <td>16</td>\n",
              "      <td>8</td>\n",
              "      <td>8</td>\n",
              "      <td>16</td>\n",
              "      <td>8</td>\n",
              "      <td>1</td>\n",
              "      <td>2</td>\n",
              "      <td>0</td>\n",
              "      <td>0</td>\n",
              "      <td>0</td>\n",
              "      <td>0</td>\n",
              "      <td>271.95</td>\n",
              "      <td>271.25</td>\n",
              "      <td>271.37</td>\n",
              "      <td>271.53</td>\n",
              "    </tr>\n",
              "    <tr>\n",
              "      <th>188041</th>\n",
              "      <td>64</td>\n",
              "      <td>32</td>\n",
              "      <td>8</td>\n",
              "      <td>32</td>\n",
              "      <td>8</td>\n",
              "      <td>16</td>\n",
              "      <td>8</td>\n",
              "      <td>2</td>\n",
              "      <td>1</td>\n",
              "      <td>1</td>\n",
              "      <td>0</td>\n",
              "      <td>0</td>\n",
              "      <td>1</td>\n",
              "      <td>46.99</td>\n",
              "      <td>46.35</td>\n",
              "      <td>46.82</td>\n",
              "      <td>47.04</td>\n",
              "    </tr>\n",
              "    <tr>\n",
              "      <th>53802</th>\n",
              "      <td>128</td>\n",
              "      <td>16</td>\n",
              "      <td>16</td>\n",
              "      <td>16</td>\n",
              "      <td>32</td>\n",
              "      <td>16</td>\n",
              "      <td>8</td>\n",
              "      <td>1</td>\n",
              "      <td>4</td>\n",
              "      <td>1</td>\n",
              "      <td>0</td>\n",
              "      <td>1</td>\n",
              "      <td>0</td>\n",
              "      <td>36.67</td>\n",
              "      <td>36.77</td>\n",
              "      <td>36.75</td>\n",
              "      <td>36.68</td>\n",
              "    </tr>\n",
              "    <tr>\n",
              "      <th>106224</th>\n",
              "      <td>64</td>\n",
              "      <td>32</td>\n",
              "      <td>16</td>\n",
              "      <td>16</td>\n",
              "      <td>16</td>\n",
              "      <td>8</td>\n",
              "      <td>2</td>\n",
              "      <td>2</td>\n",
              "      <td>4</td>\n",
              "      <td>0</td>\n",
              "      <td>0</td>\n",
              "      <td>0</td>\n",
              "      <td>0</td>\n",
              "      <td>38.99</td>\n",
              "      <td>39.05</td>\n",
              "      <td>39.01</td>\n",
              "      <td>39.02</td>\n",
              "    </tr>\n",
              "  </tbody>\n",
              "</table>\n",
              "</div>\n",
              "      <button class=\"colab-df-convert\" onclick=\"convertToInteractive('df-884386d4-64a4-47b0-aedb-7f1d9d8b6ebb')\"\n",
              "              title=\"Convert this dataframe to an interactive table.\"\n",
              "              style=\"display:none;\">\n",
              "        \n",
              "  <svg xmlns=\"http://www.w3.org/2000/svg\" height=\"24px\"viewBox=\"0 0 24 24\"\n",
              "       width=\"24px\">\n",
              "    <path d=\"M0 0h24v24H0V0z\" fill=\"none\"/>\n",
              "    <path d=\"M18.56 5.44l.94 2.06.94-2.06 2.06-.94-2.06-.94-.94-2.06-.94 2.06-2.06.94zm-11 1L8.5 8.5l.94-2.06 2.06-.94-2.06-.94L8.5 2.5l-.94 2.06-2.06.94zm10 10l.94 2.06.94-2.06 2.06-.94-2.06-.94-.94-2.06-.94 2.06-2.06.94z\"/><path d=\"M17.41 7.96l-1.37-1.37c-.4-.4-.92-.59-1.43-.59-.52 0-1.04.2-1.43.59L10.3 9.45l-7.72 7.72c-.78.78-.78 2.05 0 2.83L4 21.41c.39.39.9.59 1.41.59.51 0 1.02-.2 1.41-.59l7.78-7.78 2.81-2.81c.8-.78.8-2.07 0-2.86zM5.41 20L4 18.59l7.72-7.72 1.47 1.35L5.41 20z\"/>\n",
              "  </svg>\n",
              "      </button>\n",
              "      \n",
              "  <style>\n",
              "    .colab-df-container {\n",
              "      display:flex;\n",
              "      flex-wrap:wrap;\n",
              "      gap: 12px;\n",
              "    }\n",
              "\n",
              "    .colab-df-convert {\n",
              "      background-color: #E8F0FE;\n",
              "      border: none;\n",
              "      border-radius: 50%;\n",
              "      cursor: pointer;\n",
              "      display: none;\n",
              "      fill: #1967D2;\n",
              "      height: 32px;\n",
              "      padding: 0 0 0 0;\n",
              "      width: 32px;\n",
              "    }\n",
              "\n",
              "    .colab-df-convert:hover {\n",
              "      background-color: #E2EBFA;\n",
              "      box-shadow: 0px 1px 2px rgba(60, 64, 67, 0.3), 0px 1px 3px 1px rgba(60, 64, 67, 0.15);\n",
              "      fill: #174EA6;\n",
              "    }\n",
              "\n",
              "    [theme=dark] .colab-df-convert {\n",
              "      background-color: #3B4455;\n",
              "      fill: #D2E3FC;\n",
              "    }\n",
              "\n",
              "    [theme=dark] .colab-df-convert:hover {\n",
              "      background-color: #434B5C;\n",
              "      box-shadow: 0px 1px 3px 1px rgba(0, 0, 0, 0.15);\n",
              "      filter: drop-shadow(0px 1px 2px rgba(0, 0, 0, 0.3));\n",
              "      fill: #FFFFFF;\n",
              "    }\n",
              "  </style>\n",
              "\n",
              "      <script>\n",
              "        const buttonEl =\n",
              "          document.querySelector('#df-884386d4-64a4-47b0-aedb-7f1d9d8b6ebb button.colab-df-convert');\n",
              "        buttonEl.style.display =\n",
              "          google.colab.kernel.accessAllowed ? 'block' : 'none';\n",
              "\n",
              "        async function convertToInteractive(key) {\n",
              "          const element = document.querySelector('#df-884386d4-64a4-47b0-aedb-7f1d9d8b6ebb');\n",
              "          const dataTable =\n",
              "            await google.colab.kernel.invokeFunction('convertToInteractive',\n",
              "                                                     [key], {});\n",
              "          if (!dataTable) return;\n",
              "\n",
              "          const docLinkHtml = 'Like what you see? Visit the ' +\n",
              "            '<a target=\"_blank\" href=https://colab.research.google.com/notebooks/data_table.ipynb>data table notebook</a>'\n",
              "            + ' to learn more about interactive tables.';\n",
              "          element.innerHTML = '';\n",
              "          dataTable['output_type'] = 'display_data';\n",
              "          await google.colab.output.renderOutput(dataTable, element);\n",
              "          const docLink = document.createElement('div');\n",
              "          docLink.innerHTML = docLinkHtml;\n",
              "          element.appendChild(docLink);\n",
              "        }\n",
              "      </script>\n",
              "    </div>\n",
              "  </div>\n",
              "  "
            ]
          },
          "metadata": {}
        }
      ]
    },
    {
      "cell_type": "code",
      "execution_count": 14,
      "metadata": {
        "colab": {
          "base_uri": "https://localhost:8080/",
          "height": 312
        },
        "id": "113d1ab3-739a-4e42-8500-92b6332b2475",
        "outputId": "4327d3a6-8091-48d2-878d-137981571cdc"
      },
      "outputs": [
        {
          "output_type": "stream",
          "name": "stdout",
          "text": [
            "On y train: \n",
            "y train dimensions:  (181200,)\n"
          ]
        },
        {
          "output_type": "display_data",
          "data": {
            "text/plain": [
              "182322    128\n",
              "190506    128\n",
              "5364       16\n",
              "233319    128\n",
              "2563       16\n",
              "Name: MWG, dtype: int64"
            ]
          },
          "metadata": {}
        },
        {
          "output_type": "stream",
          "name": "stdout",
          "text": [
            "\n",
            "On y test: \n",
            "y test dimensions:  (60400,)\n"
          ]
        },
        {
          "output_type": "display_data",
          "data": {
            "text/plain": [
              "79585      64\n",
              "190448    128\n",
              "188041    128\n",
              "53802      32\n",
              "106224     64\n",
              "Name: MWG, dtype: int64"
            ]
          },
          "metadata": {}
        }
      ],
      "source": [
        "# X Train\n",
        "print('On y train: ')\n",
        "print('y train dimensions: ', y_train.shape)\n",
        "display(y_train.head())\n",
        "\n",
        "# X test\n",
        "print('\\nOn y test: ')\n",
        "print('y test dimensions: ', y_test.shape)\n",
        "display(y_test.head())"
      ]
    },
    {
      "cell_type": "markdown",
      "source": [
        "## Establish the training pipeline\n",
        "\n",
        "We can now establish the training pipeline for our models. Since this is a process we would need to repeat several times, it's good to essentially functionalize the process so we do not need to re-write redundant code. Here, we can impute some values that were missing, and encode any categorical values. Note that these pipelines will change according to the model and methodology you choose - additionally, the pipelines will also change depending on the data types of the columns in your dataset. "
      ],
      "metadata": {
        "id": "Qg4k53FDRxG3"
      }
    },
    {
      "cell_type": "code",
      "source": [
        "#individual pipelines for differing datatypes\n",
        "cat_pipeline = Pipeline(steps=[('cat_impute', SimpleImputer(missing_values=np.nan, strategy='most_frequent')),\n",
        "                               ('onehot_cat', OneHotEncoder(drop='if_binary'))])\n",
        "num_pipeline = Pipeline(steps=[('impute_num', SimpleImputer(missing_values=np.nan, strategy='mean')),\n",
        "                               ('scale_num', StandardScaler())])"
      ],
      "metadata": {
        "id": "KOmSNt08RuZu"
      },
      "execution_count": 15,
      "outputs": []
    },
    {
      "cell_type": "code",
      "source": [
        "#establish preprocessing pipeline by columns\n",
        "preproc = ColumnTransformer([('cat_pipe', cat_pipeline, make_column_selector(dtype_include=object)),\n",
        "                             ('num_pipe', num_pipeline, make_column_selector(dtype_include=np.number))],\n",
        "                             remainder='passthrough')"
      ],
      "metadata": {
        "id": "34iTde-IR3ZY"
      },
      "execution_count": 16,
      "outputs": []
    },
    {
      "cell_type": "code",
      "source": [
        "# TODO: set up your modeling pipeline\n",
        "# Modeling pipeline for Logistic Regresion\n",
        "log_pipe = Pipeline(steps=[('preproc', preproc),\n",
        "                       ('mdl', LogisticRegression(penalty='elasticnet', solver='saga', tol=0.01))])\n",
        "\n",
        "# Feel free to uncomment and edit the code below to visualize your overall pieline\n",
        "with config_context(display='diagram'):\n",
        "     display(log_pipe)"
      ],
      "metadata": {
        "id": "RH4tdZhWR36H",
        "outputId": "8194515d-e497-43cc-896d-1fdfe43ebe96",
        "colab": {
          "base_uri": "https://localhost:8080/",
          "height": 227
        }
      },
      "execution_count": 17,
      "outputs": [
        {
          "output_type": "display_data",
          "data": {
            "text/plain": [
              "Pipeline(steps=[('preproc',\n",
              "                 ColumnTransformer(remainder='passthrough',\n",
              "                                   transformers=[('cat_pipe',\n",
              "                                                  Pipeline(steps=[('cat_impute',\n",
              "                                                                   SimpleImputer(strategy='most_frequent')),\n",
              "                                                                  ('onehot_cat',\n",
              "                                                                   OneHotEncoder(drop='if_binary'))]),\n",
              "                                                  <sklearn.compose._column_transformer.make_column_selector object at 0x7f01cd9f26d0>),\n",
              "                                                 ('num_pipe',\n",
              "                                                  Pipeline(steps=[('impute_num',\n",
              "                                                                   SimpleImputer()),\n",
              "                                                                  ('scale_num',\n",
              "                                                                   StandardScaler())]),\n",
              "                                                  <sklearn.compose._column_transformer.make_column_selector object at 0x7f01cd9f2710>)])),\n",
              "                ('mdl',\n",
              "                 LogisticRegression(penalty='elasticnet', solver='saga',\n",
              "                                    tol=0.01))])"
            ],
            "text/html": [
              "<style>#sk-f61d30df-845a-437d-8722-694273001b69 {color: black;background-color: white;}#sk-f61d30df-845a-437d-8722-694273001b69 pre{padding: 0;}#sk-f61d30df-845a-437d-8722-694273001b69 div.sk-toggleable {background-color: white;}#sk-f61d30df-845a-437d-8722-694273001b69 label.sk-toggleable__label {cursor: pointer;display: block;width: 100%;margin-bottom: 0;padding: 0.3em;box-sizing: border-box;text-align: center;}#sk-f61d30df-845a-437d-8722-694273001b69 label.sk-toggleable__label-arrow:before {content: \"▸\";float: left;margin-right: 0.25em;color: #696969;}#sk-f61d30df-845a-437d-8722-694273001b69 label.sk-toggleable__label-arrow:hover:before {color: black;}#sk-f61d30df-845a-437d-8722-694273001b69 div.sk-estimator:hover label.sk-toggleable__label-arrow:before {color: black;}#sk-f61d30df-845a-437d-8722-694273001b69 div.sk-toggleable__content {max-height: 0;max-width: 0;overflow: hidden;text-align: left;background-color: #f0f8ff;}#sk-f61d30df-845a-437d-8722-694273001b69 div.sk-toggleable__content pre {margin: 0.2em;color: black;border-radius: 0.25em;background-color: #f0f8ff;}#sk-f61d30df-845a-437d-8722-694273001b69 input.sk-toggleable__control:checked~div.sk-toggleable__content {max-height: 200px;max-width: 100%;overflow: auto;}#sk-f61d30df-845a-437d-8722-694273001b69 input.sk-toggleable__control:checked~label.sk-toggleable__label-arrow:before {content: \"▾\";}#sk-f61d30df-845a-437d-8722-694273001b69 div.sk-estimator input.sk-toggleable__control:checked~label.sk-toggleable__label {background-color: #d4ebff;}#sk-f61d30df-845a-437d-8722-694273001b69 div.sk-label input.sk-toggleable__control:checked~label.sk-toggleable__label {background-color: #d4ebff;}#sk-f61d30df-845a-437d-8722-694273001b69 input.sk-hidden--visually {border: 0;clip: rect(1px 1px 1px 1px);clip: rect(1px, 1px, 1px, 1px);height: 1px;margin: -1px;overflow: hidden;padding: 0;position: absolute;width: 1px;}#sk-f61d30df-845a-437d-8722-694273001b69 div.sk-estimator {font-family: monospace;background-color: #f0f8ff;border: 1px dotted black;border-radius: 0.25em;box-sizing: border-box;margin-bottom: 0.5em;}#sk-f61d30df-845a-437d-8722-694273001b69 div.sk-estimator:hover {background-color: #d4ebff;}#sk-f61d30df-845a-437d-8722-694273001b69 div.sk-parallel-item::after {content: \"\";width: 100%;border-bottom: 1px solid gray;flex-grow: 1;}#sk-f61d30df-845a-437d-8722-694273001b69 div.sk-label:hover label.sk-toggleable__label {background-color: #d4ebff;}#sk-f61d30df-845a-437d-8722-694273001b69 div.sk-serial::before {content: \"\";position: absolute;border-left: 1px solid gray;box-sizing: border-box;top: 2em;bottom: 0;left: 50%;}#sk-f61d30df-845a-437d-8722-694273001b69 div.sk-serial {display: flex;flex-direction: column;align-items: center;background-color: white;padding-right: 0.2em;padding-left: 0.2em;}#sk-f61d30df-845a-437d-8722-694273001b69 div.sk-item {z-index: 1;}#sk-f61d30df-845a-437d-8722-694273001b69 div.sk-parallel {display: flex;align-items: stretch;justify-content: center;background-color: white;}#sk-f61d30df-845a-437d-8722-694273001b69 div.sk-parallel::before {content: \"\";position: absolute;border-left: 1px solid gray;box-sizing: border-box;top: 2em;bottom: 0;left: 50%;}#sk-f61d30df-845a-437d-8722-694273001b69 div.sk-parallel-item {display: flex;flex-direction: column;position: relative;background-color: white;}#sk-f61d30df-845a-437d-8722-694273001b69 div.sk-parallel-item:first-child::after {align-self: flex-end;width: 50%;}#sk-f61d30df-845a-437d-8722-694273001b69 div.sk-parallel-item:last-child::after {align-self: flex-start;width: 50%;}#sk-f61d30df-845a-437d-8722-694273001b69 div.sk-parallel-item:only-child::after {width: 0;}#sk-f61d30df-845a-437d-8722-694273001b69 div.sk-dashed-wrapped {border: 1px dashed gray;margin: 0 0.4em 0.5em 0.4em;box-sizing: border-box;padding-bottom: 0.4em;background-color: white;position: relative;}#sk-f61d30df-845a-437d-8722-694273001b69 div.sk-label label {font-family: monospace;font-weight: bold;background-color: white;display: inline-block;line-height: 1.2em;}#sk-f61d30df-845a-437d-8722-694273001b69 div.sk-label-container {position: relative;z-index: 2;text-align: center;}#sk-f61d30df-845a-437d-8722-694273001b69 div.sk-container {/* jupyter's `normalize.less` sets `[hidden] { display: none; }` but bootstrap.min.css set `[hidden] { display: none !important; }` so we also need the `!important` here to be able to override the default hidden behavior on the sphinx rendered scikit-learn.org. See: https://github.com/scikit-learn/scikit-learn/issues/21755 */display: inline-block !important;position: relative;}#sk-f61d30df-845a-437d-8722-694273001b69 div.sk-text-repr-fallback {display: none;}</style><div id=\"sk-f61d30df-845a-437d-8722-694273001b69\" class=\"sk-top-container\"><div class=\"sk-text-repr-fallback\"><pre>Pipeline(steps=[(&#x27;preproc&#x27;,\n",
              "                 ColumnTransformer(remainder=&#x27;passthrough&#x27;,\n",
              "                                   transformers=[(&#x27;cat_pipe&#x27;,\n",
              "                                                  Pipeline(steps=[(&#x27;cat_impute&#x27;,\n",
              "                                                                   SimpleImputer(strategy=&#x27;most_frequent&#x27;)),\n",
              "                                                                  (&#x27;onehot_cat&#x27;,\n",
              "                                                                   OneHotEncoder(drop=&#x27;if_binary&#x27;))]),\n",
              "                                                  &lt;sklearn.compose._column_transformer.make_column_selector object at 0x7f01cd9f26d0&gt;),\n",
              "                                                 (&#x27;num_pipe&#x27;,\n",
              "                                                  Pipeline(steps=[(&#x27;impute_num&#x27;,\n",
              "                                                                   SimpleImputer()),\n",
              "                                                                  (&#x27;scale_num&#x27;,\n",
              "                                                                   StandardScaler())]),\n",
              "                                                  &lt;sklearn.compose._column_transformer.make_column_selector object at 0x7f01cd9f2710&gt;)])),\n",
              "                (&#x27;mdl&#x27;,\n",
              "                 LogisticRegression(penalty=&#x27;elasticnet&#x27;, solver=&#x27;saga&#x27;,\n",
              "                                    tol=0.01))])</pre><b>Please rerun this cell to show the HTML repr or trust the notebook.</b></div><div class=\"sk-container\" hidden><div class=\"sk-item sk-dashed-wrapped\"><div class=\"sk-label-container\"><div class=\"sk-label sk-toggleable\"><input class=\"sk-toggleable__control sk-hidden--visually\" id=\"d9682503-dd9b-4a20-bdc4-4f9b38569466\" type=\"checkbox\" ><label for=\"d9682503-dd9b-4a20-bdc4-4f9b38569466\" class=\"sk-toggleable__label sk-toggleable__label-arrow\">Pipeline</label><div class=\"sk-toggleable__content\"><pre>Pipeline(steps=[(&#x27;preproc&#x27;,\n",
              "                 ColumnTransformer(remainder=&#x27;passthrough&#x27;,\n",
              "                                   transformers=[(&#x27;cat_pipe&#x27;,\n",
              "                                                  Pipeline(steps=[(&#x27;cat_impute&#x27;,\n",
              "                                                                   SimpleImputer(strategy=&#x27;most_frequent&#x27;)),\n",
              "                                                                  (&#x27;onehot_cat&#x27;,\n",
              "                                                                   OneHotEncoder(drop=&#x27;if_binary&#x27;))]),\n",
              "                                                  &lt;sklearn.compose._column_transformer.make_column_selector object at 0x7f01cd9f26d0&gt;),\n",
              "                                                 (&#x27;num_pipe&#x27;,\n",
              "                                                  Pipeline(steps=[(&#x27;impute_num&#x27;,\n",
              "                                                                   SimpleImputer()),\n",
              "                                                                  (&#x27;scale_num&#x27;,\n",
              "                                                                   StandardScaler())]),\n",
              "                                                  &lt;sklearn.compose._column_transformer.make_column_selector object at 0x7f01cd9f2710&gt;)])),\n",
              "                (&#x27;mdl&#x27;,\n",
              "                 LogisticRegression(penalty=&#x27;elasticnet&#x27;, solver=&#x27;saga&#x27;,\n",
              "                                    tol=0.01))])</pre></div></div></div><div class=\"sk-serial\"><div class=\"sk-item sk-dashed-wrapped\"><div class=\"sk-label-container\"><div class=\"sk-label sk-toggleable\"><input class=\"sk-toggleable__control sk-hidden--visually\" id=\"d972f628-34c3-42ec-ac36-8ad970ca54d2\" type=\"checkbox\" ><label for=\"d972f628-34c3-42ec-ac36-8ad970ca54d2\" class=\"sk-toggleable__label sk-toggleable__label-arrow\">preproc: ColumnTransformer</label><div class=\"sk-toggleable__content\"><pre>ColumnTransformer(remainder=&#x27;passthrough&#x27;,\n",
              "                  transformers=[(&#x27;cat_pipe&#x27;,\n",
              "                                 Pipeline(steps=[(&#x27;cat_impute&#x27;,\n",
              "                                                  SimpleImputer(strategy=&#x27;most_frequent&#x27;)),\n",
              "                                                 (&#x27;onehot_cat&#x27;,\n",
              "                                                  OneHotEncoder(drop=&#x27;if_binary&#x27;))]),\n",
              "                                 &lt;sklearn.compose._column_transformer.make_column_selector object at 0x7f01cd9f26d0&gt;),\n",
              "                                (&#x27;num_pipe&#x27;,\n",
              "                                 Pipeline(steps=[(&#x27;impute_num&#x27;,\n",
              "                                                  SimpleImputer()),\n",
              "                                                 (&#x27;scale_num&#x27;,\n",
              "                                                  StandardScaler())]),\n",
              "                                 &lt;sklearn.compose._column_transformer.make_column_selector object at 0x7f01cd9f2710&gt;)])</pre></div></div></div><div class=\"sk-parallel\"><div class=\"sk-parallel-item\"><div class=\"sk-item\"><div class=\"sk-label-container\"><div class=\"sk-label sk-toggleable\"><input class=\"sk-toggleable__control sk-hidden--visually\" id=\"568a0bb3-136b-4b0e-9687-3eb7d6012166\" type=\"checkbox\" ><label for=\"568a0bb3-136b-4b0e-9687-3eb7d6012166\" class=\"sk-toggleable__label sk-toggleable__label-arrow\">cat_pipe</label><div class=\"sk-toggleable__content\"><pre>&lt;sklearn.compose._column_transformer.make_column_selector object at 0x7f01cd9f26d0&gt;</pre></div></div></div><div class=\"sk-serial\"><div class=\"sk-item\"><div class=\"sk-serial\"><div class=\"sk-item\"><div class=\"sk-estimator sk-toggleable\"><input class=\"sk-toggleable__control sk-hidden--visually\" id=\"953e2d1d-707b-4c9b-ba54-3cdf5939d1dd\" type=\"checkbox\" ><label for=\"953e2d1d-707b-4c9b-ba54-3cdf5939d1dd\" class=\"sk-toggleable__label sk-toggleable__label-arrow\">SimpleImputer</label><div class=\"sk-toggleable__content\"><pre>SimpleImputer(strategy=&#x27;most_frequent&#x27;)</pre></div></div></div><div class=\"sk-item\"><div class=\"sk-estimator sk-toggleable\"><input class=\"sk-toggleable__control sk-hidden--visually\" id=\"d8a9795c-b053-465c-b945-1f9be5e3b337\" type=\"checkbox\" ><label for=\"d8a9795c-b053-465c-b945-1f9be5e3b337\" class=\"sk-toggleable__label sk-toggleable__label-arrow\">OneHotEncoder</label><div class=\"sk-toggleable__content\"><pre>OneHotEncoder(drop=&#x27;if_binary&#x27;)</pre></div></div></div></div></div></div></div></div><div class=\"sk-parallel-item\"><div class=\"sk-item\"><div class=\"sk-label-container\"><div class=\"sk-label sk-toggleable\"><input class=\"sk-toggleable__control sk-hidden--visually\" id=\"687518b8-fedf-4428-9f33-1c7cc3a4cda0\" type=\"checkbox\" ><label for=\"687518b8-fedf-4428-9f33-1c7cc3a4cda0\" class=\"sk-toggleable__label sk-toggleable__label-arrow\">num_pipe</label><div class=\"sk-toggleable__content\"><pre>&lt;sklearn.compose._column_transformer.make_column_selector object at 0x7f01cd9f2710&gt;</pre></div></div></div><div class=\"sk-serial\"><div class=\"sk-item\"><div class=\"sk-serial\"><div class=\"sk-item\"><div class=\"sk-estimator sk-toggleable\"><input class=\"sk-toggleable__control sk-hidden--visually\" id=\"ef8ea81d-ebe9-4aff-9b55-65c6f9075cc8\" type=\"checkbox\" ><label for=\"ef8ea81d-ebe9-4aff-9b55-65c6f9075cc8\" class=\"sk-toggleable__label sk-toggleable__label-arrow\">SimpleImputer</label><div class=\"sk-toggleable__content\"><pre>SimpleImputer()</pre></div></div></div><div class=\"sk-item\"><div class=\"sk-estimator sk-toggleable\"><input class=\"sk-toggleable__control sk-hidden--visually\" id=\"46875cab-551b-401b-9ba2-61fda37bb099\" type=\"checkbox\" ><label for=\"46875cab-551b-401b-9ba2-61fda37bb099\" class=\"sk-toggleable__label sk-toggleable__label-arrow\">StandardScaler</label><div class=\"sk-toggleable__content\"><pre>StandardScaler()</pre></div></div></div></div></div></div></div></div><div class=\"sk-parallel-item\"><div class=\"sk-item\"><div class=\"sk-label-container\"><div class=\"sk-label sk-toggleable\"><input class=\"sk-toggleable__control sk-hidden--visually\" id=\"ebc0fc64-3884-44da-98db-bb2cb404b044\" type=\"checkbox\" ><label for=\"ebc0fc64-3884-44da-98db-bb2cb404b044\" class=\"sk-toggleable__label sk-toggleable__label-arrow\">remainder</label><div class=\"sk-toggleable__content\"><pre></pre></div></div></div><div class=\"sk-serial\"><div class=\"sk-item\"><div class=\"sk-estimator sk-toggleable\"><input class=\"sk-toggleable__control sk-hidden--visually\" id=\"10c90a65-e9cf-4161-a378-491f0730cb62\" type=\"checkbox\" ><label for=\"10c90a65-e9cf-4161-a378-491f0730cb62\" class=\"sk-toggleable__label sk-toggleable__label-arrow\">passthrough</label><div class=\"sk-toggleable__content\"><pre>passthrough</pre></div></div></div></div></div></div></div></div><div class=\"sk-item\"><div class=\"sk-estimator sk-toggleable\"><input class=\"sk-toggleable__control sk-hidden--visually\" id=\"3fe4bc38-6202-4e9b-8c6d-22d407586c71\" type=\"checkbox\" ><label for=\"3fe4bc38-6202-4e9b-8c6d-22d407586c71\" class=\"sk-toggleable__label sk-toggleable__label-arrow\">LogisticRegression</label><div class=\"sk-toggleable__content\"><pre>LogisticRegression(penalty=&#x27;elasticnet&#x27;, solver=&#x27;saga&#x27;, tol=0.01)</pre></div></div></div></div></div></div></div>"
            ]
          },
          "metadata": {}
        }
      ]
    },
    {
      "cell_type": "code",
      "source": [
        "# TODO: set up your modeling pipeline\n",
        "# Modeling pipeline for Random Forest Classifer\n",
        "rfc_pipe = Pipeline(steps=[('preproc', preproc),('classifier',RandomForestClassifier())])\n",
        "\n",
        "# Feel free to uncomment and edit the code below to visualize your overall pieline\n",
        "with config_context(display='diagram'):\n",
        "     display(rfc_pipe)"
      ],
      "metadata": {
        "colab": {
          "base_uri": "https://localhost:8080/",
          "height": 227
        },
        "id": "1dNFmsHoJycw",
        "outputId": "08641cee-6ad9-4cbd-eea3-0e9a8fa7073b"
      },
      "execution_count": 18,
      "outputs": [
        {
          "output_type": "display_data",
          "data": {
            "text/plain": [
              "Pipeline(steps=[('preproc',\n",
              "                 ColumnTransformer(remainder='passthrough',\n",
              "                                   transformers=[('cat_pipe',\n",
              "                                                  Pipeline(steps=[('cat_impute',\n",
              "                                                                   SimpleImputer(strategy='most_frequent')),\n",
              "                                                                  ('onehot_cat',\n",
              "                                                                   OneHotEncoder(drop='if_binary'))]),\n",
              "                                                  <sklearn.compose._column_transformer.make_column_selector object at 0x7f01cd9f26d0>),\n",
              "                                                 ('num_pipe',\n",
              "                                                  Pipeline(steps=[('impute_num',\n",
              "                                                                   SimpleImputer()),\n",
              "                                                                  ('scale_num',\n",
              "                                                                   StandardScaler())]),\n",
              "                                                  <sklearn.compose._column_transformer.make_column_selector object at 0x7f01cd9f2710>)])),\n",
              "                ('classifier', RandomForestClassifier())])"
            ],
            "text/html": [
              "<style>#sk-e9964bbe-8d27-48ff-b0c5-504025d6b91f {color: black;background-color: white;}#sk-e9964bbe-8d27-48ff-b0c5-504025d6b91f pre{padding: 0;}#sk-e9964bbe-8d27-48ff-b0c5-504025d6b91f div.sk-toggleable {background-color: white;}#sk-e9964bbe-8d27-48ff-b0c5-504025d6b91f label.sk-toggleable__label {cursor: pointer;display: block;width: 100%;margin-bottom: 0;padding: 0.3em;box-sizing: border-box;text-align: center;}#sk-e9964bbe-8d27-48ff-b0c5-504025d6b91f label.sk-toggleable__label-arrow:before {content: \"▸\";float: left;margin-right: 0.25em;color: #696969;}#sk-e9964bbe-8d27-48ff-b0c5-504025d6b91f label.sk-toggleable__label-arrow:hover:before {color: black;}#sk-e9964bbe-8d27-48ff-b0c5-504025d6b91f div.sk-estimator:hover label.sk-toggleable__label-arrow:before {color: black;}#sk-e9964bbe-8d27-48ff-b0c5-504025d6b91f div.sk-toggleable__content {max-height: 0;max-width: 0;overflow: hidden;text-align: left;background-color: #f0f8ff;}#sk-e9964bbe-8d27-48ff-b0c5-504025d6b91f div.sk-toggleable__content pre {margin: 0.2em;color: black;border-radius: 0.25em;background-color: #f0f8ff;}#sk-e9964bbe-8d27-48ff-b0c5-504025d6b91f input.sk-toggleable__control:checked~div.sk-toggleable__content {max-height: 200px;max-width: 100%;overflow: auto;}#sk-e9964bbe-8d27-48ff-b0c5-504025d6b91f input.sk-toggleable__control:checked~label.sk-toggleable__label-arrow:before {content: \"▾\";}#sk-e9964bbe-8d27-48ff-b0c5-504025d6b91f div.sk-estimator input.sk-toggleable__control:checked~label.sk-toggleable__label {background-color: #d4ebff;}#sk-e9964bbe-8d27-48ff-b0c5-504025d6b91f div.sk-label input.sk-toggleable__control:checked~label.sk-toggleable__label {background-color: #d4ebff;}#sk-e9964bbe-8d27-48ff-b0c5-504025d6b91f input.sk-hidden--visually {border: 0;clip: rect(1px 1px 1px 1px);clip: rect(1px, 1px, 1px, 1px);height: 1px;margin: -1px;overflow: hidden;padding: 0;position: absolute;width: 1px;}#sk-e9964bbe-8d27-48ff-b0c5-504025d6b91f div.sk-estimator {font-family: monospace;background-color: #f0f8ff;border: 1px dotted black;border-radius: 0.25em;box-sizing: border-box;margin-bottom: 0.5em;}#sk-e9964bbe-8d27-48ff-b0c5-504025d6b91f div.sk-estimator:hover {background-color: #d4ebff;}#sk-e9964bbe-8d27-48ff-b0c5-504025d6b91f div.sk-parallel-item::after {content: \"\";width: 100%;border-bottom: 1px solid gray;flex-grow: 1;}#sk-e9964bbe-8d27-48ff-b0c5-504025d6b91f div.sk-label:hover label.sk-toggleable__label {background-color: #d4ebff;}#sk-e9964bbe-8d27-48ff-b0c5-504025d6b91f div.sk-serial::before {content: \"\";position: absolute;border-left: 1px solid gray;box-sizing: border-box;top: 2em;bottom: 0;left: 50%;}#sk-e9964bbe-8d27-48ff-b0c5-504025d6b91f div.sk-serial {display: flex;flex-direction: column;align-items: center;background-color: white;padding-right: 0.2em;padding-left: 0.2em;}#sk-e9964bbe-8d27-48ff-b0c5-504025d6b91f div.sk-item {z-index: 1;}#sk-e9964bbe-8d27-48ff-b0c5-504025d6b91f div.sk-parallel {display: flex;align-items: stretch;justify-content: center;background-color: white;}#sk-e9964bbe-8d27-48ff-b0c5-504025d6b91f div.sk-parallel::before {content: \"\";position: absolute;border-left: 1px solid gray;box-sizing: border-box;top: 2em;bottom: 0;left: 50%;}#sk-e9964bbe-8d27-48ff-b0c5-504025d6b91f div.sk-parallel-item {display: flex;flex-direction: column;position: relative;background-color: white;}#sk-e9964bbe-8d27-48ff-b0c5-504025d6b91f div.sk-parallel-item:first-child::after {align-self: flex-end;width: 50%;}#sk-e9964bbe-8d27-48ff-b0c5-504025d6b91f div.sk-parallel-item:last-child::after {align-self: flex-start;width: 50%;}#sk-e9964bbe-8d27-48ff-b0c5-504025d6b91f div.sk-parallel-item:only-child::after {width: 0;}#sk-e9964bbe-8d27-48ff-b0c5-504025d6b91f div.sk-dashed-wrapped {border: 1px dashed gray;margin: 0 0.4em 0.5em 0.4em;box-sizing: border-box;padding-bottom: 0.4em;background-color: white;position: relative;}#sk-e9964bbe-8d27-48ff-b0c5-504025d6b91f div.sk-label label {font-family: monospace;font-weight: bold;background-color: white;display: inline-block;line-height: 1.2em;}#sk-e9964bbe-8d27-48ff-b0c5-504025d6b91f div.sk-label-container {position: relative;z-index: 2;text-align: center;}#sk-e9964bbe-8d27-48ff-b0c5-504025d6b91f div.sk-container {/* jupyter's `normalize.less` sets `[hidden] { display: none; }` but bootstrap.min.css set `[hidden] { display: none !important; }` so we also need the `!important` here to be able to override the default hidden behavior on the sphinx rendered scikit-learn.org. See: https://github.com/scikit-learn/scikit-learn/issues/21755 */display: inline-block !important;position: relative;}#sk-e9964bbe-8d27-48ff-b0c5-504025d6b91f div.sk-text-repr-fallback {display: none;}</style><div id=\"sk-e9964bbe-8d27-48ff-b0c5-504025d6b91f\" class=\"sk-top-container\"><div class=\"sk-text-repr-fallback\"><pre>Pipeline(steps=[(&#x27;preproc&#x27;,\n",
              "                 ColumnTransformer(remainder=&#x27;passthrough&#x27;,\n",
              "                                   transformers=[(&#x27;cat_pipe&#x27;,\n",
              "                                                  Pipeline(steps=[(&#x27;cat_impute&#x27;,\n",
              "                                                                   SimpleImputer(strategy=&#x27;most_frequent&#x27;)),\n",
              "                                                                  (&#x27;onehot_cat&#x27;,\n",
              "                                                                   OneHotEncoder(drop=&#x27;if_binary&#x27;))]),\n",
              "                                                  &lt;sklearn.compose._column_transformer.make_column_selector object at 0x7f01cd9f26d0&gt;),\n",
              "                                                 (&#x27;num_pipe&#x27;,\n",
              "                                                  Pipeline(steps=[(&#x27;impute_num&#x27;,\n",
              "                                                                   SimpleImputer()),\n",
              "                                                                  (&#x27;scale_num&#x27;,\n",
              "                                                                   StandardScaler())]),\n",
              "                                                  &lt;sklearn.compose._column_transformer.make_column_selector object at 0x7f01cd9f2710&gt;)])),\n",
              "                (&#x27;classifier&#x27;, RandomForestClassifier())])</pre><b>Please rerun this cell to show the HTML repr or trust the notebook.</b></div><div class=\"sk-container\" hidden><div class=\"sk-item sk-dashed-wrapped\"><div class=\"sk-label-container\"><div class=\"sk-label sk-toggleable\"><input class=\"sk-toggleable__control sk-hidden--visually\" id=\"6dc60c25-e22f-4d41-9f6b-f54dabe0e8f4\" type=\"checkbox\" ><label for=\"6dc60c25-e22f-4d41-9f6b-f54dabe0e8f4\" class=\"sk-toggleable__label sk-toggleable__label-arrow\">Pipeline</label><div class=\"sk-toggleable__content\"><pre>Pipeline(steps=[(&#x27;preproc&#x27;,\n",
              "                 ColumnTransformer(remainder=&#x27;passthrough&#x27;,\n",
              "                                   transformers=[(&#x27;cat_pipe&#x27;,\n",
              "                                                  Pipeline(steps=[(&#x27;cat_impute&#x27;,\n",
              "                                                                   SimpleImputer(strategy=&#x27;most_frequent&#x27;)),\n",
              "                                                                  (&#x27;onehot_cat&#x27;,\n",
              "                                                                   OneHotEncoder(drop=&#x27;if_binary&#x27;))]),\n",
              "                                                  &lt;sklearn.compose._column_transformer.make_column_selector object at 0x7f01cd9f26d0&gt;),\n",
              "                                                 (&#x27;num_pipe&#x27;,\n",
              "                                                  Pipeline(steps=[(&#x27;impute_num&#x27;,\n",
              "                                                                   SimpleImputer()),\n",
              "                                                                  (&#x27;scale_num&#x27;,\n",
              "                                                                   StandardScaler())]),\n",
              "                                                  &lt;sklearn.compose._column_transformer.make_column_selector object at 0x7f01cd9f2710&gt;)])),\n",
              "                (&#x27;classifier&#x27;, RandomForestClassifier())])</pre></div></div></div><div class=\"sk-serial\"><div class=\"sk-item sk-dashed-wrapped\"><div class=\"sk-label-container\"><div class=\"sk-label sk-toggleable\"><input class=\"sk-toggleable__control sk-hidden--visually\" id=\"ccc984d2-b0a2-4cdd-a536-0a39ae393fb5\" type=\"checkbox\" ><label for=\"ccc984d2-b0a2-4cdd-a536-0a39ae393fb5\" class=\"sk-toggleable__label sk-toggleable__label-arrow\">preproc: ColumnTransformer</label><div class=\"sk-toggleable__content\"><pre>ColumnTransformer(remainder=&#x27;passthrough&#x27;,\n",
              "                  transformers=[(&#x27;cat_pipe&#x27;,\n",
              "                                 Pipeline(steps=[(&#x27;cat_impute&#x27;,\n",
              "                                                  SimpleImputer(strategy=&#x27;most_frequent&#x27;)),\n",
              "                                                 (&#x27;onehot_cat&#x27;,\n",
              "                                                  OneHotEncoder(drop=&#x27;if_binary&#x27;))]),\n",
              "                                 &lt;sklearn.compose._column_transformer.make_column_selector object at 0x7f01cd9f26d0&gt;),\n",
              "                                (&#x27;num_pipe&#x27;,\n",
              "                                 Pipeline(steps=[(&#x27;impute_num&#x27;,\n",
              "                                                  SimpleImputer()),\n",
              "                                                 (&#x27;scale_num&#x27;,\n",
              "                                                  StandardScaler())]),\n",
              "                                 &lt;sklearn.compose._column_transformer.make_column_selector object at 0x7f01cd9f2710&gt;)])</pre></div></div></div><div class=\"sk-parallel\"><div class=\"sk-parallel-item\"><div class=\"sk-item\"><div class=\"sk-label-container\"><div class=\"sk-label sk-toggleable\"><input class=\"sk-toggleable__control sk-hidden--visually\" id=\"b57025f2-7672-4fe9-9732-15ec91654526\" type=\"checkbox\" ><label for=\"b57025f2-7672-4fe9-9732-15ec91654526\" class=\"sk-toggleable__label sk-toggleable__label-arrow\">cat_pipe</label><div class=\"sk-toggleable__content\"><pre>&lt;sklearn.compose._column_transformer.make_column_selector object at 0x7f01cd9f26d0&gt;</pre></div></div></div><div class=\"sk-serial\"><div class=\"sk-item\"><div class=\"sk-serial\"><div class=\"sk-item\"><div class=\"sk-estimator sk-toggleable\"><input class=\"sk-toggleable__control sk-hidden--visually\" id=\"41c8eb02-c084-492d-a947-20f6b0959975\" type=\"checkbox\" ><label for=\"41c8eb02-c084-492d-a947-20f6b0959975\" class=\"sk-toggleable__label sk-toggleable__label-arrow\">SimpleImputer</label><div class=\"sk-toggleable__content\"><pre>SimpleImputer(strategy=&#x27;most_frequent&#x27;)</pre></div></div></div><div class=\"sk-item\"><div class=\"sk-estimator sk-toggleable\"><input class=\"sk-toggleable__control sk-hidden--visually\" id=\"b385f9ec-b647-46d9-8b61-4c777a2d1fff\" type=\"checkbox\" ><label for=\"b385f9ec-b647-46d9-8b61-4c777a2d1fff\" class=\"sk-toggleable__label sk-toggleable__label-arrow\">OneHotEncoder</label><div class=\"sk-toggleable__content\"><pre>OneHotEncoder(drop=&#x27;if_binary&#x27;)</pre></div></div></div></div></div></div></div></div><div class=\"sk-parallel-item\"><div class=\"sk-item\"><div class=\"sk-label-container\"><div class=\"sk-label sk-toggleable\"><input class=\"sk-toggleable__control sk-hidden--visually\" id=\"fd27b522-d46b-4a5b-bb0e-c3e3d68b3e67\" type=\"checkbox\" ><label for=\"fd27b522-d46b-4a5b-bb0e-c3e3d68b3e67\" class=\"sk-toggleable__label sk-toggleable__label-arrow\">num_pipe</label><div class=\"sk-toggleable__content\"><pre>&lt;sklearn.compose._column_transformer.make_column_selector object at 0x7f01cd9f2710&gt;</pre></div></div></div><div class=\"sk-serial\"><div class=\"sk-item\"><div class=\"sk-serial\"><div class=\"sk-item\"><div class=\"sk-estimator sk-toggleable\"><input class=\"sk-toggleable__control sk-hidden--visually\" id=\"1650d86f-157b-4fc2-a641-c81ea1934aed\" type=\"checkbox\" ><label for=\"1650d86f-157b-4fc2-a641-c81ea1934aed\" class=\"sk-toggleable__label sk-toggleable__label-arrow\">SimpleImputer</label><div class=\"sk-toggleable__content\"><pre>SimpleImputer()</pre></div></div></div><div class=\"sk-item\"><div class=\"sk-estimator sk-toggleable\"><input class=\"sk-toggleable__control sk-hidden--visually\" id=\"900999ff-4afa-46fd-afd2-72eb7d6f0247\" type=\"checkbox\" ><label for=\"900999ff-4afa-46fd-afd2-72eb7d6f0247\" class=\"sk-toggleable__label sk-toggleable__label-arrow\">StandardScaler</label><div class=\"sk-toggleable__content\"><pre>StandardScaler()</pre></div></div></div></div></div></div></div></div><div class=\"sk-parallel-item\"><div class=\"sk-item\"><div class=\"sk-label-container\"><div class=\"sk-label sk-toggleable\"><input class=\"sk-toggleable__control sk-hidden--visually\" id=\"504765a6-fa78-41a1-a4eb-f01151b6fd5d\" type=\"checkbox\" ><label for=\"504765a6-fa78-41a1-a4eb-f01151b6fd5d\" class=\"sk-toggleable__label sk-toggleable__label-arrow\">remainder</label><div class=\"sk-toggleable__content\"><pre></pre></div></div></div><div class=\"sk-serial\"><div class=\"sk-item\"><div class=\"sk-estimator sk-toggleable\"><input class=\"sk-toggleable__control sk-hidden--visually\" id=\"1febeb2a-c1f8-49a9-8eca-ef21ebeb5e69\" type=\"checkbox\" ><label for=\"1febeb2a-c1f8-49a9-8eca-ef21ebeb5e69\" class=\"sk-toggleable__label sk-toggleable__label-arrow\">passthrough</label><div class=\"sk-toggleable__content\"><pre>passthrough</pre></div></div></div></div></div></div></div></div><div class=\"sk-item\"><div class=\"sk-estimator sk-toggleable\"><input class=\"sk-toggleable__control sk-hidden--visually\" id=\"5d44bc39-d91c-4add-8b73-c4ed27efc2fb\" type=\"checkbox\" ><label for=\"5d44bc39-d91c-4add-8b73-c4ed27efc2fb\" class=\"sk-toggleable__label sk-toggleable__label-arrow\">RandomForestClassifier</label><div class=\"sk-toggleable__content\"><pre>RandomForestClassifier()</pre></div></div></div></div></div></div></div>"
            ]
          },
          "metadata": {}
        }
      ]
    },
    {
      "cell_type": "code",
      "source": [
        "# TODO: set up your modeling pipeline\n",
        "# Modeling pipeline for Gradient Boosting Model\n",
        "gradient_pipe = Pipeline(steps=[('preproc', preproc),('classifier',GradientBoostingClassifier())])\n",
        "\n",
        "# Feel free to uncomment and edit the code below to visualize your overall pieline\n",
        "with config_context(display='diagram'):\n",
        "     display(gradient_pipe)"
      ],
      "metadata": {
        "colab": {
          "base_uri": "https://localhost:8080/",
          "height": 227
        },
        "id": "FZqUoZxHJ04p",
        "outputId": "f1f92a7e-a134-4e36-c66e-79b53036d7fd"
      },
      "execution_count": 19,
      "outputs": [
        {
          "output_type": "display_data",
          "data": {
            "text/plain": [
              "Pipeline(steps=[('preproc',\n",
              "                 ColumnTransformer(remainder='passthrough',\n",
              "                                   transformers=[('cat_pipe',\n",
              "                                                  Pipeline(steps=[('cat_impute',\n",
              "                                                                   SimpleImputer(strategy='most_frequent')),\n",
              "                                                                  ('onehot_cat',\n",
              "                                                                   OneHotEncoder(drop='if_binary'))]),\n",
              "                                                  <sklearn.compose._column_transformer.make_column_selector object at 0x7f01cd9f26d0>),\n",
              "                                                 ('num_pipe',\n",
              "                                                  Pipeline(steps=[('impute_num',\n",
              "                                                                   SimpleImputer()),\n",
              "                                                                  ('scale_num',\n",
              "                                                                   StandardScaler())]),\n",
              "                                                  <sklearn.compose._column_transformer.make_column_selector object at 0x7f01cd9f2710>)])),\n",
              "                ('classifier', GradientBoostingClassifier())])"
            ],
            "text/html": [
              "<style>#sk-76030a8e-b553-4c96-bed7-6f6893b491fc {color: black;background-color: white;}#sk-76030a8e-b553-4c96-bed7-6f6893b491fc pre{padding: 0;}#sk-76030a8e-b553-4c96-bed7-6f6893b491fc div.sk-toggleable {background-color: white;}#sk-76030a8e-b553-4c96-bed7-6f6893b491fc label.sk-toggleable__label {cursor: pointer;display: block;width: 100%;margin-bottom: 0;padding: 0.3em;box-sizing: border-box;text-align: center;}#sk-76030a8e-b553-4c96-bed7-6f6893b491fc label.sk-toggleable__label-arrow:before {content: \"▸\";float: left;margin-right: 0.25em;color: #696969;}#sk-76030a8e-b553-4c96-bed7-6f6893b491fc label.sk-toggleable__label-arrow:hover:before {color: black;}#sk-76030a8e-b553-4c96-bed7-6f6893b491fc div.sk-estimator:hover label.sk-toggleable__label-arrow:before {color: black;}#sk-76030a8e-b553-4c96-bed7-6f6893b491fc div.sk-toggleable__content {max-height: 0;max-width: 0;overflow: hidden;text-align: left;background-color: #f0f8ff;}#sk-76030a8e-b553-4c96-bed7-6f6893b491fc div.sk-toggleable__content pre {margin: 0.2em;color: black;border-radius: 0.25em;background-color: #f0f8ff;}#sk-76030a8e-b553-4c96-bed7-6f6893b491fc input.sk-toggleable__control:checked~div.sk-toggleable__content {max-height: 200px;max-width: 100%;overflow: auto;}#sk-76030a8e-b553-4c96-bed7-6f6893b491fc input.sk-toggleable__control:checked~label.sk-toggleable__label-arrow:before {content: \"▾\";}#sk-76030a8e-b553-4c96-bed7-6f6893b491fc div.sk-estimator input.sk-toggleable__control:checked~label.sk-toggleable__label {background-color: #d4ebff;}#sk-76030a8e-b553-4c96-bed7-6f6893b491fc div.sk-label input.sk-toggleable__control:checked~label.sk-toggleable__label {background-color: #d4ebff;}#sk-76030a8e-b553-4c96-bed7-6f6893b491fc input.sk-hidden--visually {border: 0;clip: rect(1px 1px 1px 1px);clip: rect(1px, 1px, 1px, 1px);height: 1px;margin: -1px;overflow: hidden;padding: 0;position: absolute;width: 1px;}#sk-76030a8e-b553-4c96-bed7-6f6893b491fc div.sk-estimator {font-family: monospace;background-color: #f0f8ff;border: 1px dotted black;border-radius: 0.25em;box-sizing: border-box;margin-bottom: 0.5em;}#sk-76030a8e-b553-4c96-bed7-6f6893b491fc div.sk-estimator:hover {background-color: #d4ebff;}#sk-76030a8e-b553-4c96-bed7-6f6893b491fc div.sk-parallel-item::after {content: \"\";width: 100%;border-bottom: 1px solid gray;flex-grow: 1;}#sk-76030a8e-b553-4c96-bed7-6f6893b491fc div.sk-label:hover label.sk-toggleable__label {background-color: #d4ebff;}#sk-76030a8e-b553-4c96-bed7-6f6893b491fc div.sk-serial::before {content: \"\";position: absolute;border-left: 1px solid gray;box-sizing: border-box;top: 2em;bottom: 0;left: 50%;}#sk-76030a8e-b553-4c96-bed7-6f6893b491fc div.sk-serial {display: flex;flex-direction: column;align-items: center;background-color: white;padding-right: 0.2em;padding-left: 0.2em;}#sk-76030a8e-b553-4c96-bed7-6f6893b491fc div.sk-item {z-index: 1;}#sk-76030a8e-b553-4c96-bed7-6f6893b491fc div.sk-parallel {display: flex;align-items: stretch;justify-content: center;background-color: white;}#sk-76030a8e-b553-4c96-bed7-6f6893b491fc div.sk-parallel::before {content: \"\";position: absolute;border-left: 1px solid gray;box-sizing: border-box;top: 2em;bottom: 0;left: 50%;}#sk-76030a8e-b553-4c96-bed7-6f6893b491fc div.sk-parallel-item {display: flex;flex-direction: column;position: relative;background-color: white;}#sk-76030a8e-b553-4c96-bed7-6f6893b491fc div.sk-parallel-item:first-child::after {align-self: flex-end;width: 50%;}#sk-76030a8e-b553-4c96-bed7-6f6893b491fc div.sk-parallel-item:last-child::after {align-self: flex-start;width: 50%;}#sk-76030a8e-b553-4c96-bed7-6f6893b491fc div.sk-parallel-item:only-child::after {width: 0;}#sk-76030a8e-b553-4c96-bed7-6f6893b491fc div.sk-dashed-wrapped {border: 1px dashed gray;margin: 0 0.4em 0.5em 0.4em;box-sizing: border-box;padding-bottom: 0.4em;background-color: white;position: relative;}#sk-76030a8e-b553-4c96-bed7-6f6893b491fc div.sk-label label {font-family: monospace;font-weight: bold;background-color: white;display: inline-block;line-height: 1.2em;}#sk-76030a8e-b553-4c96-bed7-6f6893b491fc div.sk-label-container {position: relative;z-index: 2;text-align: center;}#sk-76030a8e-b553-4c96-bed7-6f6893b491fc div.sk-container {/* jupyter's `normalize.less` sets `[hidden] { display: none; }` but bootstrap.min.css set `[hidden] { display: none !important; }` so we also need the `!important` here to be able to override the default hidden behavior on the sphinx rendered scikit-learn.org. See: https://github.com/scikit-learn/scikit-learn/issues/21755 */display: inline-block !important;position: relative;}#sk-76030a8e-b553-4c96-bed7-6f6893b491fc div.sk-text-repr-fallback {display: none;}</style><div id=\"sk-76030a8e-b553-4c96-bed7-6f6893b491fc\" class=\"sk-top-container\"><div class=\"sk-text-repr-fallback\"><pre>Pipeline(steps=[(&#x27;preproc&#x27;,\n",
              "                 ColumnTransformer(remainder=&#x27;passthrough&#x27;,\n",
              "                                   transformers=[(&#x27;cat_pipe&#x27;,\n",
              "                                                  Pipeline(steps=[(&#x27;cat_impute&#x27;,\n",
              "                                                                   SimpleImputer(strategy=&#x27;most_frequent&#x27;)),\n",
              "                                                                  (&#x27;onehot_cat&#x27;,\n",
              "                                                                   OneHotEncoder(drop=&#x27;if_binary&#x27;))]),\n",
              "                                                  &lt;sklearn.compose._column_transformer.make_column_selector object at 0x7f01cd9f26d0&gt;),\n",
              "                                                 (&#x27;num_pipe&#x27;,\n",
              "                                                  Pipeline(steps=[(&#x27;impute_num&#x27;,\n",
              "                                                                   SimpleImputer()),\n",
              "                                                                  (&#x27;scale_num&#x27;,\n",
              "                                                                   StandardScaler())]),\n",
              "                                                  &lt;sklearn.compose._column_transformer.make_column_selector object at 0x7f01cd9f2710&gt;)])),\n",
              "                (&#x27;classifier&#x27;, GradientBoostingClassifier())])</pre><b>Please rerun this cell to show the HTML repr or trust the notebook.</b></div><div class=\"sk-container\" hidden><div class=\"sk-item sk-dashed-wrapped\"><div class=\"sk-label-container\"><div class=\"sk-label sk-toggleable\"><input class=\"sk-toggleable__control sk-hidden--visually\" id=\"d4ee61e1-26d5-44d3-b14b-501fcc35b591\" type=\"checkbox\" ><label for=\"d4ee61e1-26d5-44d3-b14b-501fcc35b591\" class=\"sk-toggleable__label sk-toggleable__label-arrow\">Pipeline</label><div class=\"sk-toggleable__content\"><pre>Pipeline(steps=[(&#x27;preproc&#x27;,\n",
              "                 ColumnTransformer(remainder=&#x27;passthrough&#x27;,\n",
              "                                   transformers=[(&#x27;cat_pipe&#x27;,\n",
              "                                                  Pipeline(steps=[(&#x27;cat_impute&#x27;,\n",
              "                                                                   SimpleImputer(strategy=&#x27;most_frequent&#x27;)),\n",
              "                                                                  (&#x27;onehot_cat&#x27;,\n",
              "                                                                   OneHotEncoder(drop=&#x27;if_binary&#x27;))]),\n",
              "                                                  &lt;sklearn.compose._column_transformer.make_column_selector object at 0x7f01cd9f26d0&gt;),\n",
              "                                                 (&#x27;num_pipe&#x27;,\n",
              "                                                  Pipeline(steps=[(&#x27;impute_num&#x27;,\n",
              "                                                                   SimpleImputer()),\n",
              "                                                                  (&#x27;scale_num&#x27;,\n",
              "                                                                   StandardScaler())]),\n",
              "                                                  &lt;sklearn.compose._column_transformer.make_column_selector object at 0x7f01cd9f2710&gt;)])),\n",
              "                (&#x27;classifier&#x27;, GradientBoostingClassifier())])</pre></div></div></div><div class=\"sk-serial\"><div class=\"sk-item sk-dashed-wrapped\"><div class=\"sk-label-container\"><div class=\"sk-label sk-toggleable\"><input class=\"sk-toggleable__control sk-hidden--visually\" id=\"01f9f1ba-53f4-4bd7-b8a0-c0b29813f0cf\" type=\"checkbox\" ><label for=\"01f9f1ba-53f4-4bd7-b8a0-c0b29813f0cf\" class=\"sk-toggleable__label sk-toggleable__label-arrow\">preproc: ColumnTransformer</label><div class=\"sk-toggleable__content\"><pre>ColumnTransformer(remainder=&#x27;passthrough&#x27;,\n",
              "                  transformers=[(&#x27;cat_pipe&#x27;,\n",
              "                                 Pipeline(steps=[(&#x27;cat_impute&#x27;,\n",
              "                                                  SimpleImputer(strategy=&#x27;most_frequent&#x27;)),\n",
              "                                                 (&#x27;onehot_cat&#x27;,\n",
              "                                                  OneHotEncoder(drop=&#x27;if_binary&#x27;))]),\n",
              "                                 &lt;sklearn.compose._column_transformer.make_column_selector object at 0x7f01cd9f26d0&gt;),\n",
              "                                (&#x27;num_pipe&#x27;,\n",
              "                                 Pipeline(steps=[(&#x27;impute_num&#x27;,\n",
              "                                                  SimpleImputer()),\n",
              "                                                 (&#x27;scale_num&#x27;,\n",
              "                                                  StandardScaler())]),\n",
              "                                 &lt;sklearn.compose._column_transformer.make_column_selector object at 0x7f01cd9f2710&gt;)])</pre></div></div></div><div class=\"sk-parallel\"><div class=\"sk-parallel-item\"><div class=\"sk-item\"><div class=\"sk-label-container\"><div class=\"sk-label sk-toggleable\"><input class=\"sk-toggleable__control sk-hidden--visually\" id=\"33d8b130-a32b-4c48-9c84-f19721051bbd\" type=\"checkbox\" ><label for=\"33d8b130-a32b-4c48-9c84-f19721051bbd\" class=\"sk-toggleable__label sk-toggleable__label-arrow\">cat_pipe</label><div class=\"sk-toggleable__content\"><pre>&lt;sklearn.compose._column_transformer.make_column_selector object at 0x7f01cd9f26d0&gt;</pre></div></div></div><div class=\"sk-serial\"><div class=\"sk-item\"><div class=\"sk-serial\"><div class=\"sk-item\"><div class=\"sk-estimator sk-toggleable\"><input class=\"sk-toggleable__control sk-hidden--visually\" id=\"83d819b6-d101-482a-afc9-de13ab428b5a\" type=\"checkbox\" ><label for=\"83d819b6-d101-482a-afc9-de13ab428b5a\" class=\"sk-toggleable__label sk-toggleable__label-arrow\">SimpleImputer</label><div class=\"sk-toggleable__content\"><pre>SimpleImputer(strategy=&#x27;most_frequent&#x27;)</pre></div></div></div><div class=\"sk-item\"><div class=\"sk-estimator sk-toggleable\"><input class=\"sk-toggleable__control sk-hidden--visually\" id=\"109d4e33-31ed-4e8b-b52a-9ffc39cfb342\" type=\"checkbox\" ><label for=\"109d4e33-31ed-4e8b-b52a-9ffc39cfb342\" class=\"sk-toggleable__label sk-toggleable__label-arrow\">OneHotEncoder</label><div class=\"sk-toggleable__content\"><pre>OneHotEncoder(drop=&#x27;if_binary&#x27;)</pre></div></div></div></div></div></div></div></div><div class=\"sk-parallel-item\"><div class=\"sk-item\"><div class=\"sk-label-container\"><div class=\"sk-label sk-toggleable\"><input class=\"sk-toggleable__control sk-hidden--visually\" id=\"c9752d6a-96c5-4250-a7ec-fa349d5817b7\" type=\"checkbox\" ><label for=\"c9752d6a-96c5-4250-a7ec-fa349d5817b7\" class=\"sk-toggleable__label sk-toggleable__label-arrow\">num_pipe</label><div class=\"sk-toggleable__content\"><pre>&lt;sklearn.compose._column_transformer.make_column_selector object at 0x7f01cd9f2710&gt;</pre></div></div></div><div class=\"sk-serial\"><div class=\"sk-item\"><div class=\"sk-serial\"><div class=\"sk-item\"><div class=\"sk-estimator sk-toggleable\"><input class=\"sk-toggleable__control sk-hidden--visually\" id=\"0e2667cd-92f8-4393-b122-375e2a7a0969\" type=\"checkbox\" ><label for=\"0e2667cd-92f8-4393-b122-375e2a7a0969\" class=\"sk-toggleable__label sk-toggleable__label-arrow\">SimpleImputer</label><div class=\"sk-toggleable__content\"><pre>SimpleImputer()</pre></div></div></div><div class=\"sk-item\"><div class=\"sk-estimator sk-toggleable\"><input class=\"sk-toggleable__control sk-hidden--visually\" id=\"582b8605-81d6-40a8-9730-6c33633a0a2f\" type=\"checkbox\" ><label for=\"582b8605-81d6-40a8-9730-6c33633a0a2f\" class=\"sk-toggleable__label sk-toggleable__label-arrow\">StandardScaler</label><div class=\"sk-toggleable__content\"><pre>StandardScaler()</pre></div></div></div></div></div></div></div></div><div class=\"sk-parallel-item\"><div class=\"sk-item\"><div class=\"sk-label-container\"><div class=\"sk-label sk-toggleable\"><input class=\"sk-toggleable__control sk-hidden--visually\" id=\"50d3b0f0-a78b-4b6c-8129-fb490c8939e7\" type=\"checkbox\" ><label for=\"50d3b0f0-a78b-4b6c-8129-fb490c8939e7\" class=\"sk-toggleable__label sk-toggleable__label-arrow\">remainder</label><div class=\"sk-toggleable__content\"><pre></pre></div></div></div><div class=\"sk-serial\"><div class=\"sk-item\"><div class=\"sk-estimator sk-toggleable\"><input class=\"sk-toggleable__control sk-hidden--visually\" id=\"a4cbc6b6-bd08-4936-8e79-3bd6a4ec758b\" type=\"checkbox\" ><label for=\"a4cbc6b6-bd08-4936-8e79-3bd6a4ec758b\" class=\"sk-toggleable__label sk-toggleable__label-arrow\">passthrough</label><div class=\"sk-toggleable__content\"><pre>passthrough</pre></div></div></div></div></div></div></div></div><div class=\"sk-item\"><div class=\"sk-estimator sk-toggleable\"><input class=\"sk-toggleable__control sk-hidden--visually\" id=\"755e4bf4-2c06-4d8b-a61e-761dac75337e\" type=\"checkbox\" ><label for=\"755e4bf4-2c06-4d8b-a61e-761dac75337e\" class=\"sk-toggleable__label sk-toggleable__label-arrow\">GradientBoostingClassifier</label><div class=\"sk-toggleable__content\"><pre>GradientBoostingClassifier()</pre></div></div></div></div></div></div></div>"
            ]
          },
          "metadata": {}
        }
      ]
    },
    {
      "cell_type": "markdown",
      "source": [
        "## Cross-validation with hyperparameter tuning\n",
        "\n",
        "Now that we have our pipelines, we can now use this as part of cross validation and hyperparameter tuning."
      ],
      "metadata": {
        "id": "ID85wROoR_ER"
      }
    },
    {
      "cell_type": "code",
      "source": [
        "# TODO: set up your tuning grid\n",
        "# Tuning grid for Logistic Regression\n",
        "log_tuning_grid = {\n",
        "    'mdl__l1_ratio' : np.linspace(0,1,5),\n",
        "    'mdl__C': np.logspace(-1, 6, 3) \n",
        "}\n",
        "\n",
        "print(log_tuning_grid)"
      ],
      "metadata": {
        "id": "f1Z-CfBkSBaT",
        "colab": {
          "base_uri": "https://localhost:8080/"
        },
        "outputId": "3313c51b-07b6-48fd-be2d-64cc541f354e"
      },
      "execution_count": 20,
      "outputs": [
        {
          "output_type": "stream",
          "name": "stdout",
          "text": [
            "{'mdl__l1_ratio': array([0.  , 0.25, 0.5 , 0.75, 1.  ]), 'mdl__C': array([1.00000000e-01, 3.16227766e+02, 1.00000000e+06])}\n"
          ]
        }
      ]
    },
    {
      "cell_type": "code",
      "source": [
        "# TODO: set up your tuning grid\n",
        "# Tuning grid for Random Forest Classifer\n",
        "rfc_tuning_grid = { \n",
        "    'classifier__n_estimators': [510, 30, 50, 100],\n",
        "    'classifier__max_depth': [1,3,5]\n",
        "}\n",
        "\n",
        "print(rfc_tuning_grid)"
      ],
      "metadata": {
        "colab": {
          "base_uri": "https://localhost:8080/"
        },
        "id": "E5qXMGk1KBpd",
        "outputId": "7862131d-0856-41ff-d2f2-2e0cc46f24a8"
      },
      "execution_count": 21,
      "outputs": [
        {
          "output_type": "stream",
          "name": "stdout",
          "text": [
            "{'classifier__n_estimators': [510, 30, 50, 100], 'classifier__max_depth': [1, 3, 5]}\n"
          ]
        }
      ]
    },
    {
      "cell_type": "code",
      "source": [
        "# TODO: set up your tuning grid\n",
        "# Tuning grid for Gradient Boosting Classifer  \n",
        "gradient_tuning_grid = { \n",
        "    'classifier__n_estimators': [10,20,50,100],\n",
        "    'classifier__max_depth': [1,3,5]\n",
        "}\n",
        "\n",
        "print(gradient_tuning_grid)"
      ],
      "metadata": {
        "colab": {
          "base_uri": "https://localhost:8080/"
        },
        "id": "K9UH6LMDKDgp",
        "outputId": "3d1fb22c-daa4-4ed5-f4d0-6b11b8630188"
      },
      "execution_count": 22,
      "outputs": [
        {
          "output_type": "stream",
          "name": "stdout",
          "text": [
            "{'classifier__n_estimators': [10, 20, 50, 100], 'classifier__max_depth': [1, 3, 5]}\n"
          ]
        }
      ]
    },
    {
      "cell_type": "code",
      "source": [
        "# TODO: fit your model\n",
        "# GridSearch for Logistic Regression\n",
        "log_grid_search = GridSearchCV(log_pipe, cv = 5, param_grid = log_tuning_grid, return_train_score=True)\n",
        "log_grid_search.fit(X_train, y_train.values.ravel())\n",
        "log_best = log_grid_search.best_params_\n",
        "log_result = pd.DataFrame(log_grid_search.cv_results_)"
      ],
      "metadata": {
        "id": "6ePCwB6uKG0Q"
      },
      "execution_count": 23,
      "outputs": []
    },
    {
      "cell_type": "code",
      "source": [
        "# TODO: fit your model\n",
        "# GridSearch for Random Forest Classifer\n",
        "rfc_grid_search = GridSearchCV(rfc_pipe, cv = 5, param_grid = rfc_tuning_grid, return_train_score=True)\n",
        "rfc_grid_search.fit(X_train, y_train.values.ravel())\n",
        "rfc_best = rfc_grid_search.best_params_\n",
        "rfc_result = pd.DataFrame(rfc_grid_search.cv_results_)"
      ],
      "metadata": {
        "id": "yvyFF5i6KHgd"
      },
      "execution_count": null,
      "outputs": []
    },
    {
      "cell_type": "code",
      "source": [
        "# TODO: fit your model\n",
        "# GridSearch for Gradient Boost Model\n",
        "gradient_grid_search = GridSearchCV(gradient_pipe, cv = 5, param_grid = gradient_tuning_grid, return_train_score=True)\n",
        "gradient_grid_search.fit(X_train, y_train.values.ravel())\n",
        "gradient_best = gradient_grid_search.best_params_\n",
        "gradient_result = pd.DataFrame(gradient_grid_search.cv_results_)"
      ],
      "metadata": {
        "id": "6ZwcnY6XKJJO"
      },
      "execution_count": null,
      "outputs": []
    },
    {
      "cell_type": "markdown",
      "source": [
        "## Final fit\n",
        "\n",
        "The final fit here is already present in the generated model due to the way we set our parameters in the grid search. If we want to look at the performance, we can do so. Here is a non-helpful description of the best model:"
      ],
      "metadata": {
        "id": "bgas3lX9SQKh"
      }
    },
    {
      "cell_type": "code",
      "source": [
        "print(log_best)\n",
        "print(rfc_best)\n",
        "print(gradient_best)"
      ],
      "metadata": {
        "id": "pVqsPcE6SRO6"
      },
      "execution_count": null,
      "outputs": []
    },
    {
      "cell_type": "code",
      "source": [
        "log_vip = log_grid_search.best_estimator_['mdl'].coef_[0]\n",
        "log_vip"
      ],
      "metadata": {
        "id": "nktpAJLLSUwY"
      },
      "execution_count": null,
      "outputs": []
    },
    {
      "cell_type": "code",
      "source": [
        "rfc_vip = rfc_grid_search.best_estimator_['classifier']\n",
        "rfc_vip"
      ],
      "metadata": {
        "id": "kn7zLNrWSVa9"
      },
      "execution_count": null,
      "outputs": []
    },
    {
      "cell_type": "code",
      "source": [
        "gradient_vip = gradient_grid_search.best_estimator_['classifier']\n",
        "gradient_vip"
      ],
      "metadata": {
        "id": "jFlAAcg7MyTs"
      },
      "execution_count": null,
      "outputs": []
    },
    {
      "cell_type": "code",
      "source": [
        "# #get names in correct preproc order\n",
        "cat_names = log_grid_search.best_estimator_.named_steps['preproc'].transformers_[0][1].named_steps['onehot_cat'].get_feature_names()\n",
        "num_names = log_grid_search.best_estimator_.named_steps['preproc'].transformers_[1][2]\n",
        "\n",
        "# #create df with vip info\n",
        "coef_info = pd.DataFrame({'feat_names':np.hstack([cat_names, num_names]), 'log_vip': log_vip})\n",
        "\n",
        "# #get sign and magnitude information\n",
        "coef_info = coef_info.assign(coef_mag = abs(coef_info['log_vip']), coef_sign = np.sign(coef_info['log_vip']))\n",
        "\n",
        "# #sort and plot\n",
        "coef_info = coef_info.set_index('feat_names').sort_values(by='coef_mag', ascending=False)\n",
        "plt.figure(figsize = (20,10))\n",
        "sns.barplot(y=coef_info.index, x='coef_mag', hue='coef_sign', data=coef_info, orient='h', dodge=False)"
      ],
      "metadata": {
        "id": "JK5-H2GzSdVP"
      },
      "execution_count": null,
      "outputs": []
    },
    {
      "cell_type": "markdown",
      "source": [
        "## Performance metrics on test data\n",
        "\n",
        "\n",
        "Here, we can see the performance of the model, which is pretty nice! We can also look into different scores specifically for more insight into the performance."
      ],
      "metadata": {
        "id": "K16tNEKqSht3"
      }
    },
    {
      "cell_type": "code",
      "source": [
        "log_result = (classification_report(y_test, log_grid_search.best_estimator_.predict(X_test)))\n",
        "print(log_result)\n",
        "\n",
        "rfc_result = (classification_report(y_test, rfc_grid_search.best_estimator_.predict(X_test)))\n",
        "print(rfc_result)\n",
        "\n",
        "gradient_result = (classification_report(y_test, gradient_grid_search.best_estimator_.predict(X_test)))\n",
        "print(gradient_result)"
      ],
      "metadata": {
        "id": "fCXcBAuVSgDI"
      },
      "execution_count": null,
      "outputs": []
    },
    {
      "cell_type": "code",
      "source": [
        "log_cm = confusion_matrix(y_test, log_grid_search.best_estimator_.predict(X_test))\n",
        "log_display = ConfusionMatrixDisplay(confusion_matrix=log_cm,\n",
        "                               display_labels=log_grid_search.classes_)\n",
        "log_display.plot()\n",
        "\n",
        "rfc_cm = confusion_matrix(y_test, rfc_grid_search.best_estimator_.predict(X_test))\n",
        "rfc_display = ConfusionMatrixDisplay(confusion_matrix=rfc_cm,\n",
        "                               display_labels=rfc_grid_search.classes_)\n",
        "rfc_display.plot()\n",
        "\n",
        "gradient_cm = confusion_matrix(y_test, gradient_grid_search.best_estimator_.predict(X_test))\n",
        "gradient_display = ConfusionMatrixDisplay(confusion_matrix=gradient_cm,\n",
        "                               display_labels=gradient_grid_search.classes_)\n",
        "gradient_display.plot()\n",
        "\n",
        "plt.show()"
      ],
      "metadata": {
        "id": "zR6LAImZSj7G"
      },
      "execution_count": null,
      "outputs": []
    },
    {
      "cell_type": "markdown",
      "source": [
        "**Part 2 Your Personal Project**\n",
        "\n",
        "**[6 points]** *In a text cell, describe your preliminary model results: which model performed best? Did the preliminary results match your expectation? Why or why not?*\n",
        "\n",
        "**The Logistic Regression performed the best and the preliminary results matched my expectation as the parameters are readily viable for binary classification for many of the features.**"
      ],
      "metadata": {
        "id": "-G2sipsYOcdn"
      }
    },
    {
      "cell_type": "markdown",
      "source": [
        "**Extra Credit [5 points]** Calculate the financial value of your models based on the following costs and benefits\n",
        "* Leave being True class and Stay being False\n",
        "\n",
        "* Cost of replacing an CPU is $2,000 (RC)\n",
        "\n",
        "* Cost of intervention $500 used on each CPU predicted to replace with a GPU (IC)\n",
        "\n",
        "* Intervention success rate is 20% for renewal theory (SR)\n",
        "\n",
        "|                 | Actual Replacement | Actual Viable |\n",
        "|:---------------:|:------------:|:-----------:|\n",
        "| Predicted Replacement |      TP      |      FP     |\n",
        "|  Predicted Use |      FN      |      TN     |\n",
        " \n",
        "* Compare models on value, find best model according to value metric"
      ],
      "metadata": {
        "id": "jY-dL3YuIwuR"
      }
    },
    {
      "cell_type": "markdown",
      "source": [
        "# **Financial Value of each model**\n",
        "\n",
        "* Logistic Regression: \\$2,000 * 28 <sub> (TP) </sub> * (.20) - \\$500 * 34 <sub>(TP+FP)</sub> = \\-$5,800\n",
        "\n",
        "* Random Forest: \\$2,000 * 6 <sub> (TP) </sub> * (.20) - \\$500 * 10 <sub>(TP+FP)</sub> = \\-$2600\n",
        "\n",
        "* Gradient Descent: \\$2,000 * 19 <sub>  (TP) </sub> * (.20) - \\$500 * 31 <sub>(TP+FP)</sub> = \\-$7900\n",
        "\n",
        "**Random Forest Classifer is the optimal at -$2,600**"
      ],
      "metadata": {
        "id": "cgw1a4RtI1q6"
      }
    }
  ]
}