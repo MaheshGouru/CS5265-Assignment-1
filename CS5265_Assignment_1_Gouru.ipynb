{
  "nbformat": 4,
  "nbformat_minor": 0,
  "metadata": {
    "colab": {
      "name": " CS5265-Assignment-1-Gouru.ipynb",
      "provenance": [],
      "collapsed_sections": [],
      "authorship_tag": "ABX9TyPjKyvsxb5gWA7r2GxdsqQE",
      "include_colab_link": true
    },
    "kernelspec": {
      "name": "python3",
      "display_name": "Python 3"
    },
    "language_info": {
      "name": "python"
    }
  },
  "cells": [
    {
      "cell_type": "markdown",
      "metadata": {
        "id": "view-in-github",
        "colab_type": "text"
      },
      "source": [
        "<a href=\"https://colab.research.google.com/github/MaheshGouru/CS5265-Assignment-1/blob/main/CS5265_Assignment_1_Gouru.ipynb\" target=\"_parent\"><img src=\"https://colab.research.google.com/assets/colab-badge.svg\" alt=\"Open In Colab\"/></a>"
      ]
    },
    {
      "cell_type": "markdown",
      "source": [
        "# Background\n",
        "# Project Description\n",
        "# Performance Metric"
      ],
      "metadata": {
        "id": "YQe7Mqbf0f2C"
      }
    },
    {
      "cell_type": "markdown",
      "source": [
        "## Clarification on Datasets needed for the Project Assignments\n",
        "Just to recap some important highlights of the datasets needed for the upcoming project assignments:\n",
        "\n",
        "- Size: at least 5000 datapoints (samples/rows/records), less than 100,000 datapoints are recommended\n",
        "\n",
        "- #&nbsp;of columns: at least 7 attributes/features/variables (columns) are needed \n",
        "\n",
        "- Types of columns: a good dataset will contain not only numerical columns but also categorical columns (e.g., gender, dates, or anything else that has a finite number of categories) \n",
        "\n",
        "Some resources for acquiring data: \n",
        "\n",
        "- https://www.kaggle.com/datasets\n",
        "\n",
        "- https://datasetsearch.research.google.com/ \n",
        "\n",
        "- https://archive.ics.uci.edu/ml/datasets.php "
      ],
      "metadata": {
        "id": "tCYJBYtO5cWE"
      }
    },
    {
      "cell_type": "code",
      "execution_count": null,
      "metadata": {
        "id": "Yr8tRuljz3uL"
      },
      "outputs": [],
      "source": []
    }
  ]
}