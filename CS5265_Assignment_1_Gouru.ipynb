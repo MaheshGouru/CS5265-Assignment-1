{
  "nbformat": 4,
  "nbformat_minor": 0,
  "metadata": {
    "colab": {
      "name": " CS5265-Assignment-1-Gouru.ipynb",
      "provenance": [],
      "collapsed_sections": [],
      "include_colab_link": true
    },
    "kernelspec": {
      "name": "python3",
      "display_name": "Python 3"
    },
    "language_info": {
      "name": "python"
    }
  },
  "cells": [
    {
      "cell_type": "markdown",
      "metadata": {
        "id": "view-in-github",
        "colab_type": "text"
      },
      "source": [
        "<a href=\"https://colab.research.google.com/github/MaheshGouru/CS5265-Assignment-1/blob/main/CS5265_Assignment_1_Gouru.ipynb\" target=\"_parent\"><img src=\"https://colab.research.google.com/assets/colab-badge.svg\" alt=\"Open In Colab\"/></a>"
      ]
    },
    {
      "cell_type": "markdown",
      "source": [
        "# Background\n",
        "With the rise of GPUs accelerating workloads for notably Apple's Neural Engine, Electric Vehicles autonomous functionalities, and data-mining for medicine, generating a benchmark for which configurations would be sufficiently suited for a developer would enable affordability, accessibility, and scalability amongst heterogenous architectures. Hosted on the UCI Machine Learning Repository as released from Enrique G. Paredes and Rafael Ballester-Ripoll of University of Zurich, the SGEMM GPU kernel performance Data Set publishes \"running times for multiplying two 2048 x 2048 matrices using a GPU OpenCL SGEMM kernel with varying parameters (using the library 'CLTune')\". SGEMM is short for \"Single precision GEneral Matrix Multiply\" which addresses matrix-matrix products of float 32 bits.\n",
        "\n",
        "The dataset has 14 parameters with 10 are ordinal and 4 are categorical (binary).\n",
        "\n",
        "The experiment used a workstation running Ubuntu 16.04 Linux with an Intel Core i5 (3.5GHz), 16GB RAM, and a NVidia Geforce GTX 680 4GB GF580 GTX-1.5GB GPU. This configuration can be replicated and reproduced for the sake of the exercise. The'gemm_fast' kernel from the automatic OpenCL kernel tuning library \"CLTune\" was used to interface the scripts with the GPU drivers.\n",
        "\n",
        "# Project Description\n",
        "Extracted from the dataset, the attribute information is as provided:\n",
        "\n",
        "## Independent variables:\n",
        "1-2. MWG, NWG: per-matrix 2D tiling at workgroup level: {16, 32, 64, 128} (integer)\n",
        "\n",
        "3.&nbsp; KWG: inner dimension of 2D tiling at workgroup level: {16, 32} (integer)\n",
        "\n",
        "4-5. MDIMC, NDIMC: local workgroup size: {8, 16, 32} (integer)\n",
        "\n",
        "6-7. MDIMA, NDIMB: local memory shape: {8, 16, 32} (integer)\n",
        "\n",
        "8.&nbsp; KWI: kernel loop unrolling factor: {2, 8} (integer)\n",
        "\n",
        "9-10. VWM, VWN: per-matrix vector widths for loading and storing: {1, 2, 4, 8} (integer)\n",
        "\n",
        "11-12. STRM, STRN: enable stride for accessing off-chip memory within a single thread: {0, 1} (categorical)\n",
        "\n",
        "13-14. SA, SB: per-matrix manual caching of the 2D workgroup tile: {0, 1} (categorical)\n",
        "\n",
        "The purpose would be interact with a wizard to recommend the most cost-effective configuration, such as those used on various cloud platforms like AWS, GCP, and Azure.\n",
        "\n",
        "# Performance Metric(s)\n",
        "The output are logged in columns 15-18. These columns log the performance times in milliseconds for 4 independent runs using the same parameters. As noted, the range is between 13.25 and 3397.08.\n",
        "\n",
        "As cited, a proportion of this data set was used to compute a tensor train based predictive model and estimate the Sobol sensitivity indices of all the parameters which could then be replicated as well to go through the exercise of benchmarking architectures for industry applications such as provided by TrTransaction Processing Performance Council (TPC) for decision support.\n",
        "\n",
        "#References\n",
        "https://archive.ics.uci.edu/ml/datasets/SGEMM+GPU+kernel+performance\n",
        "https://docs.nvidia.com/deeplearning/performance/dl-performance-matrix-multiplication/index.html\n",
        "\n",
        "---"
      ],
      "metadata": {
        "id": "YQe7Mqbf0f2C"
      }
    },
    {
      "cell_type": "markdown",
      "source": [
        "## Clarification on Datasets needed for the Project Assignments\n",
        "Just to recap some important highlights of the datasets needed for the upcoming project assignments:\n",
        "\n",
        "- Size: at least 5000 datapoints (samples/rows/records), less than 100,000 datapoints are recommended\n",
        "\n",
        "- #&nbsp;of columns: at least 7 attributes/features/variables (columns) are needed \n",
        "\n",
        "- Types of columns: a good dataset will contain not only numerical columns but also categorical columns (e.g., gender, dates, or anything else that has a finite number of categories) \n",
        "\n",
        "Some resources for acquiring data: \n",
        "\n",
        "- https://www.kaggle.com/datasets\n",
        "\n",
        "- https://datasetsearch.research.google.com/ \n",
        "\n",
        "- https://archive.ics.uci.edu/ml/datasets.php \n",
        "---"
      ],
      "metadata": {
        "collapsed": false,
        "id": "F9DdQYF1wNRR"
      }
    },
    {
      "cell_type": "markdown",
      "source": [
        "**III. Tasks**\n",
        "> [Task 2] Basic EDA: Describe 3-5 questions you would like to answer by examining the data in the issue description/detail section in a separate TEXT cell in your Jupyter Notebook\n",
        "1. What is the relationship between per-matrix 2D tiling at workgroup level and \n",
        "the fastest initial test run?\n",
        "2. What is the most used inner dimension of 2D tiling at workgroup level?\n",
        "3. What is the fastest run after initial compiling by each of the available kernel loop unrolling factors?"
      ],
      "metadata": {
        "id": "tCYJBYtO5cWE"
      }
    },
    {
      "cell_type": "code",
      "execution_count": 1,
      "metadata": {
        "id": "Yr8tRuljz3uL"
      },
      "outputs": [],
      "source": [
        "# tables and visualizations\n",
        "import pandas as pd\n",
        "import numpy as np\n",
        "import seaborn as sns\n",
        "import matplotlib.pyplot as plt"
      ]
    },
    {
      "cell_type": "code",
      "source": [
        "gpus = pd.read_csv('https://raw.githubusercontent.com/MaheshGouru/CS5265-Assignment-1/main/sgemm_product.csv')\n",
        "# gpus = sns.load_data('gpus')\n",
        "\n",
        "display(gpus.sample(1))\n",
        "gpus.info()"
      ],
      "metadata": {
        "colab": {
          "base_uri": "https://localhost:8080/",
          "height": 596
        },
        "id": "pLDkLHmvyztD",
        "outputId": "99cf2912-d3cf-469c-f8bd-30b4b7eb92c6"
      },
      "execution_count": 4,
      "outputs": [
        {
          "output_type": "display_data",
          "data": {
            "text/plain": [
              "        MWG  NWG  KWG  MDIMC  NDIMC  MDIMA  NDIMB  KWI  VWM  VWN  STRM  STRN  \\\n",
              "163787  128   32   32     16      8     16     16    8    8    1     1     0   \n",
              "\n",
              "        SA  SB  Run1 (ms)  Run2 (ms)  Run3 (ms)  Run4 (ms)  \n",
              "163787   1   1       58.3       58.3      54.21       58.3  "
            ],
            "text/html": [
              "\n",
              "  <div id=\"df-fc5d3be3-74fb-4646-9c80-038687e4d5f6\">\n",
              "    <div class=\"colab-df-container\">\n",
              "      <div>\n",
              "<style scoped>\n",
              "    .dataframe tbody tr th:only-of-type {\n",
              "        vertical-align: middle;\n",
              "    }\n",
              "\n",
              "    .dataframe tbody tr th {\n",
              "        vertical-align: top;\n",
              "    }\n",
              "\n",
              "    .dataframe thead th {\n",
              "        text-align: right;\n",
              "    }\n",
              "</style>\n",
              "<table border=\"1\" class=\"dataframe\">\n",
              "  <thead>\n",
              "    <tr style=\"text-align: right;\">\n",
              "      <th></th>\n",
              "      <th>MWG</th>\n",
              "      <th>NWG</th>\n",
              "      <th>KWG</th>\n",
              "      <th>MDIMC</th>\n",
              "      <th>NDIMC</th>\n",
              "      <th>MDIMA</th>\n",
              "      <th>NDIMB</th>\n",
              "      <th>KWI</th>\n",
              "      <th>VWM</th>\n",
              "      <th>VWN</th>\n",
              "      <th>STRM</th>\n",
              "      <th>STRN</th>\n",
              "      <th>SA</th>\n",
              "      <th>SB</th>\n",
              "      <th>Run1 (ms)</th>\n",
              "      <th>Run2 (ms)</th>\n",
              "      <th>Run3 (ms)</th>\n",
              "      <th>Run4 (ms)</th>\n",
              "    </tr>\n",
              "  </thead>\n",
              "  <tbody>\n",
              "    <tr>\n",
              "      <th>163787</th>\n",
              "      <td>128</td>\n",
              "      <td>32</td>\n",
              "      <td>32</td>\n",
              "      <td>16</td>\n",
              "      <td>8</td>\n",
              "      <td>16</td>\n",
              "      <td>16</td>\n",
              "      <td>8</td>\n",
              "      <td>8</td>\n",
              "      <td>1</td>\n",
              "      <td>1</td>\n",
              "      <td>0</td>\n",
              "      <td>1</td>\n",
              "      <td>1</td>\n",
              "      <td>58.3</td>\n",
              "      <td>58.3</td>\n",
              "      <td>54.21</td>\n",
              "      <td>58.3</td>\n",
              "    </tr>\n",
              "  </tbody>\n",
              "</table>\n",
              "</div>\n",
              "      <button class=\"colab-df-convert\" onclick=\"convertToInteractive('df-fc5d3be3-74fb-4646-9c80-038687e4d5f6')\"\n",
              "              title=\"Convert this dataframe to an interactive table.\"\n",
              "              style=\"display:none;\">\n",
              "        \n",
              "  <svg xmlns=\"http://www.w3.org/2000/svg\" height=\"24px\"viewBox=\"0 0 24 24\"\n",
              "       width=\"24px\">\n",
              "    <path d=\"M0 0h24v24H0V0z\" fill=\"none\"/>\n",
              "    <path d=\"M18.56 5.44l.94 2.06.94-2.06 2.06-.94-2.06-.94-.94-2.06-.94 2.06-2.06.94zm-11 1L8.5 8.5l.94-2.06 2.06-.94-2.06-.94L8.5 2.5l-.94 2.06-2.06.94zm10 10l.94 2.06.94-2.06 2.06-.94-2.06-.94-.94-2.06-.94 2.06-2.06.94z\"/><path d=\"M17.41 7.96l-1.37-1.37c-.4-.4-.92-.59-1.43-.59-.52 0-1.04.2-1.43.59L10.3 9.45l-7.72 7.72c-.78.78-.78 2.05 0 2.83L4 21.41c.39.39.9.59 1.41.59.51 0 1.02-.2 1.41-.59l7.78-7.78 2.81-2.81c.8-.78.8-2.07 0-2.86zM5.41 20L4 18.59l7.72-7.72 1.47 1.35L5.41 20z\"/>\n",
              "  </svg>\n",
              "      </button>\n",
              "      \n",
              "  <style>\n",
              "    .colab-df-container {\n",
              "      display:flex;\n",
              "      flex-wrap:wrap;\n",
              "      gap: 12px;\n",
              "    }\n",
              "\n",
              "    .colab-df-convert {\n",
              "      background-color: #E8F0FE;\n",
              "      border: none;\n",
              "      border-radius: 50%;\n",
              "      cursor: pointer;\n",
              "      display: none;\n",
              "      fill: #1967D2;\n",
              "      height: 32px;\n",
              "      padding: 0 0 0 0;\n",
              "      width: 32px;\n",
              "    }\n",
              "\n",
              "    .colab-df-convert:hover {\n",
              "      background-color: #E2EBFA;\n",
              "      box-shadow: 0px 1px 2px rgba(60, 64, 67, 0.3), 0px 1px 3px 1px rgba(60, 64, 67, 0.15);\n",
              "      fill: #174EA6;\n",
              "    }\n",
              "\n",
              "    [theme=dark] .colab-df-convert {\n",
              "      background-color: #3B4455;\n",
              "      fill: #D2E3FC;\n",
              "    }\n",
              "\n",
              "    [theme=dark] .colab-df-convert:hover {\n",
              "      background-color: #434B5C;\n",
              "      box-shadow: 0px 1px 3px 1px rgba(0, 0, 0, 0.15);\n",
              "      filter: drop-shadow(0px 1px 2px rgba(0, 0, 0, 0.3));\n",
              "      fill: #FFFFFF;\n",
              "    }\n",
              "  </style>\n",
              "\n",
              "      <script>\n",
              "        const buttonEl =\n",
              "          document.querySelector('#df-fc5d3be3-74fb-4646-9c80-038687e4d5f6 button.colab-df-convert');\n",
              "        buttonEl.style.display =\n",
              "          google.colab.kernel.accessAllowed ? 'block' : 'none';\n",
              "\n",
              "        async function convertToInteractive(key) {\n",
              "          const element = document.querySelector('#df-fc5d3be3-74fb-4646-9c80-038687e4d5f6');\n",
              "          const dataTable =\n",
              "            await google.colab.kernel.invokeFunction('convertToInteractive',\n",
              "                                                     [key], {});\n",
              "          if (!dataTable) return;\n",
              "\n",
              "          const docLinkHtml = 'Like what you see? Visit the ' +\n",
              "            '<a target=\"_blank\" href=https://colab.research.google.com/notebooks/data_table.ipynb>data table notebook</a>'\n",
              "            + ' to learn more about interactive tables.';\n",
              "          element.innerHTML = '';\n",
              "          dataTable['output_type'] = 'display_data';\n",
              "          await google.colab.output.renderOutput(dataTable, element);\n",
              "          const docLink = document.createElement('div');\n",
              "          docLink.innerHTML = docLinkHtml;\n",
              "          element.appendChild(docLink);\n",
              "        }\n",
              "      </script>\n",
              "    </div>\n",
              "  </div>\n",
              "  "
            ]
          },
          "metadata": {}
        },
        {
          "output_type": "stream",
          "name": "stdout",
          "text": [
            "<class 'pandas.core.frame.DataFrame'>\n",
            "RangeIndex: 241600 entries, 0 to 241599\n",
            "Data columns (total 18 columns):\n",
            " #   Column     Non-Null Count   Dtype  \n",
            "---  ------     --------------   -----  \n",
            " 0   MWG        241600 non-null  int64  \n",
            " 1   NWG        241600 non-null  int64  \n",
            " 2   KWG        241600 non-null  int64  \n",
            " 3   MDIMC      241600 non-null  int64  \n",
            " 4   NDIMC      241600 non-null  int64  \n",
            " 5   MDIMA      241600 non-null  int64  \n",
            " 6   NDIMB      241600 non-null  int64  \n",
            " 7   KWI        241600 non-null  int64  \n",
            " 8   VWM        241600 non-null  int64  \n",
            " 9   VWN        241600 non-null  int64  \n",
            " 10  STRM       241600 non-null  int64  \n",
            " 11  STRN       241600 non-null  int64  \n",
            " 12  SA         241600 non-null  int64  \n",
            " 13  SB         241600 non-null  int64  \n",
            " 14  Run1 (ms)  241600 non-null  float64\n",
            " 15  Run2 (ms)  241600 non-null  float64\n",
            " 16  Run3 (ms)  241600 non-null  float64\n",
            " 17  Run4 (ms)  241600 non-null  float64\n",
            "dtypes: float64(4), int64(14)\n",
            "memory usage: 33.2 MB\n"
          ]
        }
      ]
    },
    {
      "cell_type": "markdown",
      "source": [
        "**Exploratory Data Analysis**"
      ],
      "metadata": {
        "id": "w5tke1-_0A_B"
      }
    },
    {
      "cell_type": "code",
      "source": [
        "gpus['MWG'].value_counts()"
      ],
      "metadata": {
        "colab": {
          "base_uri": "https://localhost:8080/"
        },
        "id": "JT09fa1LzUUa",
        "outputId": "94bcd4d0-b70e-4afa-c4a5-be31eeb7d23e"
      },
      "execution_count": 5,
      "outputs": [
        {
          "output_type": "execute_result",
          "data": {
            "text/plain": [
              "128    99808\n",
              "64     75584\n",
              "32     47264\n",
              "16     18944\n",
              "Name: MWG, dtype: int64"
            ]
          },
          "metadata": {},
          "execution_count": 5
        }
      ]
    },
    {
      "cell_type": "code",
      "source": [
        "gpus.isna().sum()"
      ],
      "metadata": {
        "colab": {
          "base_uri": "https://localhost:8080/"
        },
        "id": "pSC2-5kp0aEc",
        "outputId": "8692d3d8-8b80-48c9-f56b-1e2a3f36b06b"
      },
      "execution_count": 6,
      "outputs": [
        {
          "output_type": "execute_result",
          "data": {
            "text/plain": [
              "MWG          0\n",
              "NWG          0\n",
              "KWG          0\n",
              "MDIMC        0\n",
              "NDIMC        0\n",
              "MDIMA        0\n",
              "NDIMB        0\n",
              "KWI          0\n",
              "VWM          0\n",
              "VWN          0\n",
              "STRM         0\n",
              "STRN         0\n",
              "SA           0\n",
              "SB           0\n",
              "Run1 (ms)    0\n",
              "Run2 (ms)    0\n",
              "Run3 (ms)    0\n",
              "Run4 (ms)    0\n",
              "dtype: int64"
            ]
          },
          "metadata": {},
          "execution_count": 6
        }
      ]
    },
    {
      "cell_type": "markdown",
      "source": [
        "1. What is the relationship between per-matrix 2D tiling at workgroup level and the fastest initial test run?"
      ],
      "metadata": {
        "id": "JEAq_bo-JLq0"
      }
    },
    {
      "cell_type": "code",
      "source": [
        "sns.scatterplot(x=gpus['MWG'], y=gpus['Run1 (ms)'])"
      ],
      "metadata": {
        "colab": {
          "base_uri": "https://localhost:8080/",
          "height": 300
        },
        "id": "Qy4RYsDKJMYV",
        "outputId": "bff1464c-c4ec-4a30-9e5c-4a72ade7b9c2"
      },
      "execution_count": 12,
      "outputs": [
        {
          "output_type": "execute_result",
          "data": {
            "text/plain": [
              "<matplotlib.axes._subplots.AxesSubplot at 0x7f106b497bd0>"
            ]
          },
          "metadata": {},
          "execution_count": 12
        },
        {
          "output_type": "display_data",
          "data": {
            "text/plain": [
              "<Figure size 432x288 with 1 Axes>"
            ],
            "image/png": "[encoded data removed]"
          },
          "metadata": {
            "needs_background": "light"
          }
        }
      ]
    },
    {
      "cell_type": "markdown",
      "source": [
        "The relationship between per-matrix 2D tilling at the workgroup level and fastest initial test run is those with 16 MWGs ran the fastest based on the short range."
      ],
      "metadata": {
        "id": "i5NfKumiLXFn"
      }
    },
    {
      "cell_type": "markdown",
      "source": [
        "2. What is the most used inner dimension of 2D tiling at workgroup level?"
      ],
      "metadata": {
        "id": "W1norBVsIabG"
      }
    },
    {
      "cell_type": "code",
      "source": [
        "# Creating a pie chart to visualize porportions of the inner dimension of 2D \n",
        "# tiling at workgroup level in this data\n",
        "methods_counts = gpus['KWG'].value_counts()\n",
        "display(methods_counts)\n",
        "\n",
        "plt.pie(methods_counts, labels=methods_counts.index, shadow = True)"
      ],
      "metadata": {
        "colab": {
          "base_uri": "https://localhost:8080/",
          "height": 370
        },
        "id": "ky3MhhKo0gLY",
        "outputId": "8e7fc60f-b2a2-4cf1-c9b3-9421833a4f30"
      },
      "execution_count": 13,
      "outputs": [
        {
          "output_type": "display_data",
          "data": {
            "text/plain": [
              "32    143648\n",
              "16     97952\n",
              "Name: KWG, dtype: int64"
            ]
          },
          "metadata": {}
        },
        {
          "output_type": "execute_result",
          "data": {
            "text/plain": [
              "([<matplotlib.patches.Wedge at 0x7f106b3e3bd0>,\n",
              "  <matplotlib.patches.Wedge at 0x7f106b3f1050>],\n",
              " [Text(-0.32202233899583776, 1.0518087341278592, '32'),\n",
              "  Text(0.3220224374732771, -1.0518087039779476, '16')])"
            ]
          },
          "metadata": {},
          "execution_count": 13
        },
        {
          "output_type": "display_data",
          "data": {
            "text/plain": [
              "<Figure size 432x288 with 1 Axes>"
            ],
            "image/png": "[encoded data removed]"
          },
          "metadata": {}
        }
      ]
    },
    {
      "cell_type": "markdown",
      "source": [
        "The majority (appears to be 2/3s) is of the 32 inner dimension of 2D tiling at workgroup level"
      ],
      "metadata": {
        "id": "0R1zNoYLK-Qb"
      }
    },
    {
      "cell_type": "markdown",
      "source": [
        "3. What is the fastest run after initial compiling by each of the available kernel loop unrolling factors?"
      ],
      "metadata": {
        "id": "q2bzhs3JJ__7"
      }
    },
    {
      "cell_type": "code",
      "source": [
        "gpus.groupby('KWI')['Run1 (ms)'].min()"
      ],
      "metadata": {
        "colab": {
          "base_uri": "https://localhost:8080/"
        },
        "id": "W0LkymdjKB5j",
        "outputId": "9f104de8-50cc-4b8b-f70e-af828abbb822"
      },
      "execution_count": 14,
      "outputs": [
        {
          "output_type": "execute_result",
          "data": {
            "text/plain": [
              "KWI\n",
              "2    13.78\n",
              "8    13.29\n",
              "Name: Run1 (ms), dtype: float64"
            ]
          },
          "metadata": {},
          "execution_count": 14
        }
      ]
    },
    {
      "cell_type": "code",
      "source": [
        "The fastest run after initially compiling each of the available kernel loop \n",
        "unrolling factors had similar run times."
      ],
      "metadata": {
        "id": "y6Y57PTFKvBf"
      },
      "execution_count": null,
      "outputs": []
    },
    {
      "cell_type": "markdown",
      "source": [],
      "metadata": {
        "id": "CjEELLX8MajF"
      }
    },
    {
      "cell_type": "markdown",
      "source": [
        "**Feature Engineering**\n",
        "Based on my findings from Basic EDA, my plan for feature engineering would focus on extraploting correlations amongst instrinitically hierarhical data such as comparing the per-matrix 2D tiling at workgroup level. "
      ],
      "metadata": {
        "id": "Ygkrmwo3L0GC"
      }
    },
    {
      "cell_type": "code",
      "source": [
        "# Use groupby to get an idea of the average distance each detection method is sensitive to.\n",
        "gpus.groupby('MWG')['Run1 (ms)'].mean()"
      ],
      "metadata": {
        "colab": {
          "base_uri": "https://localhost:8080/"
        },
        "id": "qxS_EyYqLzq0",
        "outputId": "73b60967-f11a-4f82-a966-aaf6ef9ce6d3"
      },
      "execution_count": 15,
      "outputs": [
        {
          "output_type": "execute_result",
          "data": {
            "text/plain": [
              "MWG\n",
              "16      67.559227\n",
              "32      64.661752\n",
              "64     151.848924\n",
              "128    368.410918\n",
              "Name: Run1 (ms), dtype: float64"
            ]
          },
          "metadata": {},
          "execution_count": 15
        }
      ]
    },
    {
      "cell_type": "markdown",
      "source": [
        "**Train test split**\n",
        "Based on teh metadata of my dataset, my train/test percent split would be 80/10/10 with training of 80% of the data, with initial testing on 10% for accuracy and then the final 10% for true sensitivity analysis."
      ],
      "metadata": {
        "id": "ynbJfogDMepG"
      }
    },
    {
      "cell_type": "markdown",
      "source": [
        "**Establish an initial pipeline: **\n",
        "The pipes I may need include creating an ad-hoc analysis for each of the features of the data set and whether there is a correlation amongst factors along with adjusting for the scaling integers."
      ],
      "metadata": {
        "id": "lZvZxdjDNWl0"
      }
    },
    {
      "cell_type": "markdown",
      "source": [
        "**Model fitting and evaluation:** 1 assumption I have about feature importance or how I anticipate my model’s performance will be is there will be a hierarhical relationship"
      ],
      "metadata": {
        "id": "HweHf4GLNn3w"
      }
    }
  ]
}