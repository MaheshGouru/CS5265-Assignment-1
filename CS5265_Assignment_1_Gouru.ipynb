{
  "nbformat": 4,
  "nbformat_minor": 0,
  "metadata": {
    "colab": {
      "name": " CS5265-Assignment-1-Gouru.ipynb",
      "provenance": [],
      "collapsed_sections": [],
      "include_colab_link": true
    },
    "kernelspec": {
      "name": "python3",
      "display_name": "Python 3"
    },
    "language_info": {
      "name": "python"
    }
  },
  "cells": [
    {
      "cell_type": "markdown",
      "metadata": {
        "id": "view-in-github",
        "colab_type": "text"
      },
      "source": [
        "<a href=\"https://colab.research.google.com/github/MaheshGouru/CS5265-Assignment-1/blob/main/CS5265_Assignment_1_Gouru.ipynb\" target=\"_parent\"><img src=\"https://colab.research.google.com/assets/colab-badge.svg\" alt=\"Open In Colab\"/></a>"
      ]
    },
    {
      "cell_type": "markdown",
      "source": [
        "# Background\n",
        "With the rise of GPUs accelerating workloads for notably Apple's Neural Engine, Electric Vehicles autonomous functionalities, and data-mining for medicine, generating a benchmark for which configurations would be sufficiently suited for a developer would enable affordability, accessibility, and scalability amongst heterogenous architectures. Hosted on the UCI Machine Learning Repository as released from Enrique G. Paredes and Rafael Ballester-Ripoll of University of Zurich, the SGEMM GPU kernel performance Data Set publishes \"running times for multiplying two 2048 x 2048 matrices using a GPU OpenCL SGEMM kernel with varying parameters (using the library 'CLTune')\". SGEMM is short for \"Single precision GEneral Matrix Multiply\" which addresses matrix-matrix products of float 32 bits.\n",
        "\n",
        "The dataset has 14 parameters with 10 are ordinal and 4 are categorical (binary).\n",
        "\n",
        "The experiment used a workstation running Ubuntu 16.04 Linux with an Intel Core i5 (3.5GHz), 16GB RAM, and a NVidia Geforce GTX 680 4GB GF580 GTX-1.5GB GPU. This configuration can be replicated and reproduced for the sake of the exercise. The'gemm_fast' kernel from the automatic OpenCL kernel tuning library \"CLTune\" was used to interface the scripts with the GPU drivers.\n",
        "\n",
        "# Project Description\n",
        "Extracted from the dataset, the attribute information is as provided:\n",
        "\n",
        "## Independent variables:\n",
        "1-2. MWG, NWG: per-matrix 2D tiling at workgroup level: {16, 32, 64, 128} (integer)\n",
        "\n",
        "3.&nbsp; KWG: inner dimension of 2D tiling at workgroup level: {16, 32} (integer)\n",
        "\n",
        "4-5. MDIMC, NDIMC: local workgroup size: {8, 16, 32} (integer)\n",
        "\n",
        "6-7. MDIMA, NDIMB: local memory shape: {8, 16, 32} (integer)\n",
        "\n",
        "8.&nbsp; KWI: kernel loop unrolling factor: {2, 8} (integer)\n",
        "\n",
        "9-10. VWM, VWN: per-matrix vector widths for loading and storing: {1, 2, 4, 8} (integer)\n",
        "\n",
        "11-12. STRM, STRN: enable stride for accessing off-chip memory within a single thread: {0, 1} (categorical)\n",
        "\n",
        "13-14. SA, SB: per-matrix manual caching of the 2D workgroup tile: {0, 1} (categorical)\n",
        "\n",
        "The purpose would be interact with a wizard to recommend the most cost-effective configuration, such as those used on various cloud platforms like AWS, GCP, and Azure.\n",
        "\n",
        "# Performance Metric(s)\n",
        "The output are logged in columns 15-18. These columns log the performance times in milliseconds for 4 independent runs using the same parameters. As noted, the range is between 13.25 and 3397.08.\n",
        "\n",
        "As cited, a proportion of this data set was used to compute a tensor train based predictive model and estimate the Sobol sensitivity indices of all the parameters which could then be replicated as well to go through the exercise of benchmarking architectures for industry applications such as provided by TrTransaction Processing Performance Council (TPC) for decision support.\n",
        "\n",
        "#References\n",
        "https://archive.ics.uci.edu/ml/datasets/SGEMM+GPU+kernel+performance\n",
        "https://docs.nvidia.com/deeplearning/performance/dl-performance-matrix-multiplication/index.html\n",
        "\n",
        "---"
      ],
      "metadata": {
        "id": "YQe7Mqbf0f2C"
      }
    },
    {
      "cell_type": "markdown",
      "source": [
        "## Clarification on Datasets needed for the Project Assignments\n",
        "Just to recap some important highlights of the datasets needed for the upcoming project assignments:\n",
        "\n",
        "- Size: at least 5000 datapoints (samples/rows/records), less than 100,000 datapoints are recommended\n",
        "\n",
        "- #&nbsp;of columns: at least 7 attributes/features/variables (columns) are needed \n",
        "\n",
        "- Types of columns: a good dataset will contain not only numerical columns but also categorical columns (e.g., gender, dates, or anything else that has a finite number of categories) \n",
        "\n",
        "Some resources for acquiring data: \n",
        "\n",
        "- https://www.kaggle.com/datasets\n",
        "\n",
        "- https://datasetsearch.research.google.com/ \n",
        "\n",
        "- https://archive.ics.uci.edu/ml/datasets.php \n",
        "---"
      ],
      "metadata": {
        "collapsed": false,
        "id": "F9DdQYF1wNRR"
      }
    },
    {
      "cell_type": "markdown",
      "source": [
        "**III. Tasks**\n",
        "> [Task 2] Basic EDA: Describe 3-5 questions you would like to answer by examining the data in the issue description/detail section in a separate TEXT cell in your Jupyter Notebook\n",
        "1. What is the relationship between per-matrix 2D tiling at workgroup level and \n",
        "the fastest initial test run?\n",
        "2. What is the most used inner dimension of 2D tiling at workgroup level?\n",
        "3. What is the fastest run after initial compiling by each of the available kernel loop unrolling factors?"
      ],
      "metadata": {
        "id": "tCYJBYtO5cWE"
      }
    },
    {
      "cell_type": "code",
      "execution_count": 19,
      "metadata": {
        "id": "Yr8tRuljz3uL"
      },
      "outputs": [],
      "source": [
        "# tables and visualizations\n",
        "import pandas as pd\n",
        "import numpy as np\n",
        "import seaborn as sns\n",
        "import matplotlib.pyplot as plt\n",
        "\n",
        "#machine learning\n",
        "from sklearn.model_selection import train_test_split, GridSearchCV\n",
        "from sklearn.linear_model import LogisticRegression\n",
        "from sklearn.ensemble import RandomForestClassifier\n",
        "from sklearn.pipeline import Pipeline \n",
        "from sklearn.compose import ColumnTransformer, make_column_selector\n",
        "from sklearn.impute import SimpleImputer\n",
        "from sklearn.preprocessing import OneHotEncoder, LabelBinarizer, StandardScaler\n",
        "from sklearn import config_context\n",
        "from sklearn.metrics import classification_report, confusion_matrix, ConfusionMatrixDisplay, roc_curve, roc_auc_score, precision_recall_curve, PrecisionRecallDisplay\n"
      ]
    },
    {
      "cell_type": "code",
      "source": [
        "gpus = pd.read_csv('https://raw.githubusercontent.com/MaheshGouru/CS5265-Assignment-1/main/sgemm_product.csv')\n",
        "# gpus = sns.load_data('gpus')\n",
        "\n",
        "display(gpus.sample(1))\n",
        "gpus.info()"
      ],
      "metadata": {
        "colab": {
          "base_uri": "https://localhost:8080/",
          "height": 596
        },
        "id": "pLDkLHmvyztD",
        "outputId": "05c3b812-1559-43ac-8c2c-76bc30ef991e"
      },
      "execution_count": 2,
      "outputs": [
        {
          "output_type": "display_data",
          "data": {
            "text/plain": [
              "       MWG  NWG  KWG  MDIMC  NDIMC  MDIMA  NDIMB  KWI  VWM  VWN  STRM  STRN  \\\n",
              "45130   32   64   32     16     32     16     16    8    1    1     1     0   \n",
              "\n",
              "       SA  SB  Run1 (ms)  Run2 (ms)  Run3 (ms)  Run4 (ms)  \n",
              "45130   1   0      63.43       64.1      62.35      65.59  "
            ],
            "text/html": [
              "\n",
              "  <div id=\"df-c12b76f1-e832-4a63-91e3-0f885179cfe3\">\n",
              "    <div class=\"colab-df-container\">\n",
              "      <div>\n",
              "<style scoped>\n",
              "    .dataframe tbody tr th:only-of-type {\n",
              "        vertical-align: middle;\n",
              "    }\n",
              "\n",
              "    .dataframe tbody tr th {\n",
              "        vertical-align: top;\n",
              "    }\n",
              "\n",
              "    .dataframe thead th {\n",
              "        text-align: right;\n",
              "    }\n",
              "</style>\n",
              "<table border=\"1\" class=\"dataframe\">\n",
              "  <thead>\n",
              "    <tr style=\"text-align: right;\">\n",
              "      <th></th>\n",
              "      <th>MWG</th>\n",
              "      <th>NWG</th>\n",
              "      <th>KWG</th>\n",
              "      <th>MDIMC</th>\n",
              "      <th>NDIMC</th>\n",
              "      <th>MDIMA</th>\n",
              "      <th>NDIMB</th>\n",
              "      <th>KWI</th>\n",
              "      <th>VWM</th>\n",
              "      <th>VWN</th>\n",
              "      <th>STRM</th>\n",
              "      <th>STRN</th>\n",
              "      <th>SA</th>\n",
              "      <th>SB</th>\n",
              "      <th>Run1 (ms)</th>\n",
              "      <th>Run2 (ms)</th>\n",
              "      <th>Run3 (ms)</th>\n",
              "      <th>Run4 (ms)</th>\n",
              "    </tr>\n",
              "  </thead>\n",
              "  <tbody>\n",
              "    <tr>\n",
              "      <th>45130</th>\n",
              "      <td>32</td>\n",
              "      <td>64</td>\n",
              "      <td>32</td>\n",
              "      <td>16</td>\n",
              "      <td>32</td>\n",
              "      <td>16</td>\n",
              "      <td>16</td>\n",
              "      <td>8</td>\n",
              "      <td>1</td>\n",
              "      <td>1</td>\n",
              "      <td>1</td>\n",
              "      <td>0</td>\n",
              "      <td>1</td>\n",
              "      <td>0</td>\n",
              "      <td>63.43</td>\n",
              "      <td>64.1</td>\n",
              "      <td>62.35</td>\n",
              "      <td>65.59</td>\n",
              "    </tr>\n",
              "  </tbody>\n",
              "</table>\n",
              "</div>\n",
              "      <button class=\"colab-df-convert\" onclick=\"convertToInteractive('df-c12b76f1-e832-4a63-91e3-0f885179cfe3')\"\n",
              "              title=\"Convert this dataframe to an interactive table.\"\n",
              "              style=\"display:none;\">\n",
              "        \n",
              "  <svg xmlns=\"http://www.w3.org/2000/svg\" height=\"24px\"viewBox=\"0 0 24 24\"\n",
              "       width=\"24px\">\n",
              "    <path d=\"M0 0h24v24H0V0z\" fill=\"none\"/>\n",
              "    <path d=\"M18.56 5.44l.94 2.06.94-2.06 2.06-.94-2.06-.94-.94-2.06-.94 2.06-2.06.94zm-11 1L8.5 8.5l.94-2.06 2.06-.94-2.06-.94L8.5 2.5l-.94 2.06-2.06.94zm10 10l.94 2.06.94-2.06 2.06-.94-2.06-.94-.94-2.06-.94 2.06-2.06.94z\"/><path d=\"M17.41 7.96l-1.37-1.37c-.4-.4-.92-.59-1.43-.59-.52 0-1.04.2-1.43.59L10.3 9.45l-7.72 7.72c-.78.78-.78 2.05 0 2.83L4 21.41c.39.39.9.59 1.41.59.51 0 1.02-.2 1.41-.59l7.78-7.78 2.81-2.81c.8-.78.8-2.07 0-2.86zM5.41 20L4 18.59l7.72-7.72 1.47 1.35L5.41 20z\"/>\n",
              "  </svg>\n",
              "      </button>\n",
              "      \n",
              "  <style>\n",
              "    .colab-df-container {\n",
              "      display:flex;\n",
              "      flex-wrap:wrap;\n",
              "      gap: 12px;\n",
              "    }\n",
              "\n",
              "    .colab-df-convert {\n",
              "      background-color: #E8F0FE;\n",
              "      border: none;\n",
              "      border-radius: 50%;\n",
              "      cursor: pointer;\n",
              "      display: none;\n",
              "      fill: #1967D2;\n",
              "      height: 32px;\n",
              "      padding: 0 0 0 0;\n",
              "      width: 32px;\n",
              "    }\n",
              "\n",
              "    .colab-df-convert:hover {\n",
              "      background-color: #E2EBFA;\n",
              "      box-shadow: 0px 1px 2px rgba(60, 64, 67, 0.3), 0px 1px 3px 1px rgba(60, 64, 67, 0.15);\n",
              "      fill: #174EA6;\n",
              "    }\n",
              "\n",
              "    [theme=dark] .colab-df-convert {\n",
              "      background-color: #3B4455;\n",
              "      fill: #D2E3FC;\n",
              "    }\n",
              "\n",
              "    [theme=dark] .colab-df-convert:hover {\n",
              "      background-color: #434B5C;\n",
              "      box-shadow: 0px 1px 3px 1px rgba(0, 0, 0, 0.15);\n",
              "      filter: drop-shadow(0px 1px 2px rgba(0, 0, 0, 0.3));\n",
              "      fill: #FFFFFF;\n",
              "    }\n",
              "  </style>\n",
              "\n",
              "      <script>\n",
              "        const buttonEl =\n",
              "          document.querySelector('#df-c12b76f1-e832-4a63-91e3-0f885179cfe3 button.colab-df-convert');\n",
              "        buttonEl.style.display =\n",
              "          google.colab.kernel.accessAllowed ? 'block' : 'none';\n",
              "\n",
              "        async function convertToInteractive(key) {\n",
              "          const element = document.querySelector('#df-c12b76f1-e832-4a63-91e3-0f885179cfe3');\n",
              "          const dataTable =\n",
              "            await google.colab.kernel.invokeFunction('convertToInteractive',\n",
              "                                                     [key], {});\n",
              "          if (!dataTable) return;\n",
              "\n",
              "          const docLinkHtml = 'Like what you see? Visit the ' +\n",
              "            '<a target=\"_blank\" href=https://colab.research.google.com/notebooks/data_table.ipynb>data table notebook</a>'\n",
              "            + ' to learn more about interactive tables.';\n",
              "          element.innerHTML = '';\n",
              "          dataTable['output_type'] = 'display_data';\n",
              "          await google.colab.output.renderOutput(dataTable, element);\n",
              "          const docLink = document.createElement('div');\n",
              "          docLink.innerHTML = docLinkHtml;\n",
              "          element.appendChild(docLink);\n",
              "        }\n",
              "      </script>\n",
              "    </div>\n",
              "  </div>\n",
              "  "
            ]
          },
          "metadata": {}
        },
        {
          "output_type": "stream",
          "name": "stdout",
          "text": [
            "<class 'pandas.core.frame.DataFrame'>\n",
            "RangeIndex: 241600 entries, 0 to 241599\n",
            "Data columns (total 18 columns):\n",
            " #   Column     Non-Null Count   Dtype  \n",
            "---  ------     --------------   -----  \n",
            " 0   MWG        241600 non-null  int64  \n",
            " 1   NWG        241600 non-null  int64  \n",
            " 2   KWG        241600 non-null  int64  \n",
            " 3   MDIMC      241600 non-null  int64  \n",
            " 4   NDIMC      241600 non-null  int64  \n",
            " 5   MDIMA      241600 non-null  int64  \n",
            " 6   NDIMB      241600 non-null  int64  \n",
            " 7   KWI        241600 non-null  int64  \n",
            " 8   VWM        241600 non-null  int64  \n",
            " 9   VWN        241600 non-null  int64  \n",
            " 10  STRM       241600 non-null  int64  \n",
            " 11  STRN       241600 non-null  int64  \n",
            " 12  SA         241600 non-null  int64  \n",
            " 13  SB         241600 non-null  int64  \n",
            " 14  Run1 (ms)  241600 non-null  float64\n",
            " 15  Run2 (ms)  241600 non-null  float64\n",
            " 16  Run3 (ms)  241600 non-null  float64\n",
            " 17  Run4 (ms)  241600 non-null  float64\n",
            "dtypes: float64(4), int64(14)\n",
            "memory usage: 33.2 MB\n"
          ]
        }
      ]
    },
    {
      "cell_type": "markdown",
      "source": [
        "**Exploratory Data Analysis**"
      ],
      "metadata": {
        "id": "w5tke1-_0A_B"
      }
    },
    {
      "cell_type": "code",
      "source": [
        "gpus['MWG'].value_counts()"
      ],
      "metadata": {
        "colab": {
          "base_uri": "https://localhost:8080/"
        },
        "id": "JT09fa1LzUUa",
        "outputId": "e0b61384-f26d-413a-cdee-62c530b939ff"
      },
      "execution_count": 3,
      "outputs": [
        {
          "output_type": "execute_result",
          "data": {
            "text/plain": [
              "128    99808\n",
              "64     75584\n",
              "32     47264\n",
              "16     18944\n",
              "Name: MWG, dtype: int64"
            ]
          },
          "metadata": {},
          "execution_count": 3
        }
      ]
    },
    {
      "cell_type": "code",
      "source": [
        "gpus.isna().sum()"
      ],
      "metadata": {
        "colab": {
          "base_uri": "https://localhost:8080/"
        },
        "id": "pSC2-5kp0aEc",
        "outputId": "07a6e1ea-2b3d-4734-dddf-a4d80be17fd2"
      },
      "execution_count": 4,
      "outputs": [
        {
          "output_type": "execute_result",
          "data": {
            "text/plain": [
              "MWG          0\n",
              "NWG          0\n",
              "KWG          0\n",
              "MDIMC        0\n",
              "NDIMC        0\n",
              "MDIMA        0\n",
              "NDIMB        0\n",
              "KWI          0\n",
              "VWM          0\n",
              "VWN          0\n",
              "STRM         0\n",
              "STRN         0\n",
              "SA           0\n",
              "SB           0\n",
              "Run1 (ms)    0\n",
              "Run2 (ms)    0\n",
              "Run3 (ms)    0\n",
              "Run4 (ms)    0\n",
              "dtype: int64"
            ]
          },
          "metadata": {},
          "execution_count": 4
        }
      ]
    },
    {
      "cell_type": "markdown",
      "source": [
        "1. What is the relationship between per-matrix 2D tiling at workgroup level and the fastest initial test run?"
      ],
      "metadata": {
        "id": "JEAq_bo-JLq0"
      }
    },
    {
      "cell_type": "code",
      "source": [
        "sns.scatterplot(x=gpus['MWG'], y=gpus['Run1 (ms)'])"
      ],
      "metadata": {
        "colab": {
          "base_uri": "https://localhost:8080/",
          "height": 300
        },
        "id": "Qy4RYsDKJMYV",
        "outputId": "dcf40574-3cbf-4acf-da1d-ad92afa4aa71"
      },
      "execution_count": 5,
      "outputs": [
        {
          "output_type": "execute_result",
          "data": {
            "text/plain": [
              "<matplotlib.axes._subplots.AxesSubplot at 0x7f65499828d0>"
            ]
          },
          "metadata": {},
          "execution_count": 5
        },
        {
          "output_type": "display_data",
          "data": {
            "text/plain": [
              "<Figure size 432x288 with 1 Axes>"
            ],
            "image/png": "[encoded data removed]"
          },
          "metadata": {
            "needs_background": "light"
          }
        }
      ]
    },
    {
      "cell_type": "markdown",
      "source": [
        "The relationship between per-matrix 2D tilling at the workgroup level and fastest initial test run is those with 16 MWGs ran the fastest based on the short range."
      ],
      "metadata": {
        "id": "i5NfKumiLXFn"
      }
    },
    {
      "cell_type": "markdown",
      "source": [
        "2. What is the most used inner dimension of 2D tiling at workgroup level?"
      ],
      "metadata": {
        "id": "W1norBVsIabG"
      }
    },
    {
      "cell_type": "code",
      "source": [
        "# Creating a pie chart to visualize porportions of the inner dimension of 2D \n",
        "# tiling at workgroup level in this data\n",
        "methods_counts = gpus['KWG'].value_counts()\n",
        "display(methods_counts)\n",
        "\n",
        "plt.pie(methods_counts, labels=methods_counts.index, shadow = True)"
      ],
      "metadata": {
        "colab": {
          "base_uri": "https://localhost:8080/",
          "height": 370
        },
        "id": "ky3MhhKo0gLY",
        "outputId": "1194cbc4-5fe4-4675-9a04-524997ecb65e"
      },
      "execution_count": 6,
      "outputs": [
        {
          "output_type": "display_data",
          "data": {
            "text/plain": [
              "32    143648\n",
              "16     97952\n",
              "Name: KWG, dtype: int64"
            ]
          },
          "metadata": {}
        },
        {
          "output_type": "execute_result",
          "data": {
            "text/plain": [
              "([<matplotlib.patches.Wedge at 0x7f65493f0210>,\n",
              "  <matplotlib.patches.Wedge at 0x7f65493f0690>],\n",
              " [Text(-0.32202233899583776, 1.0518087341278592, '32'),\n",
              "  Text(0.3220224374732771, -1.0518087039779476, '16')])"
            ]
          },
          "metadata": {},
          "execution_count": 6
        },
        {
          "output_type": "display_data",
          "data": {
            "text/plain": [
              "<Figure size 432x288 with 1 Axes>"
            ],
            "image/png": "[encoded data removed]"
          },
          "metadata": {}
        }
      ]
    },
    {
      "cell_type": "markdown",
      "source": [
        "The majority (appears to be 2/3s) is of the 32 inner dimension of 2D tiling at workgroup level"
      ],
      "metadata": {
        "id": "0R1zNoYLK-Qb"
      }
    },
    {
      "cell_type": "markdown",
      "source": [
        "3. What is the fastest run after initial compiling by each of the available kernel loop unrolling factors?"
      ],
      "metadata": {
        "id": "q2bzhs3JJ__7"
      }
    },
    {
      "cell_type": "code",
      "source": [
        "gpus.groupby('KWI')['Run1 (ms)'].min()"
      ],
      "metadata": {
        "colab": {
          "base_uri": "https://localhost:8080/"
        },
        "id": "W0LkymdjKB5j",
        "outputId": "84eb7b72-8b89-419c-8d5f-7b947a271bcf"
      },
      "execution_count": 7,
      "outputs": [
        {
          "output_type": "execute_result",
          "data": {
            "text/plain": [
              "KWI\n",
              "2    13.78\n",
              "8    13.29\n",
              "Name: Run1 (ms), dtype: float64"
            ]
          },
          "metadata": {},
          "execution_count": 7
        }
      ]
    },
    {
      "cell_type": "markdown",
      "source": [
        "The fastest run after initially compiling each of the available kernel loop \n",
        "unrolling factors had similar run times."
      ],
      "metadata": {
        "id": "CjEELLX8MajF"
      }
    },
    {
      "cell_type": "markdown",
      "source": [
        "**Feature Engineering**\n",
        "Based on my findings from Basic EDA, my plan for feature engineering would focus on extraploting correlations amongst instrinitically hierarhical data such as comparing the per-matrix 2D tiling at workgroup level. "
      ],
      "metadata": {
        "id": "Ygkrmwo3L0GC"
      }
    },
    {
      "cell_type": "code",
      "source": [
        "# Use groupby to get an idea of the average distance each detection method is sensitive to.\n",
        "gpus.groupby('MWG')['Run1 (ms)'].mean()"
      ],
      "metadata": {
        "colab": {
          "base_uri": "https://localhost:8080/"
        },
        "id": "qxS_EyYqLzq0",
        "outputId": "53da7027-8799-43b7-eed5-48da674c5476"
      },
      "execution_count": 9,
      "outputs": [
        {
          "output_type": "execute_result",
          "data": {
            "text/plain": [
              "MWG\n",
              "16      67.559227\n",
              "32      64.661752\n",
              "64     151.848924\n",
              "128    368.410918\n",
              "Name: Run1 (ms), dtype: float64"
            ]
          },
          "metadata": {},
          "execution_count": 9
        }
      ]
    },
    {
      "cell_type": "markdown",
      "source": [
        "**Train test split**\n",
        "Based on teh metadata of my dataset, my train/test percent split would be 80/10/10 with training of 80% of the data, with initial testing on 10% for accuracy and then the final 10% for true sensitivity analysis."
      ],
      "metadata": {
        "id": "ynbJfogDMepG"
      }
    },
    {
      "cell_type": "markdown",
      "source": [
        "**Establish an initial pipeline: **\n",
        "The pipes I may need include creating an ad-hoc analysis for each of the features of the data set and whether there is a correlation amongst factors along with adjusting for the scaling integers."
      ],
      "metadata": {
        "id": "lZvZxdjDNWl0"
      }
    },
    {
      "cell_type": "markdown",
      "source": [
        "**Model fitting and evaluation:** 1 assumption I have about feature importance or how I anticipate my model’s performance will be is there will be a hierarhical relationship"
      ],
      "metadata": {
        "id": "HweHf4GLNn3w"
      }
    },
    {
      "cell_type": "markdown",
      "source": [
        "# Feature Engineering"
      ],
      "metadata": {
        "id": "5zPLLzpOIb4p"
      }
    },
    {
      "cell_type": "markdown",
      "source": [
        "* ➔\t[35 points] Part 2: Complete the following tasks for your personal project, building on last week’s progress\n",
        "    * ◆\t[20 points] Feature engineering: create a heading in your notebook named Feature Engineering and curate a final list of features from your dataset"
      ],
      "metadata": {
        "id": "1SXVgdBwIl27"
      }
    },
    {
      "cell_type": "markdown",
      "source": [
        "| Feature                                                                                                                                  | Type          | Description                                                         |     |     |           |   |\n",
        "|------------------------------------------------------------------------------------------------------------------------------------------|---------------|---------------------------------------------------------------------|-----|-----|-----------|---|\n",
        "| stereo                                                                                                                                   |               | Time as logged by configuration for performing stereo analysis      |     |     |           |   |\n",
        "| convolution                                                                                                                              |               | Time as logged by configuration for performing convolution analysis |     |     |           |   |\n",
        "| raycasting                                                                                                                               |               | Time as logged by configuration for performing raycasting           |     |     |           |   |\n",
        "| accuracy, evaluated by comparing the predictions against replicated execution times for verified parameter configurations                |               |                                                                     |     |     |           |   |\n",
        "| MWG, per-matrix 2D tiling at workgroup level:                                                                                            | (integer)     | {16                                                                 | 32  | 64  | 128}      | | |\n",
        "| NWG, per-matrix 2D tiling at workgroup level:                                                                                            | (integer)     | {16                                                                 | 32  | 64  | 128}      | | |\n",
        "| KWG, inner dimension of 2D tiling at workgroup level:                                                                                    | (integer)     | {16                                                                 | 32} | |   |           |   |\n",
        "| MDIMC, local workgroup size:                                                                                                             | (integer)     | {8                                                                  | 16  | 32} | |         |   |\n",
        "| NDIMC, local workgroup size:                                                                                                             | (integer)     | {8                                                                  | 16  | 32} | |         |   |\n",
        "| MDIMA, local memory shape:                                                                                                               | (integer)     | {8                                                                  | 16  | 32} | (integer) |   |\n",
        "| NDIMB, local memory shape:                                                                                                               | (integer)     | {8                                                                  | 16  | 32} | |         |   |\n",
        "| KWI, kernel loop unrolling factor:                                                                                                       | (integer)     | {2                                                                  | 8}  | |   |           |   |\n",
        "| VWM, per-matrix vector widths for loading and storing:                                                                                   | (integer)     | {1                                                                  | 2   | 4   | 8}        | | |\n",
        "| VWN, per-matrix vector widths for loading and storing:                                                                                   | (integer)     | {1                                                                  | 2   | 4   | 8}        | | |\n",
        "| STRM, enable stride for accessing off-chip memory within a single thread:                                                                | (categorical) | {0                                                                  | 1}  |     |           |   |\n",
        "| STRN, enable stride for accessing off-chip memory within a single thread:                                                                | (categorical) | {0                                                                  | 1}  | |   |           |   |\n",
        "| SA, per-matrix manual caching of the 2D workgroup tile:                                                                                  | (categorical) | {0                                                                  | 1}  | |   |           |   |\n",
        "| SB, per-matrix manual caching of the 2D workgroup tile:                                                                                  | (categorical) | {0                                                                  | 1}  |     |           |   |\n",
        "| Run1, performance times in milliseconds (ms) for first independent run using the same parameters. They range between 13.25 and 3397.08.  |               |                                                                     |     |     |           |   |\n",
        "| Run2, performance times in milliseconds (ms) for second independent run using the same parameters. They range between 13.25 and 3397.08. |               |                                                                     |     |     |           |   |\n",
        "| Run3, performance times in milliseconds (ms) for third independent run using the same parameters. They range between 13.25 and 3397.08.  |               |                                                                     |     |     |           |   |\n",
        "| Run4, performance times in milliseconds (ms) for fourth independent run using the same parameters. They range between 13.25 and 3397.08. |               |                                                                     |     |     |           |   |\n"
      ],
      "metadata": {
        "id": "23TWGrHDN1st"
      }
    },
    {
      "cell_type": "markdown",
      "source": [
        "# Machine Learning (ML) Pipeline"
      ],
      "metadata": {
        "id": "iwitoFrLQdzm"
      }
    },
    {
      "cell_type": "markdown",
      "source": [
        "[15 points] Establish an initial pipeline: create a new heading in your notebook named ML Pipeline, split your dataset and complete the initial pipeline with at least one model of your choice"
      ],
      "metadata": {
        "id": "iRiHrJn0Qxze"
      }
    },
    {
      "cell_type": "code",
      "source": [
        "gpus.isna().sum()"
      ],
      "metadata": {
        "id": "GEao9eeVIlOj",
        "outputId": "6188c3e1-e73a-4690-a48b-f26a3725d251",
        "colab": {
          "base_uri": "https://localhost:8080/"
        }
      },
      "execution_count": 15,
      "outputs": [
        {
          "output_type": "execute_result",
          "data": {
            "text/plain": [
              "MWG          0\n",
              "NWG          0\n",
              "KWG          0\n",
              "MDIMC        0\n",
              "NDIMC        0\n",
              "MDIMA        0\n",
              "NDIMB        0\n",
              "KWI          0\n",
              "VWM          0\n",
              "VWN          0\n",
              "STRM         0\n",
              "STRN         0\n",
              "SA           0\n",
              "SB           0\n",
              "Run1 (ms)    0\n",
              "Run2 (ms)    0\n",
              "Run3 (ms)    0\n",
              "Run4 (ms)    0\n",
              "dtype: int64"
            ]
          },
          "metadata": {},
          "execution_count": 15
        }
      ]
    },
    {
      "cell_type": "code",
      "source": [
        "gpus = gpus.dropna()\n",
        "gpus.shape"
      ],
      "metadata": {
        "id": "3vg50c2wQAY5",
        "outputId": "4791f8d2-6a5c-4da1-eac6-fa833e8c2c84",
        "colab": {
          "base_uri": "https://localhost:8080/"
        }
      },
      "execution_count": 17,
      "outputs": [
        {
          "output_type": "execute_result",
          "data": {
            "text/plain": [
              "(241600, 18)"
            ]
          },
          "metadata": {},
          "execution_count": 17
        }
      ]
    },
    {
      "cell_type": "code",
      "source": [
        "class_column = 'MWG'\n",
        "random_seed = 2435\n",
        "\n",
        "X_train, X_test, y_train, y_test = train_test_split(gpus.drop(columns=class_column), gpus[class_column],\n",
        "                                                   test_size=0.25, random_state=random_seed, stratify=gpus[class_column])"
      ],
      "metadata": {
        "id": "AwCgbY3lQaSc"
      },
      "execution_count": 20,
      "outputs": []
    },
    {
      "cell_type": "code",
      "source": [
        "# X Train\n",
        "print('On X train: ')\n",
        "print('X train dimensions: ', X_train.shape)\n",
        "display(X_train.head())\n",
        "\n",
        "# X test\n",
        "print('\\nOn X test: ')\n",
        "print('X test dimensions: ', X_test.shape)\n",
        "display(X_test.head())"
      ],
      "metadata": {
        "id": "Yj_RcaOkRl3O",
        "outputId": "7ffc6712-832e-4b04-91d3-68c4a4820141",
        "colab": {
          "base_uri": "https://localhost:8080/",
          "height": 581
        }
      },
      "execution_count": 21,
      "outputs": [
        {
          "output_type": "stream",
          "name": "stdout",
          "text": [
            "On X train: \n",
            "X train dimensions:  (181200, 17)\n"
          ]
        },
        {
          "output_type": "display_data",
          "data": {
            "text/plain": [
              "        NWG  KWG  MDIMC  NDIMC  MDIMA  NDIMB  KWI  VWM  VWN  STRM  STRN  SA  \\\n",
              "182322   64   32      8      8      8     16    2    8    4     0     0   1   \n",
              "190506   64   32     16      8      8     16    8    2    2     1     0   1   \n",
              "5364     64   16      8      8      8      8    8    1    2     0     1   0   \n",
              "233319  128   32     16     16     16      8    8    2    1     0     1   1   \n",
              "2563     32   16      8     32     16     16    2    1    1     0     0   1   \n",
              "\n",
              "        SB  Run1 (ms)  Run2 (ms)  Run3 (ms)  Run4 (ms)  \n",
              "182322   0     776.01     765.80     762.76     772.74  \n",
              "190506   0     214.21     216.77     216.08     216.65  \n",
              "5364     0      44.67      42.54      42.51      44.71  \n",
              "233319   1     169.22     169.30     169.21     169.26  \n",
              "2563     1      76.88      76.71      77.20      77.41  "
            ],
            "text/html": [
              "\n",
              "  <div id=\"df-0eceda4a-c5e3-48ec-a631-9f51f29f0ca1\">\n",
              "    <div class=\"colab-df-container\">\n",
              "      <div>\n",
              "<style scoped>\n",
              "    .dataframe tbody tr th:only-of-type {\n",
              "        vertical-align: middle;\n",
              "    }\n",
              "\n",
              "    .dataframe tbody tr th {\n",
              "        vertical-align: top;\n",
              "    }\n",
              "\n",
              "    .dataframe thead th {\n",
              "        text-align: right;\n",
              "    }\n",
              "</style>\n",
              "<table border=\"1\" class=\"dataframe\">\n",
              "  <thead>\n",
              "    <tr style=\"text-align: right;\">\n",
              "      <th></th>\n",
              "      <th>NWG</th>\n",
              "      <th>KWG</th>\n",
              "      <th>MDIMC</th>\n",
              "      <th>NDIMC</th>\n",
              "      <th>MDIMA</th>\n",
              "      <th>NDIMB</th>\n",
              "      <th>KWI</th>\n",
              "      <th>VWM</th>\n",
              "      <th>VWN</th>\n",
              "      <th>STRM</th>\n",
              "      <th>STRN</th>\n",
              "      <th>SA</th>\n",
              "      <th>SB</th>\n",
              "      <th>Run1 (ms)</th>\n",
              "      <th>Run2 (ms)</th>\n",
              "      <th>Run3 (ms)</th>\n",
              "      <th>Run4 (ms)</th>\n",
              "    </tr>\n",
              "  </thead>\n",
              "  <tbody>\n",
              "    <tr>\n",
              "      <th>182322</th>\n",
              "      <td>64</td>\n",
              "      <td>32</td>\n",
              "      <td>8</td>\n",
              "      <td>8</td>\n",
              "      <td>8</td>\n",
              "      <td>16</td>\n",
              "      <td>2</td>\n",
              "      <td>8</td>\n",
              "      <td>4</td>\n",
              "      <td>0</td>\n",
              "      <td>0</td>\n",
              "      <td>1</td>\n",
              "      <td>0</td>\n",
              "      <td>776.01</td>\n",
              "      <td>765.80</td>\n",
              "      <td>762.76</td>\n",
              "      <td>772.74</td>\n",
              "    </tr>\n",
              "    <tr>\n",
              "      <th>190506</th>\n",
              "      <td>64</td>\n",
              "      <td>32</td>\n",
              "      <td>16</td>\n",
              "      <td>8</td>\n",
              "      <td>8</td>\n",
              "      <td>16</td>\n",
              "      <td>8</td>\n",
              "      <td>2</td>\n",
              "      <td>2</td>\n",
              "      <td>1</td>\n",
              "      <td>0</td>\n",
              "      <td>1</td>\n",
              "      <td>0</td>\n",
              "      <td>214.21</td>\n",
              "      <td>216.77</td>\n",
              "      <td>216.08</td>\n",
              "      <td>216.65</td>\n",
              "    </tr>\n",
              "    <tr>\n",
              "      <th>5364</th>\n",
              "      <td>64</td>\n",
              "      <td>16</td>\n",
              "      <td>8</td>\n",
              "      <td>8</td>\n",
              "      <td>8</td>\n",
              "      <td>8</td>\n",
              "      <td>8</td>\n",
              "      <td>1</td>\n",
              "      <td>2</td>\n",
              "      <td>0</td>\n",
              "      <td>1</td>\n",
              "      <td>0</td>\n",
              "      <td>0</td>\n",
              "      <td>44.67</td>\n",
              "      <td>42.54</td>\n",
              "      <td>42.51</td>\n",
              "      <td>44.71</td>\n",
              "    </tr>\n",
              "    <tr>\n",
              "      <th>233319</th>\n",
              "      <td>128</td>\n",
              "      <td>32</td>\n",
              "      <td>16</td>\n",
              "      <td>16</td>\n",
              "      <td>16</td>\n",
              "      <td>8</td>\n",
              "      <td>8</td>\n",
              "      <td>2</td>\n",
              "      <td>1</td>\n",
              "      <td>0</td>\n",
              "      <td>1</td>\n",
              "      <td>1</td>\n",
              "      <td>1</td>\n",
              "      <td>169.22</td>\n",
              "      <td>169.30</td>\n",
              "      <td>169.21</td>\n",
              "      <td>169.26</td>\n",
              "    </tr>\n",
              "    <tr>\n",
              "      <th>2563</th>\n",
              "      <td>32</td>\n",
              "      <td>16</td>\n",
              "      <td>8</td>\n",
              "      <td>32</td>\n",
              "      <td>16</td>\n",
              "      <td>16</td>\n",
              "      <td>2</td>\n",
              "      <td>1</td>\n",
              "      <td>1</td>\n",
              "      <td>0</td>\n",
              "      <td>0</td>\n",
              "      <td>1</td>\n",
              "      <td>1</td>\n",
              "      <td>76.88</td>\n",
              "      <td>76.71</td>\n",
              "      <td>77.20</td>\n",
              "      <td>77.41</td>\n",
              "    </tr>\n",
              "  </tbody>\n",
              "</table>\n",
              "</div>\n",
              "      <button class=\"colab-df-convert\" onclick=\"convertToInteractive('df-0eceda4a-c5e3-48ec-a631-9f51f29f0ca1')\"\n",
              "              title=\"Convert this dataframe to an interactive table.\"\n",
              "              style=\"display:none;\">\n",
              "        \n",
              "  <svg xmlns=\"http://www.w3.org/2000/svg\" height=\"24px\"viewBox=\"0 0 24 24\"\n",
              "       width=\"24px\">\n",
              "    <path d=\"M0 0h24v24H0V0z\" fill=\"none\"/>\n",
              "    <path d=\"M18.56 5.44l.94 2.06.94-2.06 2.06-.94-2.06-.94-.94-2.06-.94 2.06-2.06.94zm-11 1L8.5 8.5l.94-2.06 2.06-.94-2.06-.94L8.5 2.5l-.94 2.06-2.06.94zm10 10l.94 2.06.94-2.06 2.06-.94-2.06-.94-.94-2.06-.94 2.06-2.06.94z\"/><path d=\"M17.41 7.96l-1.37-1.37c-.4-.4-.92-.59-1.43-.59-.52 0-1.04.2-1.43.59L10.3 9.45l-7.72 7.72c-.78.78-.78 2.05 0 2.83L4 21.41c.39.39.9.59 1.41.59.51 0 1.02-.2 1.41-.59l7.78-7.78 2.81-2.81c.8-.78.8-2.07 0-2.86zM5.41 20L4 18.59l7.72-7.72 1.47 1.35L5.41 20z\"/>\n",
              "  </svg>\n",
              "      </button>\n",
              "      \n",
              "  <style>\n",
              "    .colab-df-container {\n",
              "      display:flex;\n",
              "      flex-wrap:wrap;\n",
              "      gap: 12px;\n",
              "    }\n",
              "\n",
              "    .colab-df-convert {\n",
              "      background-color: #E8F0FE;\n",
              "      border: none;\n",
              "      border-radius: 50%;\n",
              "      cursor: pointer;\n",
              "      display: none;\n",
              "      fill: #1967D2;\n",
              "      height: 32px;\n",
              "      padding: 0 0 0 0;\n",
              "      width: 32px;\n",
              "    }\n",
              "\n",
              "    .colab-df-convert:hover {\n",
              "      background-color: #E2EBFA;\n",
              "      box-shadow: 0px 1px 2px rgba(60, 64, 67, 0.3), 0px 1px 3px 1px rgba(60, 64, 67, 0.15);\n",
              "      fill: #174EA6;\n",
              "    }\n",
              "\n",
              "    [theme=dark] .colab-df-convert {\n",
              "      background-color: #3B4455;\n",
              "      fill: #D2E3FC;\n",
              "    }\n",
              "\n",
              "    [theme=dark] .colab-df-convert:hover {\n",
              "      background-color: #434B5C;\n",
              "      box-shadow: 0px 1px 3px 1px rgba(0, 0, 0, 0.15);\n",
              "      filter: drop-shadow(0px 1px 2px rgba(0, 0, 0, 0.3));\n",
              "      fill: #FFFFFF;\n",
              "    }\n",
              "  </style>\n",
              "\n",
              "      <script>\n",
              "        const buttonEl =\n",
              "          document.querySelector('#df-0eceda4a-c5e3-48ec-a631-9f51f29f0ca1 button.colab-df-convert');\n",
              "        buttonEl.style.display =\n",
              "          google.colab.kernel.accessAllowed ? 'block' : 'none';\n",
              "\n",
              "        async function convertToInteractive(key) {\n",
              "          const element = document.querySelector('#df-0eceda4a-c5e3-48ec-a631-9f51f29f0ca1');\n",
              "          const dataTable =\n",
              "            await google.colab.kernel.invokeFunction('convertToInteractive',\n",
              "                                                     [key], {});\n",
              "          if (!dataTable) return;\n",
              "\n",
              "          const docLinkHtml = 'Like what you see? Visit the ' +\n",
              "            '<a target=\"_blank\" href=https://colab.research.google.com/notebooks/data_table.ipynb>data table notebook</a>'\n",
              "            + ' to learn more about interactive tables.';\n",
              "          element.innerHTML = '';\n",
              "          dataTable['output_type'] = 'display_data';\n",
              "          await google.colab.output.renderOutput(dataTable, element);\n",
              "          const docLink = document.createElement('div');\n",
              "          docLink.innerHTML = docLinkHtml;\n",
              "          element.appendChild(docLink);\n",
              "        }\n",
              "      </script>\n",
              "    </div>\n",
              "  </div>\n",
              "  "
            ]
          },
          "metadata": {}
        },
        {
          "output_type": "stream",
          "name": "stdout",
          "text": [
            "\n",
            "On X test: \n",
            "X test dimensions:  (60400, 17)\n"
          ]
        },
        {
          "output_type": "display_data",
          "data": {
            "text/plain": [
              "        NWG  KWG  MDIMC  NDIMC  MDIMA  NDIMB  KWI  VWM  VWN  STRM  STRN  SA  \\\n",
              "79585    32   32      8      8     32      8    8    1    1     0     0   0   \n",
              "190448   64   32     16      8      8     16    8    1    2     0     0   0   \n",
              "188041   64   32      8     32      8     16    8    2    1     1     0   0   \n",
              "53802   128   16     16     16     32     16    8    1    4     1     0   1   \n",
              "106224   64   32     16     16     16      8    2    2    4     0     0   0   \n",
              "\n",
              "        SB  Run1 (ms)  Run2 (ms)  Run3 (ms)  Run4 (ms)  \n",
              "79585    1      82.52      82.52      82.68      82.92  \n",
              "190448   0     271.95     271.25     271.37     271.53  \n",
              "188041   1      46.99      46.35      46.82      47.04  \n",
              "53802    0      36.67      36.77      36.75      36.68  \n",
              "106224   0      38.99      39.05      39.01      39.02  "
            ],
            "text/html": [
              "\n",
              "  <div id=\"df-db3d2b23-d5bc-41c9-8479-502cdaae636c\">\n",
              "    <div class=\"colab-df-container\">\n",
              "      <div>\n",
              "<style scoped>\n",
              "    .dataframe tbody tr th:only-of-type {\n",
              "        vertical-align: middle;\n",
              "    }\n",
              "\n",
              "    .dataframe tbody tr th {\n",
              "        vertical-align: top;\n",
              "    }\n",
              "\n",
              "    .dataframe thead th {\n",
              "        text-align: right;\n",
              "    }\n",
              "</style>\n",
              "<table border=\"1\" class=\"dataframe\">\n",
              "  <thead>\n",
              "    <tr style=\"text-align: right;\">\n",
              "      <th></th>\n",
              "      <th>NWG</th>\n",
              "      <th>KWG</th>\n",
              "      <th>MDIMC</th>\n",
              "      <th>NDIMC</th>\n",
              "      <th>MDIMA</th>\n",
              "      <th>NDIMB</th>\n",
              "      <th>KWI</th>\n",
              "      <th>VWM</th>\n",
              "      <th>VWN</th>\n",
              "      <th>STRM</th>\n",
              "      <th>STRN</th>\n",
              "      <th>SA</th>\n",
              "      <th>SB</th>\n",
              "      <th>Run1 (ms)</th>\n",
              "      <th>Run2 (ms)</th>\n",
              "      <th>Run3 (ms)</th>\n",
              "      <th>Run4 (ms)</th>\n",
              "    </tr>\n",
              "  </thead>\n",
              "  <tbody>\n",
              "    <tr>\n",
              "      <th>79585</th>\n",
              "      <td>32</td>\n",
              "      <td>32</td>\n",
              "      <td>8</td>\n",
              "      <td>8</td>\n",
              "      <td>32</td>\n",
              "      <td>8</td>\n",
              "      <td>8</td>\n",
              "      <td>1</td>\n",
              "      <td>1</td>\n",
              "      <td>0</td>\n",
              "      <td>0</td>\n",
              "      <td>0</td>\n",
              "      <td>1</td>\n",
              "      <td>82.52</td>\n",
              "      <td>82.52</td>\n",
              "      <td>82.68</td>\n",
              "      <td>82.92</td>\n",
              "    </tr>\n",
              "    <tr>\n",
              "      <th>190448</th>\n",
              "      <td>64</td>\n",
              "      <td>32</td>\n",
              "      <td>16</td>\n",
              "      <td>8</td>\n",
              "      <td>8</td>\n",
              "      <td>16</td>\n",
              "      <td>8</td>\n",
              "      <td>1</td>\n",
              "      <td>2</td>\n",
              "      <td>0</td>\n",
              "      <td>0</td>\n",
              "      <td>0</td>\n",
              "      <td>0</td>\n",
              "      <td>271.95</td>\n",
              "      <td>271.25</td>\n",
              "      <td>271.37</td>\n",
              "      <td>271.53</td>\n",
              "    </tr>\n",
              "    <tr>\n",
              "      <th>188041</th>\n",
              "      <td>64</td>\n",
              "      <td>32</td>\n",
              "      <td>8</td>\n",
              "      <td>32</td>\n",
              "      <td>8</td>\n",
              "      <td>16</td>\n",
              "      <td>8</td>\n",
              "      <td>2</td>\n",
              "      <td>1</td>\n",
              "      <td>1</td>\n",
              "      <td>0</td>\n",
              "      <td>0</td>\n",
              "      <td>1</td>\n",
              "      <td>46.99</td>\n",
              "      <td>46.35</td>\n",
              "      <td>46.82</td>\n",
              "      <td>47.04</td>\n",
              "    </tr>\n",
              "    <tr>\n",
              "      <th>53802</th>\n",
              "      <td>128</td>\n",
              "      <td>16</td>\n",
              "      <td>16</td>\n",
              "      <td>16</td>\n",
              "      <td>32</td>\n",
              "      <td>16</td>\n",
              "      <td>8</td>\n",
              "      <td>1</td>\n",
              "      <td>4</td>\n",
              "      <td>1</td>\n",
              "      <td>0</td>\n",
              "      <td>1</td>\n",
              "      <td>0</td>\n",
              "      <td>36.67</td>\n",
              "      <td>36.77</td>\n",
              "      <td>36.75</td>\n",
              "      <td>36.68</td>\n",
              "    </tr>\n",
              "    <tr>\n",
              "      <th>106224</th>\n",
              "      <td>64</td>\n",
              "      <td>32</td>\n",
              "      <td>16</td>\n",
              "      <td>16</td>\n",
              "      <td>16</td>\n",
              "      <td>8</td>\n",
              "      <td>2</td>\n",
              "      <td>2</td>\n",
              "      <td>4</td>\n",
              "      <td>0</td>\n",
              "      <td>0</td>\n",
              "      <td>0</td>\n",
              "      <td>0</td>\n",
              "      <td>38.99</td>\n",
              "      <td>39.05</td>\n",
              "      <td>39.01</td>\n",
              "      <td>39.02</td>\n",
              "    </tr>\n",
              "  </tbody>\n",
              "</table>\n",
              "</div>\n",
              "      <button class=\"colab-df-convert\" onclick=\"convertToInteractive('df-db3d2b23-d5bc-41c9-8479-502cdaae636c')\"\n",
              "              title=\"Convert this dataframe to an interactive table.\"\n",
              "              style=\"display:none;\">\n",
              "        \n",
              "  <svg xmlns=\"http://www.w3.org/2000/svg\" height=\"24px\"viewBox=\"0 0 24 24\"\n",
              "       width=\"24px\">\n",
              "    <path d=\"M0 0h24v24H0V0z\" fill=\"none\"/>\n",
              "    <path d=\"M18.56 5.44l.94 2.06.94-2.06 2.06-.94-2.06-.94-.94-2.06-.94 2.06-2.06.94zm-11 1L8.5 8.5l.94-2.06 2.06-.94-2.06-.94L8.5 2.5l-.94 2.06-2.06.94zm10 10l.94 2.06.94-2.06 2.06-.94-2.06-.94-.94-2.06-.94 2.06-2.06.94z\"/><path d=\"M17.41 7.96l-1.37-1.37c-.4-.4-.92-.59-1.43-.59-.52 0-1.04.2-1.43.59L10.3 9.45l-7.72 7.72c-.78.78-.78 2.05 0 2.83L4 21.41c.39.39.9.59 1.41.59.51 0 1.02-.2 1.41-.59l7.78-7.78 2.81-2.81c.8-.78.8-2.07 0-2.86zM5.41 20L4 18.59l7.72-7.72 1.47 1.35L5.41 20z\"/>\n",
              "  </svg>\n",
              "      </button>\n",
              "      \n",
              "  <style>\n",
              "    .colab-df-container {\n",
              "      display:flex;\n",
              "      flex-wrap:wrap;\n",
              "      gap: 12px;\n",
              "    }\n",
              "\n",
              "    .colab-df-convert {\n",
              "      background-color: #E8F0FE;\n",
              "      border: none;\n",
              "      border-radius: 50%;\n",
              "      cursor: pointer;\n",
              "      display: none;\n",
              "      fill: #1967D2;\n",
              "      height: 32px;\n",
              "      padding: 0 0 0 0;\n",
              "      width: 32px;\n",
              "    }\n",
              "\n",
              "    .colab-df-convert:hover {\n",
              "      background-color: #E2EBFA;\n",
              "      box-shadow: 0px 1px 2px rgba(60, 64, 67, 0.3), 0px 1px 3px 1px rgba(60, 64, 67, 0.15);\n",
              "      fill: #174EA6;\n",
              "    }\n",
              "\n",
              "    [theme=dark] .colab-df-convert {\n",
              "      background-color: #3B4455;\n",
              "      fill: #D2E3FC;\n",
              "    }\n",
              "\n",
              "    [theme=dark] .colab-df-convert:hover {\n",
              "      background-color: #434B5C;\n",
              "      box-shadow: 0px 1px 3px 1px rgba(0, 0, 0, 0.15);\n",
              "      filter: drop-shadow(0px 1px 2px rgba(0, 0, 0, 0.3));\n",
              "      fill: #FFFFFF;\n",
              "    }\n",
              "  </style>\n",
              "\n",
              "      <script>\n",
              "        const buttonEl =\n",
              "          document.querySelector('#df-db3d2b23-d5bc-41c9-8479-502cdaae636c button.colab-df-convert');\n",
              "        buttonEl.style.display =\n",
              "          google.colab.kernel.accessAllowed ? 'block' : 'none';\n",
              "\n",
              "        async function convertToInteractive(key) {\n",
              "          const element = document.querySelector('#df-db3d2b23-d5bc-41c9-8479-502cdaae636c');\n",
              "          const dataTable =\n",
              "            await google.colab.kernel.invokeFunction('convertToInteractive',\n",
              "                                                     [key], {});\n",
              "          if (!dataTable) return;\n",
              "\n",
              "          const docLinkHtml = 'Like what you see? Visit the ' +\n",
              "            '<a target=\"_blank\" href=https://colab.research.google.com/notebooks/data_table.ipynb>data table notebook</a>'\n",
              "            + ' to learn more about interactive tables.';\n",
              "          element.innerHTML = '';\n",
              "          dataTable['output_type'] = 'display_data';\n",
              "          await google.colab.output.renderOutput(dataTable, element);\n",
              "          const docLink = document.createElement('div');\n",
              "          docLink.innerHTML = docLinkHtml;\n",
              "          element.appendChild(docLink);\n",
              "        }\n",
              "      </script>\n",
              "    </div>\n",
              "  </div>\n",
              "  "
            ]
          },
          "metadata": {}
        }
      ]
    },
    {
      "cell_type": "code",
      "execution_count": 22,
      "metadata": {
        "colab": {
          "base_uri": "https://localhost:8080/",
          "height": 312
        },
        "id": "113d1ab3-739a-4e42-8500-92b6332b2475",
        "outputId": "a8274677-e0d3-414a-b3b3-f02994851f41"
      },
      "outputs": [
        {
          "output_type": "stream",
          "name": "stdout",
          "text": [
            "On y train: \n",
            "y train dimensions:  (181200,)\n"
          ]
        },
        {
          "output_type": "display_data",
          "data": {
            "text/plain": [
              "182322    128\n",
              "190506    128\n",
              "5364       16\n",
              "233319    128\n",
              "2563       16\n",
              "Name: MWG, dtype: int64"
            ]
          },
          "metadata": {}
        },
        {
          "output_type": "stream",
          "name": "stdout",
          "text": [
            "\n",
            "On y test: \n",
            "y test dimensions:  (60400,)\n"
          ]
        },
        {
          "output_type": "display_data",
          "data": {
            "text/plain": [
              "79585      64\n",
              "190448    128\n",
              "188041    128\n",
              "53802      32\n",
              "106224     64\n",
              "Name: MWG, dtype: int64"
            ]
          },
          "metadata": {}
        }
      ],
      "source": [
        "# X Train\n",
        "print('On y train: ')\n",
        "print('y train dimensions: ', y_train.shape)\n",
        "display(y_train.head())\n",
        "\n",
        "# X test\n",
        "print('\\nOn y test: ')\n",
        "print('y test dimensions: ', y_test.shape)\n",
        "display(y_test.head())"
      ]
    },
    {
      "cell_type": "markdown",
      "source": [
        "## Establish the training pipeline\n",
        "\n",
        "We can now establish the training pipeline for our models. Since this is a process we would need to repeat several times, it's good to essentially functionalize the process so we do not need to re-write redundant code. Here, we can impute some values that were missing, and encode any categorical values. Note that these pipelines will change according to the model and methodology you choose - additionally, the pipelines will also change depending on the data types of the columns in your dataset. "
      ],
      "metadata": {
        "id": "Qg4k53FDRxG3"
      }
    },
    {
      "cell_type": "code",
      "source": [
        "#individual pipelines for differing datatypes\n",
        "cat_pipeline = Pipeline(steps=[('cat_impute', SimpleImputer(missing_values=np.nan, strategy='most_frequent')),\n",
        "                               ('onehot_cat', OneHotEncoder(drop='if_binary'))])\n",
        "num_pipeline = Pipeline(steps=[('impute_num', SimpleImputer(missing_values=np.nan, strategy='mean')),\n",
        "                               ('scale_num', StandardScaler())])"
      ],
      "metadata": {
        "id": "KOmSNt08RuZu"
      },
      "execution_count": 23,
      "outputs": []
    },
    {
      "cell_type": "code",
      "source": [
        "#establish preprocessing pipeline by columns\n",
        "preproc = ColumnTransformer([('cat_pipe', cat_pipeline, make_column_selector(dtype_include=object)),\n",
        "                             ('num_pipe', num_pipeline, make_column_selector(dtype_include=np.number))],\n",
        "                             remainder='passthrough')"
      ],
      "metadata": {
        "id": "34iTde-IR3ZY"
      },
      "execution_count": 24,
      "outputs": []
    },
    {
      "cell_type": "code",
      "source": [
        "#generate the whole modeling pipeline with preprocessing\n",
        "pipe = Pipeline(steps=[('preproc', preproc),\n",
        "                       ('mdl', LogisticRegression(penalty='elasticnet', solver='saga', tol=0.01))])\n",
        "\n",
        "#visualization for steps\n",
        "with config_context(display='diagram'):\n",
        "    display(pipe)"
      ],
      "metadata": {
        "id": "RH4tdZhWR36H",
        "outputId": "732bf5c1-7a68-43a9-9592-21550caf73ff",
        "colab": {
          "base_uri": "https://localhost:8080/",
          "height": 227
        }
      },
      "execution_count": 25,
      "outputs": [
        {
          "output_type": "display_data",
          "data": {
            "text/plain": [
              "Pipeline(steps=[('preproc',\n",
              "                 ColumnTransformer(remainder='passthrough',\n",
              "                                   transformers=[('cat_pipe',\n",
              "                                                  Pipeline(steps=[('cat_impute',\n",
              "                                                                   SimpleImputer(strategy='most_frequent')),\n",
              "                                                                  ('onehot_cat',\n",
              "                                                                   OneHotEncoder(drop='if_binary'))]),\n",
              "                                                  <sklearn.compose._column_transformer.make_column_selector object at 0x7f6546beda90>),\n",
              "                                                 ('num_pipe',\n",
              "                                                  Pipeline(steps=[('impute_num',\n",
              "                                                                   SimpleImputer()),\n",
              "                                                                  ('scale_num',\n",
              "                                                                   StandardScaler())]),\n",
              "                                                  <sklearn.compose._column_transformer.make_column_selector object at 0x7f6546bed350>)])),\n",
              "                ('mdl',\n",
              "                 LogisticRegression(penalty='elasticnet', solver='saga',\n",
              "                                    tol=0.01))])"
            ],
            "text/html": [
              "<style>#sk-e33a6216-4dcd-4651-81f1-b424a3eca930 {color: black;background-color: white;}#sk-e33a6216-4dcd-4651-81f1-b424a3eca930 pre{padding: 0;}#sk-e33a6216-4dcd-4651-81f1-b424a3eca930 div.sk-toggleable {background-color: white;}#sk-e33a6216-4dcd-4651-81f1-b424a3eca930 label.sk-toggleable__label {cursor: pointer;display: block;width: 100%;margin-bottom: 0;padding: 0.3em;box-sizing: border-box;text-align: center;}#sk-e33a6216-4dcd-4651-81f1-b424a3eca930 label.sk-toggleable__label-arrow:before {content: \"▸\";float: left;margin-right: 0.25em;color: #696969;}#sk-e33a6216-4dcd-4651-81f1-b424a3eca930 label.sk-toggleable__label-arrow:hover:before {color: black;}#sk-e33a6216-4dcd-4651-81f1-b424a3eca930 div.sk-estimator:hover label.sk-toggleable__label-arrow:before {color: black;}#sk-e33a6216-4dcd-4651-81f1-b424a3eca930 div.sk-toggleable__content {max-height: 0;max-width: 0;overflow: hidden;text-align: left;background-color: #f0f8ff;}#sk-e33a6216-4dcd-4651-81f1-b424a3eca930 div.sk-toggleable__content pre {margin: 0.2em;color: black;border-radius: 0.25em;background-color: #f0f8ff;}#sk-e33a6216-4dcd-4651-81f1-b424a3eca930 input.sk-toggleable__control:checked~div.sk-toggleable__content {max-height: 200px;max-width: 100%;overflow: auto;}#sk-e33a6216-4dcd-4651-81f1-b424a3eca930 input.sk-toggleable__control:checked~label.sk-toggleable__label-arrow:before {content: \"▾\";}#sk-e33a6216-4dcd-4651-81f1-b424a3eca930 div.sk-estimator input.sk-toggleable__control:checked~label.sk-toggleable__label {background-color: #d4ebff;}#sk-e33a6216-4dcd-4651-81f1-b424a3eca930 div.sk-label input.sk-toggleable__control:checked~label.sk-toggleable__label {background-color: #d4ebff;}#sk-e33a6216-4dcd-4651-81f1-b424a3eca930 input.sk-hidden--visually {border: 0;clip: rect(1px 1px 1px 1px);clip: rect(1px, 1px, 1px, 1px);height: 1px;margin: -1px;overflow: hidden;padding: 0;position: absolute;width: 1px;}#sk-e33a6216-4dcd-4651-81f1-b424a3eca930 div.sk-estimator {font-family: monospace;background-color: #f0f8ff;border: 1px dotted black;border-radius: 0.25em;box-sizing: border-box;margin-bottom: 0.5em;}#sk-e33a6216-4dcd-4651-81f1-b424a3eca930 div.sk-estimator:hover {background-color: #d4ebff;}#sk-e33a6216-4dcd-4651-81f1-b424a3eca930 div.sk-parallel-item::after {content: \"\";width: 100%;border-bottom: 1px solid gray;flex-grow: 1;}#sk-e33a6216-4dcd-4651-81f1-b424a3eca930 div.sk-label:hover label.sk-toggleable__label {background-color: #d4ebff;}#sk-e33a6216-4dcd-4651-81f1-b424a3eca930 div.sk-serial::before {content: \"\";position: absolute;border-left: 1px solid gray;box-sizing: border-box;top: 2em;bottom: 0;left: 50%;}#sk-e33a6216-4dcd-4651-81f1-b424a3eca930 div.sk-serial {display: flex;flex-direction: column;align-items: center;background-color: white;padding-right: 0.2em;padding-left: 0.2em;}#sk-e33a6216-4dcd-4651-81f1-b424a3eca930 div.sk-item {z-index: 1;}#sk-e33a6216-4dcd-4651-81f1-b424a3eca930 div.sk-parallel {display: flex;align-items: stretch;justify-content: center;background-color: white;}#sk-e33a6216-4dcd-4651-81f1-b424a3eca930 div.sk-parallel::before {content: \"\";position: absolute;border-left: 1px solid gray;box-sizing: border-box;top: 2em;bottom: 0;left: 50%;}#sk-e33a6216-4dcd-4651-81f1-b424a3eca930 div.sk-parallel-item {display: flex;flex-direction: column;position: relative;background-color: white;}#sk-e33a6216-4dcd-4651-81f1-b424a3eca930 div.sk-parallel-item:first-child::after {align-self: flex-end;width: 50%;}#sk-e33a6216-4dcd-4651-81f1-b424a3eca930 div.sk-parallel-item:last-child::after {align-self: flex-start;width: 50%;}#sk-e33a6216-4dcd-4651-81f1-b424a3eca930 div.sk-parallel-item:only-child::after {width: 0;}#sk-e33a6216-4dcd-4651-81f1-b424a3eca930 div.sk-dashed-wrapped {border: 1px dashed gray;margin: 0 0.4em 0.5em 0.4em;box-sizing: border-box;padding-bottom: 0.4em;background-color: white;position: relative;}#sk-e33a6216-4dcd-4651-81f1-b424a3eca930 div.sk-label label {font-family: monospace;font-weight: bold;background-color: white;display: inline-block;line-height: 1.2em;}#sk-e33a6216-4dcd-4651-81f1-b424a3eca930 div.sk-label-container {position: relative;z-index: 2;text-align: center;}#sk-e33a6216-4dcd-4651-81f1-b424a3eca930 div.sk-container {/* jupyter's `normalize.less` sets `[hidden] { display: none; }` but bootstrap.min.css set `[hidden] { display: none !important; }` so we also need the `!important` here to be able to override the default hidden behavior on the sphinx rendered scikit-learn.org. See: https://github.com/scikit-learn/scikit-learn/issues/21755 */display: inline-block !important;position: relative;}#sk-e33a6216-4dcd-4651-81f1-b424a3eca930 div.sk-text-repr-fallback {display: none;}</style><div id=\"sk-e33a6216-4dcd-4651-81f1-b424a3eca930\" class=\"sk-top-container\"><div class=\"sk-text-repr-fallback\"><pre>Pipeline(steps=[(&#x27;preproc&#x27;,\n",
              "                 ColumnTransformer(remainder=&#x27;passthrough&#x27;,\n",
              "                                   transformers=[(&#x27;cat_pipe&#x27;,\n",
              "                                                  Pipeline(steps=[(&#x27;cat_impute&#x27;,\n",
              "                                                                   SimpleImputer(strategy=&#x27;most_frequent&#x27;)),\n",
              "                                                                  (&#x27;onehot_cat&#x27;,\n",
              "                                                                   OneHotEncoder(drop=&#x27;if_binary&#x27;))]),\n",
              "                                                  &lt;sklearn.compose._column_transformer.make_column_selector object at 0x7f6546beda90&gt;),\n",
              "                                                 (&#x27;num_pipe&#x27;,\n",
              "                                                  Pipeline(steps=[(&#x27;impute_num&#x27;,\n",
              "                                                                   SimpleImputer()),\n",
              "                                                                  (&#x27;scale_num&#x27;,\n",
              "                                                                   StandardScaler())]),\n",
              "                                                  &lt;sklearn.compose._column_transformer.make_column_selector object at 0x7f6546bed350&gt;)])),\n",
              "                (&#x27;mdl&#x27;,\n",
              "                 LogisticRegression(penalty=&#x27;elasticnet&#x27;, solver=&#x27;saga&#x27;,\n",
              "                                    tol=0.01))])</pre><b>Please rerun this cell to show the HTML repr or trust the notebook.</b></div><div class=\"sk-container\" hidden><div class=\"sk-item sk-dashed-wrapped\"><div class=\"sk-label-container\"><div class=\"sk-label sk-toggleable\"><input class=\"sk-toggleable__control sk-hidden--visually\" id=\"da2c159c-b6de-457d-a97e-e063a38c5c57\" type=\"checkbox\" ><label for=\"da2c159c-b6de-457d-a97e-e063a38c5c57\" class=\"sk-toggleable__label sk-toggleable__label-arrow\">Pipeline</label><div class=\"sk-toggleable__content\"><pre>Pipeline(steps=[(&#x27;preproc&#x27;,\n",
              "                 ColumnTransformer(remainder=&#x27;passthrough&#x27;,\n",
              "                                   transformers=[(&#x27;cat_pipe&#x27;,\n",
              "                                                  Pipeline(steps=[(&#x27;cat_impute&#x27;,\n",
              "                                                                   SimpleImputer(strategy=&#x27;most_frequent&#x27;)),\n",
              "                                                                  (&#x27;onehot_cat&#x27;,\n",
              "                                                                   OneHotEncoder(drop=&#x27;if_binary&#x27;))]),\n",
              "                                                  &lt;sklearn.compose._column_transformer.make_column_selector object at 0x7f6546beda90&gt;),\n",
              "                                                 (&#x27;num_pipe&#x27;,\n",
              "                                                  Pipeline(steps=[(&#x27;impute_num&#x27;,\n",
              "                                                                   SimpleImputer()),\n",
              "                                                                  (&#x27;scale_num&#x27;,\n",
              "                                                                   StandardScaler())]),\n",
              "                                                  &lt;sklearn.compose._column_transformer.make_column_selector object at 0x7f6546bed350&gt;)])),\n",
              "                (&#x27;mdl&#x27;,\n",
              "                 LogisticRegression(penalty=&#x27;elasticnet&#x27;, solver=&#x27;saga&#x27;,\n",
              "                                    tol=0.01))])</pre></div></div></div><div class=\"sk-serial\"><div class=\"sk-item sk-dashed-wrapped\"><div class=\"sk-label-container\"><div class=\"sk-label sk-toggleable\"><input class=\"sk-toggleable__control sk-hidden--visually\" id=\"66f6fc35-f282-4d66-bf0d-55e5be99c0b3\" type=\"checkbox\" ><label for=\"66f6fc35-f282-4d66-bf0d-55e5be99c0b3\" class=\"sk-toggleable__label sk-toggleable__label-arrow\">preproc: ColumnTransformer</label><div class=\"sk-toggleable__content\"><pre>ColumnTransformer(remainder=&#x27;passthrough&#x27;,\n",
              "                  transformers=[(&#x27;cat_pipe&#x27;,\n",
              "                                 Pipeline(steps=[(&#x27;cat_impute&#x27;,\n",
              "                                                  SimpleImputer(strategy=&#x27;most_frequent&#x27;)),\n",
              "                                                 (&#x27;onehot_cat&#x27;,\n",
              "                                                  OneHotEncoder(drop=&#x27;if_binary&#x27;))]),\n",
              "                                 &lt;sklearn.compose._column_transformer.make_column_selector object at 0x7f6546beda90&gt;),\n",
              "                                (&#x27;num_pipe&#x27;,\n",
              "                                 Pipeline(steps=[(&#x27;impute_num&#x27;,\n",
              "                                                  SimpleImputer()),\n",
              "                                                 (&#x27;scale_num&#x27;,\n",
              "                                                  StandardScaler())]),\n",
              "                                 &lt;sklearn.compose._column_transformer.make_column_selector object at 0x7f6546bed350&gt;)])</pre></div></div></div><div class=\"sk-parallel\"><div class=\"sk-parallel-item\"><div class=\"sk-item\"><div class=\"sk-label-container\"><div class=\"sk-label sk-toggleable\"><input class=\"sk-toggleable__control sk-hidden--visually\" id=\"d2e6c58e-a3bd-4fd0-8100-e98b2d73d5f9\" type=\"checkbox\" ><label for=\"d2e6c58e-a3bd-4fd0-8100-e98b2d73d5f9\" class=\"sk-toggleable__label sk-toggleable__label-arrow\">cat_pipe</label><div class=\"sk-toggleable__content\"><pre>&lt;sklearn.compose._column_transformer.make_column_selector object at 0x7f6546beda90&gt;</pre></div></div></div><div class=\"sk-serial\"><div class=\"sk-item\"><div class=\"sk-serial\"><div class=\"sk-item\"><div class=\"sk-estimator sk-toggleable\"><input class=\"sk-toggleable__control sk-hidden--visually\" id=\"f1c09822-e43a-4444-9347-058899deac9c\" type=\"checkbox\" ><label for=\"f1c09822-e43a-4444-9347-058899deac9c\" class=\"sk-toggleable__label sk-toggleable__label-arrow\">SimpleImputer</label><div class=\"sk-toggleable__content\"><pre>SimpleImputer(strategy=&#x27;most_frequent&#x27;)</pre></div></div></div><div class=\"sk-item\"><div class=\"sk-estimator sk-toggleable\"><input class=\"sk-toggleable__control sk-hidden--visually\" id=\"d76bf434-d9c9-4317-85fb-eacac89a93d1\" type=\"checkbox\" ><label for=\"d76bf434-d9c9-4317-85fb-eacac89a93d1\" class=\"sk-toggleable__label sk-toggleable__label-arrow\">OneHotEncoder</label><div class=\"sk-toggleable__content\"><pre>OneHotEncoder(drop=&#x27;if_binary&#x27;)</pre></div></div></div></div></div></div></div></div><div class=\"sk-parallel-item\"><div class=\"sk-item\"><div class=\"sk-label-container\"><div class=\"sk-label sk-toggleable\"><input class=\"sk-toggleable__control sk-hidden--visually\" id=\"8508ba8f-7b79-4276-9a04-97f526bbd9fc\" type=\"checkbox\" ><label for=\"8508ba8f-7b79-4276-9a04-97f526bbd9fc\" class=\"sk-toggleable__label sk-toggleable__label-arrow\">num_pipe</label><div class=\"sk-toggleable__content\"><pre>&lt;sklearn.compose._column_transformer.make_column_selector object at 0x7f6546bed350&gt;</pre></div></div></div><div class=\"sk-serial\"><div class=\"sk-item\"><div class=\"sk-serial\"><div class=\"sk-item\"><div class=\"sk-estimator sk-toggleable\"><input class=\"sk-toggleable__control sk-hidden--visually\" id=\"8274e0d5-652c-40d4-88a1-7dc645a9880b\" type=\"checkbox\" ><label for=\"8274e0d5-652c-40d4-88a1-7dc645a9880b\" class=\"sk-toggleable__label sk-toggleable__label-arrow\">SimpleImputer</label><div class=\"sk-toggleable__content\"><pre>SimpleImputer()</pre></div></div></div><div class=\"sk-item\"><div class=\"sk-estimator sk-toggleable\"><input class=\"sk-toggleable__control sk-hidden--visually\" id=\"b2038af9-e940-451f-997e-65fe50e7d00e\" type=\"checkbox\" ><label for=\"b2038af9-e940-451f-997e-65fe50e7d00e\" class=\"sk-toggleable__label sk-toggleable__label-arrow\">StandardScaler</label><div class=\"sk-toggleable__content\"><pre>StandardScaler()</pre></div></div></div></div></div></div></div></div><div class=\"sk-parallel-item\"><div class=\"sk-item\"><div class=\"sk-label-container\"><div class=\"sk-label sk-toggleable\"><input class=\"sk-toggleable__control sk-hidden--visually\" id=\"87c769d4-107b-471d-b733-90cc8d3b1802\" type=\"checkbox\" ><label for=\"87c769d4-107b-471d-b733-90cc8d3b1802\" class=\"sk-toggleable__label sk-toggleable__label-arrow\">remainder</label><div class=\"sk-toggleable__content\"><pre></pre></div></div></div><div class=\"sk-serial\"><div class=\"sk-item\"><div class=\"sk-estimator sk-toggleable\"><input class=\"sk-toggleable__control sk-hidden--visually\" id=\"0d2c02b1-054e-4d9b-829f-5e1d207524ad\" type=\"checkbox\" ><label for=\"0d2c02b1-054e-4d9b-829f-5e1d207524ad\" class=\"sk-toggleable__label sk-toggleable__label-arrow\">passthrough</label><div class=\"sk-toggleable__content\"><pre>passthrough</pre></div></div></div></div></div></div></div></div><div class=\"sk-item\"><div class=\"sk-estimator sk-toggleable\"><input class=\"sk-toggleable__control sk-hidden--visually\" id=\"229910a8-f1f0-4652-8a6d-aca5547d2360\" type=\"checkbox\" ><label for=\"229910a8-f1f0-4652-8a6d-aca5547d2360\" class=\"sk-toggleable__label sk-toggleable__label-arrow\">LogisticRegression</label><div class=\"sk-toggleable__content\"><pre>LogisticRegression(penalty=&#x27;elasticnet&#x27;, solver=&#x27;saga&#x27;, tol=0.01)</pre></div></div></div></div></div></div></div>"
            ]
          },
          "metadata": {}
        }
      ]
    },
    {
      "cell_type": "markdown",
      "source": [
        "## Cross-validation with hyperparameter tuning\n",
        "\n",
        "Now that we have our pipelines, we can now use this as part of cross validation and hyperparameter tuning."
      ],
      "metadata": {
        "id": "ID85wROoR_ER"
      }
    },
    {
      "cell_type": "code",
      "source": [
        "tuning_grid = {'mdl__l1_ratio' : np.linspace(0,1,5),\n",
        "               'mdl__C': np.logspace(-1, 6, 3) }\n",
        "grid_search = GridSearchCV(pipe, param_grid = tuning_grid, cv = 5, return_train_score=True)"
      ],
      "metadata": {
        "id": "f1Z-CfBkSBaT"
      },
      "execution_count": 26,
      "outputs": []
    },
    {
      "cell_type": "code",
      "source": [
        "tuning_grid"
      ],
      "metadata": {
        "id": "gL0c_dvVSGQF",
        "outputId": "6f18e6d9-d0ff-45a4-d3a0-3acdc7510284",
        "colab": {
          "base_uri": "https://localhost:8080/"
        }
      },
      "execution_count": 27,
      "outputs": [
        {
          "output_type": "execute_result",
          "data": {
            "text/plain": [
              "{'mdl__l1_ratio': array([0.  , 0.25, 0.5 , 0.75, 1.  ]),\n",
              " 'mdl__C': array([1.00000000e-01, 3.16227766e+02, 1.00000000e+06])}"
            ]
          },
          "metadata": {},
          "execution_count": 27
        }
      ]
    },
    {
      "cell_type": "code",
      "source": [
        "grid_search.fit(X_train, y_train)"
      ],
      "metadata": {
        "id": "7SBbpKUeSIGO",
        "outputId": "102fe7a9-3e72-4e95-ee6b-a9bd66d7c563",
        "colab": {
          "base_uri": "https://localhost:8080/"
        }
      },
      "execution_count": 28,
      "outputs": [
        {
          "output_type": "execute_result",
          "data": {
            "text/plain": [
              "GridSearchCV(cv=5,\n",
              "             estimator=Pipeline(steps=[('preproc',\n",
              "                                        ColumnTransformer(remainder='passthrough',\n",
              "                                                          transformers=[('cat_pipe',\n",
              "                                                                         Pipeline(steps=[('cat_impute',\n",
              "                                                                                          SimpleImputer(strategy='most_frequent')),\n",
              "                                                                                         ('onehot_cat',\n",
              "                                                                                          OneHotEncoder(drop='if_binary'))]),\n",
              "                                                                         <sklearn.compose._column_transformer.make_column_selector object at 0x7f6546beda90>),\n",
              "                                                                        ('num_pipe',\n",
              "                                                                         Pipeline(step...\n",
              "                                                                                          SimpleImputer()),\n",
              "                                                                                         ('scale_num',\n",
              "                                                                                          StandardScaler())]),\n",
              "                                                                         <sklearn.compose._column_transformer.make_column_selector object at 0x7f6546bed350>)])),\n",
              "                                       ('mdl',\n",
              "                                        LogisticRegression(penalty='elasticnet',\n",
              "                                                           solver='saga',\n",
              "                                                           tol=0.01))]),\n",
              "             param_grid={'mdl__C': array([1.00000000e-01, 3.16227766e+02, 1.00000000e+06]),\n",
              "                         'mdl__l1_ratio': array([0.  , 0.25, 0.5 , 0.75, 1.  ])},\n",
              "             return_train_score=True)"
            ]
          },
          "metadata": {},
          "execution_count": 28
        }
      ]
    },
    {
      "cell_type": "code",
      "source": [
        "print(grid_search.best_score_)\n",
        "grid_search.best_params_"
      ],
      "metadata": {
        "id": "VhzUvAfdSJjR",
        "outputId": "76552586-40d9-47e0-cf0c-ee889e0d0709",
        "colab": {
          "base_uri": "https://localhost:8080/"
        }
      },
      "execution_count": 29,
      "outputs": [
        {
          "output_type": "stream",
          "name": "stdout",
          "text": [
            "0.5681070640176602\n"
          ]
        },
        {
          "output_type": "execute_result",
          "data": {
            "text/plain": [
              "{'mdl__C': 316.22776601683796, 'mdl__l1_ratio': 0.25}"
            ]
          },
          "metadata": {},
          "execution_count": 29
        }
      ]
    },
    {
      "cell_type": "code",
      "source": [],
      "metadata": {
        "id": "7z4UAh3RSNNb"
      },
      "execution_count": 29,
      "outputs": []
    },
    {
      "cell_type": "markdown",
      "source": [
        "## Final fit\n",
        "\n",
        "The final fit here is already present in the generated model due to the way we set our parameters in the grid search. If we want to look at the performance, we can do so. Here is a non-helpful description of the best model:"
      ],
      "metadata": {
        "id": "bgas3lX9SQKh"
      }
    },
    {
      "cell_type": "code",
      "source": [
        "grid_search.best_estimator_"
      ],
      "metadata": {
        "id": "pVqsPcE6SRO6",
        "outputId": "b171aeb8-f5bf-4616-def7-237faefaadc9",
        "colab": {
          "base_uri": "https://localhost:8080/"
        }
      },
      "execution_count": 30,
      "outputs": [
        {
          "output_type": "execute_result",
          "data": {
            "text/plain": [
              "Pipeline(steps=[('preproc',\n",
              "                 ColumnTransformer(remainder='passthrough',\n",
              "                                   transformers=[('cat_pipe',\n",
              "                                                  Pipeline(steps=[('cat_impute',\n",
              "                                                                   SimpleImputer(strategy='most_frequent')),\n",
              "                                                                  ('onehot_cat',\n",
              "                                                                   OneHotEncoder(drop='if_binary'))]),\n",
              "                                                  <sklearn.compose._column_transformer.make_column_selector object at 0x7f6547362d90>),\n",
              "                                                 ('num_pipe',\n",
              "                                                  Pipeline(steps=[('impute_num',\n",
              "                                                                   SimpleImputer()),\n",
              "                                                                  ('scale_num',\n",
              "                                                                   StandardScaler())]),\n",
              "                                                  <sklearn.compose._column_transformer.make_column_selector object at 0x7f65486b65d0>)])),\n",
              "                ('mdl',\n",
              "                 LogisticRegression(C=316.22776601683796, l1_ratio=0.25,\n",
              "                                    penalty='elasticnet', solver='saga',\n",
              "                                    tol=0.01))])"
            ]
          },
          "metadata": {},
          "execution_count": 30
        }
      ]
    },
    {
      "cell_type": "code",
      "source": [
        "grid_search.classes_"
      ],
      "metadata": {
        "id": "nktpAJLLSUwY",
        "outputId": "e80eaee9-4f83-463b-e00f-2e5d96201623",
        "colab": {
          "base_uri": "https://localhost:8080/"
        }
      },
      "execution_count": 31,
      "outputs": [
        {
          "output_type": "execute_result",
          "data": {
            "text/plain": [
              "array([ 16,  32,  64, 128])"
            ]
          },
          "metadata": {},
          "execution_count": 31
        }
      ]
    },
    {
      "cell_type": "code",
      "source": [
        "vip = grid_search.best_estimator_['mdl'].coef_[0]\n",
        "vip"
      ],
      "metadata": {
        "id": "kn7zLNrWSVa9",
        "outputId": "d43dc941-0327-4046-b6b0-24827d166852",
        "colab": {
          "base_uri": "https://localhost:8080/"
        }
      },
      "execution_count": 32,
      "outputs": [
        {
          "output_type": "execute_result",
          "data": {
            "text/plain": [
              "array([ 0.40638053,  0.04839739, -0.99192903, -0.34039975, -1.00173066,\n",
              "        0.0131786 , -0.01519479, -2.62628858, -0.03284713, -0.05291106,\n",
              "       -0.01298691, -0.08773804, -0.03716173, -3.39438566,  0.54548542,\n",
              "       -1.13896791,  0.45614105])"
            ]
          },
          "metadata": {},
          "execution_count": 32
        }
      ]
    },
    {
      "cell_type": "code",
      "source": [
        "#get names in correct preproc order\n",
        "# cat_names = grid_search.best_estimator_.named_steps['preproc'].transformers_[0][1].named_steps['onehot_cat'].get_feature_names()\n",
        "num_names = grid_search.best_estimator_.named_steps['preproc'].transformers_[1][2]\n",
        "\n",
        "#create df with vip info\n",
        "#coef_info = pd.DataFrame({'feat_names':np.hstack([cat_names, num_names]), 'vip': vip})\n",
        "\n",
        "#get sign and magnitude information\n",
        "# coef_info = coef_info.assign(coef_mag = abs(coef_info['vip']),\n",
        "                             #coef_sign = np.sign(coef_info['vip']))\n",
        "\n",
        "#sort and plot\n",
        "#coef_info = coef_info.set_index('feat_names').sort_values(by='coef_mag', ascending=False)\n",
        "#sns.barplot(y=coef_info.index, x='coef_mag', hue='coef_sign', data=coef_info, orient='h', dodge=False);"
      ],
      "metadata": {
        "id": "JK5-H2GzSdVP"
      },
      "execution_count": 42,
      "outputs": []
    },
    {
      "cell_type": "markdown",
      "source": [
        "## Performance metrics on test data\n",
        "\n",
        "\n",
        "Here, we can see the performance of the model, which is pretty nice! We can also look into different scores specifically for more insight into the performance."
      ],
      "metadata": {
        "id": "K16tNEKqSht3"
      }
    },
    {
      "cell_type": "code",
      "source": [
        "print(classification_report(y_test, grid_search.best_estimator_.predict(X_test)))"
      ],
      "metadata": {
        "id": "fCXcBAuVSgDI",
        "outputId": "96255acf-23cd-4beb-aea4-3e877552c404",
        "colab": {
          "base_uri": "https://localhost:8080/"
        }
      },
      "execution_count": 36,
      "outputs": [
        {
          "output_type": "stream",
          "name": "stdout",
          "text": [
            "              precision    recall  f1-score   support\n",
            "\n",
            "          16       0.37      0.21      0.27      4736\n",
            "          32       0.43      0.51      0.47     11816\n",
            "          64       0.48      0.41      0.44     18896\n",
            "         128       0.70      0.77      0.73     24952\n",
            "\n",
            "    accuracy                           0.56     60400\n",
            "   macro avg       0.50      0.48      0.48     60400\n",
            "weighted avg       0.55      0.56      0.56     60400\n",
            "\n"
          ]
        }
      ]
    },
    {
      "cell_type": "code",
      "source": [
        "cm = confusion_matrix(y_test, grid_search.best_estimator_.predict(X_test))\n",
        "disp = ConfusionMatrixDisplay(confusion_matrix=cm,\n",
        "                               display_labels=grid_search.classes_)\n",
        "disp.plot()\n",
        "\n",
        "plt.show()"
      ],
      "metadata": {
        "id": "zR6LAImZSj7G",
        "outputId": "1383efe0-cda2-4a3f-cbc8-9ad01bd32129",
        "colab": {
          "base_uri": "https://localhost:8080/",
          "height": 279
        }
      },
      "execution_count": 37,
      "outputs": [
        {
          "output_type": "display_data",
          "data": {
            "text/plain": [
              "<Figure size 432x288 with 2 Axes>"
            ],
            "image/png": "[encoded data removed]"
          },
          "metadata": {
            "needs_background": "light"
          }
        }
      ]
    }
  ]
}